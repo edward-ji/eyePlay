{
 "cells": [
  {
   "cell_type": "code",
   "execution_count": 37,
   "id": "9a3a41e7-fdc3-4f1d-aa60-28490f7c879a",
   "metadata": {
    "scrolled": true
   },
   "outputs": [
    {
     "data": {
      "text/plain": [
       "[PosixPath('data/week10/1005BLINKS1.csv'),\n",
       " PosixPath('data/week10/1005BLINKS10.csv'),\n",
       " PosixPath('data/week10/1005BLINKS11.csv'),\n",
       " PosixPath('data/week10/1005BLINKS12.csv'),\n",
       " PosixPath('data/week10/1005BLINKS13.csv'),\n",
       " PosixPath('data/week10/1005BLINKS14.csv'),\n",
       " PosixPath('data/week10/1005BLINKS15.csv'),\n",
       " PosixPath('data/week10/1005BLINKS16.csv'),\n",
       " PosixPath('data/week10/1005BLINKS17.csv'),\n",
       " PosixPath('data/week10/1005BLINKS2.csv'),\n",
       " PosixPath('data/week10/1005BLINKS3.csv'),\n",
       " PosixPath('data/week10/1005BLINKS4.csv'),\n",
       " PosixPath('data/week10/1005BLINKS5.csv'),\n",
       " PosixPath('data/week10/1005BLINKS6.csv'),\n",
       " PosixPath('data/week10/1005BLINKS7.csv'),\n",
       " PosixPath('data/week10/1005BLINKS8.csv'),\n",
       " PosixPath('data/week10/1005BLINKS9.csv'),\n",
       " PosixPath('data/week6/40secondblinkwithlaps.csv'),\n",
       " PosixPath('data/week6/40seconddoubleblink.csv'),\n",
       " PosixPath('data/week6/40seconddoublelookleft.csv'),\n",
       " PosixPath('data/week6/40seconddoublelookright.csv'),\n",
       " PosixPath('data/week6/40secondlookleftlaps.csv'),\n",
       " PosixPath('data/week6/40secondlookrightlaps.csv'),\n",
       " PosixPath('data/week9/2204blinks.csv'),\n",
       " PosixPath('data/week9/2204looklefts.csv'),\n",
       " PosixPath('data/week9/2204looklefts1.csv'),\n",
       " PosixPath('data/week9/2204lookrights.csv'),\n",
       " PosixPath('data/week9/2204lookrights1.csv'),\n",
       " PosixPath('data/week9/double/blinks/2204doubleblinks.csv'),\n",
       " PosixPath('data/week9/double/blinks/2204doubleblinks1.csv'),\n",
       " PosixPath('data/week9/double/left/2204doubleleft.csv'),\n",
       " PosixPath('data/week9/double/left/2204doubleleft1.csv'),\n",
       " PosixPath('data/week9/double/right/2204doubleright.csv'),\n",
       " PosixPath('data/week9/double/right/2204doubleright1.csv'),\n",
       " PosixPath('data/week9/non_event/noneventdata2204.csv'),\n",
       " PosixPath('data/week9/non_event/noneventdata22204.csv'),\n",
       " PosixPath('data/week9/non_event/noneventdata32204.csv'),\n",
       " PosixPath('data/week9/test/2204classifiertest1.csv'),\n",
       " PosixPath('data/week9/test/2204classifiertest2.csv'),\n",
       " PosixPath('data/week9/test/2204classifiertest3.csv'),\n",
       " PosixPath('data/week9/test/2204classifiertest4.csv'),\n",
       " PosixPath('data/week9/test/2204classifiertest5.csv')]"
      ]
     },
     "execution_count": 37,
     "metadata": {},
     "output_type": "execute_result"
    }
   ],
   "source": [
    "from pathlib import Path\n",
    "\n",
    "data_dir = Path(\"data\")\n",
    "\n",
    "def filter_path(path):\n",
    "    return (path.parent.stem != \".ipynb_checkpoints\"\n",
    "        and \"week7\" not in str(path)\n",
    "        and \"week8\" not in str(path))\n",
    "\n",
    "data_paths = sorted(filter(filter_path, data_dir.glob(\"**/*.csv\")))\n",
    "data_paths"
   ]
  },
  {
   "cell_type": "code",
   "execution_count": 2,
   "id": "dcf7727d-74ca-486d-a7b1-0bf66372c1bb",
   "metadata": {},
   "outputs": [],
   "source": [
    "import numpy as np\n",
    "\n",
    "def load_data(path, with_laps=\"laps.txt\", reverse=True):\n",
    "    laps = []\n",
    "    if with_laps:\n",
    "        name = path.stem\n",
    "        found = False\n",
    "        laps_txt = path.parent / with_laps\n",
    "        if laps_txt.exists():\n",
    "            with open(laps_txt) as f:\n",
    "                for line in f.readlines():\n",
    "                    line = line.strip()\n",
    "                    if not line:\n",
    "                        pass\n",
    "                    elif not line.replace(\".\", \"\").isnumeric():\n",
    "                        if found:\n",
    "                            break\n",
    "                        if name == line:\n",
    "                            found = True\n",
    "                    elif found:\n",
    "                        laps.append(float(line))\n",
    "                laps = np.cumsum(np.array(laps))\n",
    "    arr = np.genfromtxt(path, delimiter=\",\")\n",
    "    time, amp = arr.T\n",
    "    if time[-1] < time[0]:\n",
    "        time = np.max(time) - time\n",
    "        amp = amp[::-1]\n",
    "\n",
    "    return time, amp, laps if len(laps) else None"
   ]
  },
  {
   "cell_type": "code",
   "execution_count": 3,
   "id": "583e384f-ae23-4f88-bbb3-61eed117fdba",
   "metadata": {},
   "outputs": [],
   "source": [
    "import matplotlib.pyplot as plt\n",
    "\n",
    "def plot_data(time, amp, laps=None, /, ax=None):\n",
    "    if ax is None:\n",
    "        ax = plt.gca()\n",
    "    ax.plot(time, amp)\n",
    "    if laps is not None:\n",
    "        ax.vlines(laps, np.min(amp), np.max(amp),\n",
    "                  color=\"red\")"
   ]
  },
  {
   "cell_type": "code",
   "execution_count": 203,
   "id": "abefd3f2-9ffb-484e-a916-c17e267c8983",
   "metadata": {},
   "outputs": [
    {
     "data": {
      "application/vnd.jupyter.widget-view+json": {
       "model_id": "c841554b908149a3b2850b42eb4c3930",
       "version_major": 2,
       "version_minor": 0
      },
      "text/plain": [
       "  0%|          | 0/42 [00:00<?, ?it/s]"
      ]
     },
     "metadata": {},
     "output_type": "display_data"
    }
   ],
   "source": [
    "from tqdm.auto import tqdm\n",
    "\n",
    "figure_dir = Path(\"figure\")\n",
    "\n",
    "for path in tqdm(data_paths):\n",
    "    fig, ax = plt.subplots(figsize=(12, 4))\n",
    "    time, amp, laps = load_data(path)\n",
    "    plot_data(time, amp, laps)\n",
    "    ax.set_title(path.stem)\n",
    "    where = figure_dir / path.relative_to(data_dir).with_suffix(\".png\")\n",
    "    where.parent.mkdir(parents=True, exist_ok=True)\n",
    "    fig.savefig(where)\n",
    "    plt.close()"
   ]
  },
  {
   "cell_type": "markdown",
   "id": "8f96f6b0-38a1-47fc-a44e-c7bd09b1ce58",
   "metadata": {},
   "source": [
    "## Event Detection"
   ]
  },
  {
   "cell_type": "markdown",
   "id": "ef4d5b5e-beb6-4ba0-af94-1e027a263e9f",
   "metadata": {},
   "source": [
    "### Moving Average of Absolute Difference"
   ]
  },
  {
   "cell_type": "code",
   "execution_count": 204,
   "id": "c74a98c2-0239-4d5a-8397-99feeb4632b7",
   "metadata": {},
   "outputs": [
    {
     "data": {
      "application/vnd.jupyter.widget-view+json": {
       "model_id": "bdb3fdad5a924d4799f5696b2dc30f97",
       "version_major": 2,
       "version_minor": 0
      },
      "text/plain": [
       "  0%|          | 0/42 [00:00<?, ?it/s]"
      ]
     },
     "metadata": {},
     "output_type": "display_data"
    }
   ],
   "source": [
    "from scipy.signal import find_peaks\n",
    "\n",
    "figure_dir = Path(\"figure/prominence_50/\")\n",
    "\n",
    "for path in tqdm(data_paths):\n",
    "    window_sec = 1.0\n",
    "    window_n = int(10_000 * window_sec)\n",
    "    \n",
    "    time, amp, laps = load_data(path)\n",
    "    \n",
    "    amp_mean = np.mean(amp)\n",
    "    abs_diff = np.r_[0, np.abs(np.diff(amp))]\n",
    "    moving_avg = np.convolve(abs_diff, np.ones(window_n), \"full\")[:-(window_n - 1)] / window_n\n",
    "    high_peaks, _ = find_peaks(amp - amp_mean, prominence=50)\n",
    "    low_peaks, _ = find_peaks(amp_mean - amp, prominence=50)\n",
    "    \n",
    "    fig = plt.figure(figsize=(12, 4))\n",
    "    plot_data(time, amp)\n",
    "    plot_data(time, np.where(moving_avg > 0.02, max(amp), min(amp)))\n",
    "    plt.scatter(time[high_peaks], amp[high_peaks], c=\"green\", marker=\"x\")\n",
    "    plt.scatter(time[low_peaks], amp[low_peaks], c=\"red\", marker=\"x\")\n",
    "    \n",
    "    where = figure_dir / path.relative_to(data_dir).with_suffix(\".png\")\n",
    "    where.parent.mkdir(parents=True, exist_ok=True)    \n",
    "    fig.savefig(where)\n",
    "    plt.close()"
   ]
  },
  {
   "cell_type": "markdown",
   "id": "f6310f60-f881-4021-beee-a80bce5d5d98",
   "metadata": {},
   "source": [
    "### Variance"
   ]
  },
  {
   "cell_type": "code",
   "execution_count": 367,
   "id": "8cf0bf6d-0961-468a-a151-bdca87c1017d",
   "metadata": {},
   "outputs": [
    {
     "data": {
      "application/vnd.jupyter.widget-view+json": {
       "model_id": "2c448ca4bbf0462a8e8158b83ed292cd",
       "version_major": 2,
       "version_minor": 0
      },
      "text/plain": [
       "  0%|          | 0/25 [00:00<?, ?it/s]"
      ]
     },
     "metadata": {},
     "output_type": "display_data"
    }
   ],
   "source": [
    "from scipy.signal import find_peaks\n",
    "\n",
    "figure_dir = Path(\"figure/prominence_90/\")\n",
    "\n",
    "for path in tqdm(data_paths):\n",
    "    window_sec = 1.0\n",
    "    window_n = int(10_000 * window_sec)\n",
    "    \n",
    "    time, amp, laps = load_data(path)\n",
    "    \n",
    "    amp_med = np.median(amp)\n",
    "    error = amp - amp_med\n",
    "    std = np.convolve(error ** 2, np.ones(window_n), \"full\")[:-(window_n - 1)] / window_n\n",
    "    high_peaks, _ = find_peaks(amp - amp_mean, prominence=90)\n",
    "    low_peaks, _ = find_peaks(amp_mean - amp, prominence=90)\n",
    "    \n",
    "    fig = plt.figure(figsize=(12, 4))\n",
    "    plot_data(time, amp)\n",
    "    plot_data(time, np.where(std > 150, max(amp), min(amp)))\n",
    "    plt.scatter(time[high_peaks], amp[high_peaks], c=\"green\", marker=\"x\")\n",
    "    plt.scatter(time[low_peaks], amp[low_peaks], c=\"red\", marker=\"x\")\n",
    "    \n",
    "    where = figure_dir / path.relative_to(data_dir).with_suffix(\".png\")\n",
    "    where.parent.mkdir(parents=True, exist_ok=True)    \n",
    "    fig.savefig(where)\n",
    "    plt.close()"
   ]
  },
  {
   "cell_type": "markdown",
   "id": "54d5b579-5a31-4c0a-964c-4bfecf64e93a",
   "metadata": {},
   "source": [
    "### Windowed Visualization"
   ]
  },
  {
   "cell_type": "code",
   "execution_count": 5,
   "id": "c6ebc5da-85ef-4609-b84d-b6cd3d6bd8f8",
   "metadata": {},
   "outputs": [],
   "source": [
    "def sliding_window(time,\n",
    "                   amp,\n",
    "                   laps=None,\n",
    "                   window_sec=1.0,\n",
    "                   window_inc=0.2,\n",
    "                   show_progress=True):\n",
    "    n_window = int((max(time) - window_sec) // window_inc)\n",
    "    iter_window = range(n_window)\n",
    "    if show_progress:\n",
    "        from tqdm.auto import tqdm\n",
    "        iter_window = tqdm(iter_window, leave=False)\n",
    "    for i in iter_window:\n",
    "        start_sec = window_inc * i\n",
    "        end_sec = start_sec + window_sec\n",
    "        mask = (start_sec <= time) & (time < end_sec)\n",
    "        if laps is not None:\n",
    "            laps_masked = laps[(start_sec <= laps) & (laps < end_sec)]\n",
    "            yield time[mask], amp[mask], laps_masked\n",
    "        else:\n",
    "            yield time[mask], amp[mask], None\n",
    "\n",
    "# windows = sliding_window(time, amp, laps)\n",
    "# for _ in range(25):\n",
    "#     next(windows)\n",
    "# window_time, window_amp, window_laps = next(windows)\n",
    "# plt.figure(figsize=(12, 4))\n",
    "# plot_data(window_time, window_amp, window_laps)\n",
    "# plt.show()"
   ]
  },
  {
   "cell_type": "code",
   "execution_count": 18,
   "id": "1ab91fce-9053-49b9-ae1a-89817d3989e5",
   "metadata": {
    "collapsed": true,
    "jupyter": {
     "outputs_hidden": true,
     "source_hidden": true
    }
   },
   "outputs": [
    {
     "data": {
      "application/vnd.jupyter.widget-view+json": {
       "model_id": "76e5518027ca4640aed98144e78a1809",
       "version_major": 2,
       "version_minor": 0
      },
      "text/plain": [
       "  0%|          | 0/40 [00:00<?, ?it/s]"
      ]
     },
     "metadata": {},
     "output_type": "display_data"
    },
    {
     "data": {
      "application/vnd.jupyter.widget-view+json": {
       "model_id": "",
       "version_major": 2,
       "version_minor": 0
      },
      "text/plain": [
       "  0%|          | 0/196 [00:00<?, ?it/s]"
      ]
     },
     "metadata": {},
     "output_type": "display_data"
    },
    {
     "data": {
      "application/vnd.jupyter.widget-view+json": {
       "model_id": "",
       "version_major": 2,
       "version_minor": 0
      },
      "text/plain": [
       "  0%|          | 0/196 [00:00<?, ?it/s]"
      ]
     },
     "metadata": {},
     "output_type": "display_data"
    },
    {
     "data": {
      "application/vnd.jupyter.widget-view+json": {
       "model_id": "",
       "version_major": 2,
       "version_minor": 0
      },
      "text/plain": [
       "  0%|          | 0/196 [00:00<?, ?it/s]"
      ]
     },
     "metadata": {},
     "output_type": "display_data"
    },
    {
     "data": {
      "application/vnd.jupyter.widget-view+json": {
       "model_id": "",
       "version_major": 2,
       "version_minor": 0
      },
      "text/plain": [
       "  0%|          | 0/196 [00:00<?, ?it/s]"
      ]
     },
     "metadata": {},
     "output_type": "display_data"
    },
    {
     "data": {
      "application/vnd.jupyter.widget-view+json": {
       "model_id": "",
       "version_major": 2,
       "version_minor": 0
      },
      "text/plain": [
       "  0%|          | 0/196 [00:00<?, ?it/s]"
      ]
     },
     "metadata": {},
     "output_type": "display_data"
    },
    {
     "data": {
      "application/vnd.jupyter.widget-view+json": {
       "model_id": "",
       "version_major": 2,
       "version_minor": 0
      },
      "text/plain": [
       "  0%|          | 0/196 [00:00<?, ?it/s]"
      ]
     },
     "metadata": {},
     "output_type": "display_data"
    },
    {
     "data": {
      "application/vnd.jupyter.widget-view+json": {
       "model_id": "",
       "version_major": 2,
       "version_minor": 0
      },
      "text/plain": [
       "  0%|          | 0/95 [00:00<?, ?it/s]"
      ]
     },
     "metadata": {},
     "output_type": "display_data"
    },
    {
     "data": {
      "application/vnd.jupyter.widget-view+json": {
       "model_id": "",
       "version_major": 2,
       "version_minor": 0
      },
      "text/plain": [
       "  0%|          | 0/95 [00:00<?, ?it/s]"
      ]
     },
     "metadata": {},
     "output_type": "display_data"
    },
    {
     "data": {
      "application/vnd.jupyter.widget-view+json": {
       "model_id": "",
       "version_major": 2,
       "version_minor": 0
      },
      "text/plain": [
       "  0%|          | 0/95 [00:00<?, ?it/s]"
      ]
     },
     "metadata": {},
     "output_type": "display_data"
    },
    {
     "data": {
      "application/vnd.jupyter.widget-view+json": {
       "model_id": "",
       "version_major": 2,
       "version_minor": 0
      },
      "text/plain": [
       "  0%|          | 0/95 [00:00<?, ?it/s]"
      ]
     },
     "metadata": {},
     "output_type": "display_data"
    },
    {
     "data": {
      "application/vnd.jupyter.widget-view+json": {
       "model_id": "",
       "version_major": 2,
       "version_minor": 0
      },
      "text/plain": [
       "  0%|          | 0/95 [00:00<?, ?it/s]"
      ]
     },
     "metadata": {},
     "output_type": "display_data"
    },
    {
     "data": {
      "application/vnd.jupyter.widget-view+json": {
       "model_id": "",
       "version_major": 2,
       "version_minor": 0
      },
      "text/plain": [
       "  0%|          | 0/95 [00:00<?, ?it/s]"
      ]
     },
     "metadata": {},
     "output_type": "display_data"
    },
    {
     "data": {
      "application/vnd.jupyter.widget-view+json": {
       "model_id": "",
       "version_major": 2,
       "version_minor": 0
      },
      "text/plain": [
       "  0%|          | 0/95 [00:00<?, ?it/s]"
      ]
     },
     "metadata": {},
     "output_type": "display_data"
    },
    {
     "data": {
      "application/vnd.jupyter.widget-view+json": {
       "model_id": "",
       "version_major": 2,
       "version_minor": 0
      },
      "text/plain": [
       "  0%|          | 0/95 [00:00<?, ?it/s]"
      ]
     },
     "metadata": {},
     "output_type": "display_data"
    },
    {
     "data": {
      "application/vnd.jupyter.widget-view+json": {
       "model_id": "",
       "version_major": 2,
       "version_minor": 0
      },
      "text/plain": [
       "  0%|          | 0/95 [00:00<?, ?it/s]"
      ]
     },
     "metadata": {},
     "output_type": "display_data"
    },
    {
     "data": {
      "application/vnd.jupyter.widget-view+json": {
       "model_id": "",
       "version_major": 2,
       "version_minor": 0
      },
      "text/plain": [
       "  0%|          | 0/95 [00:00<?, ?it/s]"
      ]
     },
     "metadata": {},
     "output_type": "display_data"
    },
    {
     "data": {
      "application/vnd.jupyter.widget-view+json": {
       "model_id": "",
       "version_major": 2,
       "version_minor": 0
      },
      "text/plain": [
       "  0%|          | 0/95 [00:00<?, ?it/s]"
      ]
     },
     "metadata": {},
     "output_type": "display_data"
    },
    {
     "data": {
      "application/vnd.jupyter.widget-view+json": {
       "model_id": "",
       "version_major": 2,
       "version_minor": 0
      },
      "text/plain": [
       "  0%|          | 0/95 [00:00<?, ?it/s]"
      ]
     },
     "metadata": {},
     "output_type": "display_data"
    },
    {
     "data": {
      "application/vnd.jupyter.widget-view+json": {
       "model_id": "",
       "version_major": 2,
       "version_minor": 0
      },
      "text/plain": [
       "  0%|          | 0/95 [00:00<?, ?it/s]"
      ]
     },
     "metadata": {},
     "output_type": "display_data"
    },
    {
     "data": {
      "application/vnd.jupyter.widget-view+json": {
       "model_id": "",
       "version_major": 2,
       "version_minor": 0
      },
      "text/plain": [
       "  0%|          | 0/95 [00:00<?, ?it/s]"
      ]
     },
     "metadata": {},
     "output_type": "display_data"
    },
    {
     "data": {
      "application/vnd.jupyter.widget-view+json": {
       "model_id": "",
       "version_major": 2,
       "version_minor": 0
      },
      "text/plain": [
       "  0%|          | 0/95 [00:00<?, ?it/s]"
      ]
     },
     "metadata": {},
     "output_type": "display_data"
    },
    {
     "data": {
      "application/vnd.jupyter.widget-view+json": {
       "model_id": "",
       "version_major": 2,
       "version_minor": 0
      },
      "text/plain": [
       "  0%|          | 0/95 [00:00<?, ?it/s]"
      ]
     },
     "metadata": {},
     "output_type": "display_data"
    },
    {
     "data": {
      "application/vnd.jupyter.widget-view+json": {
       "model_id": "",
       "version_major": 2,
       "version_minor": 0
      },
      "text/plain": [
       "  0%|          | 0/95 [00:00<?, ?it/s]"
      ]
     },
     "metadata": {},
     "output_type": "display_data"
    },
    {
     "data": {
      "application/vnd.jupyter.widget-view+json": {
       "model_id": "",
       "version_major": 2,
       "version_minor": 0
      },
      "text/plain": [
       "  0%|          | 0/95 [00:00<?, ?it/s]"
      ]
     },
     "metadata": {},
     "output_type": "display_data"
    },
    {
     "data": {
      "application/vnd.jupyter.widget-view+json": {
       "model_id": "",
       "version_major": 2,
       "version_minor": 0
      },
      "text/plain": [
       "  0%|          | 0/95 [00:00<?, ?it/s]"
      ]
     },
     "metadata": {},
     "output_type": "display_data"
    },
    {
     "data": {
      "text/html": [
       "<div>\n",
       "<style scoped>\n",
       "    .dataframe tbody tr th:only-of-type {\n",
       "        vertical-align: middle;\n",
       "    }\n",
       "\n",
       "    .dataframe tbody tr th {\n",
       "        vertical-align: top;\n",
       "    }\n",
       "\n",
       "    .dataframe thead th {\n",
       "        text-align: right;\n",
       "    }\n",
       "</style>\n",
       "<table border=\"1\" class=\"dataframe\">\n",
       "  <thead>\n",
       "    <tr style=\"text-align: right;\">\n",
       "      <th></th>\n",
       "      <th>x_acf1</th>\n",
       "      <th>x_acf10</th>\n",
       "      <th>diff1_acf1</th>\n",
       "      <th>diff1_acf10</th>\n",
       "      <th>diff2_acf1</th>\n",
       "      <th>diff2_acf10</th>\n",
       "    </tr>\n",
       "  </thead>\n",
       "  <tbody>\n",
       "    <tr>\n",
       "      <th>0</th>\n",
       "      <td>0.999924</td>\n",
       "      <td>9.988690</td>\n",
       "      <td>0.072457</td>\n",
       "      <td>0.051893</td>\n",
       "      <td>-0.499958</td>\n",
       "      <td>0.249958</td>\n",
       "    </tr>\n",
       "    <tr>\n",
       "      <th>1</th>\n",
       "      <td>0.999920</td>\n",
       "      <td>9.984171</td>\n",
       "      <td>0.137108</td>\n",
       "      <td>0.186062</td>\n",
       "      <td>-0.484861</td>\n",
       "      <td>0.235090</td>\n",
       "    </tr>\n",
       "    <tr>\n",
       "      <th>2</th>\n",
       "      <td>0.999934</td>\n",
       "      <td>9.986708</td>\n",
       "      <td>0.139567</td>\n",
       "      <td>0.192562</td>\n",
       "      <td>-0.499928</td>\n",
       "      <td>0.249928</td>\n",
       "    </tr>\n",
       "    <tr>\n",
       "      <th>3</th>\n",
       "      <td>0.999369</td>\n",
       "      <td>9.921325</td>\n",
       "      <td>0.726362</td>\n",
       "      <td>5.233059</td>\n",
       "      <td>-0.499345</td>\n",
       "      <td>0.249345</td>\n",
       "    </tr>\n",
       "    <tr>\n",
       "      <th>4</th>\n",
       "      <td>0.999733</td>\n",
       "      <td>9.941918</td>\n",
       "      <td>0.252239</td>\n",
       "      <td>0.628460</td>\n",
       "      <td>-0.499860</td>\n",
       "      <td>0.249860</td>\n",
       "    </tr>\n",
       "    <tr>\n",
       "      <th>...</th>\n",
       "      <td>...</td>\n",
       "      <td>...</td>\n",
       "      <td>...</td>\n",
       "      <td>...</td>\n",
       "      <td>...</td>\n",
       "      <td>...</td>\n",
       "    </tr>\n",
       "    <tr>\n",
       "      <th>2976</th>\n",
       "      <td>0.999345</td>\n",
       "      <td>9.917802</td>\n",
       "      <td>0.033389</td>\n",
       "      <td>0.010879</td>\n",
       "      <td>-0.499980</td>\n",
       "      <td>0.249980</td>\n",
       "    </tr>\n",
       "    <tr>\n",
       "      <th>2977</th>\n",
       "      <td>0.999468</td>\n",
       "      <td>9.933783</td>\n",
       "      <td>0.033331</td>\n",
       "      <td>0.010836</td>\n",
       "      <td>-0.499980</td>\n",
       "      <td>0.249980</td>\n",
       "    </tr>\n",
       "    <tr>\n",
       "      <th>2978</th>\n",
       "      <td>0.999269</td>\n",
       "      <td>9.909868</td>\n",
       "      <td>0.033217</td>\n",
       "      <td>0.010783</td>\n",
       "      <td>-0.499980</td>\n",
       "      <td>0.249980</td>\n",
       "    </tr>\n",
       "    <tr>\n",
       "      <th>2979</th>\n",
       "      <td>0.999377</td>\n",
       "      <td>9.921690</td>\n",
       "      <td>0.390985</td>\n",
       "      <td>1.492148</td>\n",
       "      <td>-0.499697</td>\n",
       "      <td>0.249697</td>\n",
       "    </tr>\n",
       "    <tr>\n",
       "      <th>2980</th>\n",
       "      <td>0.999590</td>\n",
       "      <td>9.946728</td>\n",
       "      <td>0.195115</td>\n",
       "      <td>0.372365</td>\n",
       "      <td>-0.499865</td>\n",
       "      <td>0.249865</td>\n",
       "    </tr>\n",
       "  </tbody>\n",
       "</table>\n",
       "<p>2981 rows × 6 columns</p>\n",
       "</div>"
      ],
      "text/plain": [
       "        x_acf1   x_acf10  diff1_acf1  diff1_acf10  diff2_acf1  diff2_acf10\n",
       "0     0.999924  9.988690    0.072457     0.051893   -0.499958     0.249958\n",
       "1     0.999920  9.984171    0.137108     0.186062   -0.484861     0.235090\n",
       "2     0.999934  9.986708    0.139567     0.192562   -0.499928     0.249928\n",
       "3     0.999369  9.921325    0.726362     5.233059   -0.499345     0.249345\n",
       "4     0.999733  9.941918    0.252239     0.628460   -0.499860     0.249860\n",
       "...        ...       ...         ...          ...         ...          ...\n",
       "2976  0.999345  9.917802    0.033389     0.010879   -0.499980     0.249980\n",
       "2977  0.999468  9.933783    0.033331     0.010836   -0.499980     0.249980\n",
       "2978  0.999269  9.909868    0.033217     0.010783   -0.499980     0.249980\n",
       "2979  0.999377  9.921690    0.390985     1.492148   -0.499697     0.249697\n",
       "2980  0.999590  9.946728    0.195115     0.372365   -0.499865     0.249865\n",
       "\n",
       "[2981 rows x 6 columns]"
      ]
     },
     "execution_count": 18,
     "metadata": {},
     "output_type": "execute_result"
    }
   ],
   "source": [
    "import pandas as pd\n",
    "from tqdm.auto import tqdm\n",
    "from tsfeatures import acf_features\n",
    "\n",
    "df_acf = pd.DataFrame()\n",
    "for path in filter(lambda path: any(keyword in str(path)\n",
    "                                    for keyword in (\"week6\", \"week9\")),\n",
    "                   tqdm(data_paths)):\n",
    "    time, amp, laps = load_data(path)\n",
    "    feat = [acf_features(amp) for _, amp, _ in sliding_window(time, amp)]\n",
    "    df_acf = pd.concat([df_acf, pd.DataFrame(feat)], ignore_index=True)\n",
    "\n",
    "df_acf.to_csv(\"data/week6_9_acf.csv\")\n",
    "\n",
    "from sklearn.preprocessing import StandardScaler\n",
    "from sklearn.cluster import KMeans\n",
    "\n",
    "X = df_acf.to_numpy()\n",
    "\n",
    "scaler = StandardScaler()\n",
    "X_scaled = scaler.fit_transform(X)\n",
    "\n",
    "clustering = KMeans(n_clusters=3)\n",
    "y = clustering.fit_predict(X_scaled)\n",
    "np.unique(y, return_counts=True)"
   ]
  },
  {
   "cell_type": "code",
   "execution_count": 6,
   "id": "7bc03b8f-3ea0-4ada-9863-504a1c676c0d",
   "metadata": {},
   "outputs": [],
   "source": [
    "def predict_event(time, amp,\n",
    "                  event_classifier,\n",
    "                  window_sec=1.2,\n",
    "                  window_inc=0.05,\n",
    "                  event_skip=None):\n",
    "    if event_skip is None:\n",
    "        event_skip = int(window_sec // window_inc)\n",
    "    windows = sliding_window(time, amp)\n",
    "    while (window := next(windows, None)) is not None:\n",
    "        window_time, window_amp, _ = window\n",
    "        has_event = event_classifier(window_amp)\n",
    "        if has_event:\n",
    "            yield min(window_time), max(window_time)\n",
    "            for _ in range(event_skip):\n",
    "                next(windows, None)"
   ]
  },
  {
   "cell_type": "code",
   "execution_count": 11,
   "id": "46d8b07c-bde3-44c3-8760-e9bc6942ce9a",
   "metadata": {},
   "outputs": [
    {
     "data": {
      "application/vnd.jupyter.widget-view+json": {
       "model_id": "",
       "version_major": 2,
       "version_minor": 0
      },
      "text/plain": [
       "  0%|          | 0/94 [00:00<?, ?it/s]"
      ]
     },
     "metadata": {},
     "output_type": "display_data"
    },
    {
     "data": {
      "image/png": "[encoded data removed]",
      "text/plain": [
       "<Figure size 1200x400 with 1 Axes>"
      ]
     },
     "metadata": {},
     "output_type": "display_data"
    }
   ],
   "source": [
    "def classifier(amp):\n",
    "    return np.var(amp) > 250\n",
    "\n",
    "time, amp, laps = load_data(Path(\"./data/week9/2204looklefts1.csv\"))\n",
    "\n",
    "threshold = np.std(amp)\n",
    "\n",
    "events = [*predict_event(time, amp,\n",
    "                         classifier,\n",
    "                         window_sec=0.1,\n",
    "                         window_inc=0.1,\n",
    "                         event_skip=0)]\n",
    "plt.figure(figsize=(12, 4))\n",
    "for event_start, event_end in events:\n",
    "    plt.vlines(event_end, min(amp), max(amp), color=\"limegreen\")\n",
    "plot_data(time, amp, laps)\n",
    "plt.savefig(\"2204doubleleft.png\")\n",
    "plt.show()"
   ]
  },
  {
   "cell_type": "markdown",
   "id": "f280d08c-4162-40fb-b1ea-f74237efdcba",
   "metadata": {},
   "source": [
    "## Slice"
   ]
  },
  {
   "cell_type": "code",
   "execution_count": 187,
   "id": "1868a6ba-a86e-471e-b980-245a7c45670e",
   "metadata": {},
   "outputs": [
    {
     "data": {
      "application/vnd.jupyter.widget-view+json": {
       "model_id": "0bc3c8fde8064d6cbff762e6c36c2f27",
       "version_major": 2,
       "version_minor": 0
      },
      "text/plain": [
       "  0%|          | 0/42 [00:00<?, ?it/s]"
      ]
     },
     "metadata": {},
     "output_type": "display_data"
    }
   ],
   "source": [
    "import re\n",
    "import pandas as pd\n",
    "from tqdm.auto import tqdm\n",
    "\n",
    "clip_df = []\n",
    "for path in tqdm(data_paths):\n",
    "    week = int(re.search(r\"/week(\\d+)/\", str(path), flags=re.I).group(1))\n",
    "    for s in (\"left\", \"right\", \"blink\", \"no\", \"test\"):\n",
    "        if s in str(path).lower():\n",
    "            label = s\n",
    "            break\n",
    "    else:\n",
    "        raise ValueError()\n",
    "\n",
    "    double = \"double\" in str(path)\n",
    "\n",
    "    window_sec = 1.0\n",
    "    window_n = int(10_000 * window_sec)\n",
    "    minimum_sec = 0.2\n",
    "    minimum_n = int(10_000 * minimum_sec)\n",
    "    \n",
    "    time, amp, laps = load_data(path)\n",
    "    \n",
    "    amp_med = np.median(amp)\n",
    "    error = amp - amp_med\n",
    "    std = np.convolve(error ** 2, np.ones(window_n), \"full\")[:-(window_n - 1)] / window_n\n",
    "    event = (std > 150).astype(int)\n",
    "    for i, j in np.where(np.diff(np.r_[0, event, 0]))[0].reshape(-1, 2):\n",
    "        if j - i < minimum_n:\n",
    "            continue\n",
    "        clip_time = time[max(0, i - window_n):j]\n",
    "        clip_amp = amp[max(0, i - window_n):j]\n",
    "        clip_df.append({\n",
    "            \"week\": week,\n",
    "            \"path\": str(path),\n",
    "            \"label\": label,\n",
    "            \"double\": double,\n",
    "            \"time\": clip_time,\n",
    "            \"amp\": clip_amp,\n",
    "        })\n",
    "\n",
    "clip_df = pd.DataFrame(clip_df)"
   ]
  },
  {
   "cell_type": "markdown",
   "id": "e2d3ad5a-4874-4e64-8b77-0cf1dbae1a2e",
   "metadata": {},
   "source": [
    "The method used here is the minimum difference in indicies between peaks (high or low).\n",
    "\n",
    "_20,000 indicies = 1 second_"
   ]
  },
  {
   "cell_type": "code",
   "execution_count": 299,
   "id": "b4ff4288-c33a-4d4a-901f-5aca2877c689",
   "metadata": {
    "scrolled": true
   },
   "outputs": [
    {
     "data": {
      "application/vnd.jupyter.widget-view+json": {
       "model_id": "5f4e22270e79432fb399b9e09167094f",
       "version_major": 2,
       "version_minor": 0
      },
      "text/plain": [
       "  0%|          | 0/69 [00:00<?, ?it/s]"
      ]
     },
     "metadata": {},
     "output_type": "display_data"
    },
    {
     "data": {
      "text/html": [
       "<div>\n",
       "<style scoped>\n",
       "    .dataframe tbody tr th:only-of-type {\n",
       "        vertical-align: middle;\n",
       "    }\n",
       "\n",
       "    .dataframe tbody tr th {\n",
       "        vertical-align: top;\n",
       "    }\n",
       "\n",
       "    .dataframe thead th {\n",
       "        text-align: right;\n",
       "    }\n",
       "</style>\n",
       "<table border=\"1\" class=\"dataframe\">\n",
       "  <thead>\n",
       "    <tr style=\"text-align: right;\">\n",
       "      <th></th>\n",
       "      <th>index</th>\n",
       "      <th>week</th>\n",
       "      <th>path</th>\n",
       "      <th>label</th>\n",
       "      <th>double</th>\n",
       "      <th>min_diff_peak</th>\n",
       "    </tr>\n",
       "  </thead>\n",
       "  <tbody>\n",
       "    <tr>\n",
       "      <th>0</th>\n",
       "      <td>44</td>\n",
       "      <td>10</td>\n",
       "      <td>data/week10/1005BLINKS4.csv</td>\n",
       "      <td>blink</td>\n",
       "      <td>False</td>\n",
       "      <td>0</td>\n",
       "    </tr>\n",
       "    <tr>\n",
       "      <th>1</th>\n",
       "      <td>45</td>\n",
       "      <td>10</td>\n",
       "      <td>data/week10/1005BLINKS4.csv</td>\n",
       "      <td>blink</td>\n",
       "      <td>False</td>\n",
       "      <td>1264</td>\n",
       "    </tr>\n",
       "    <tr>\n",
       "      <th>2</th>\n",
       "      <td>46</td>\n",
       "      <td>10</td>\n",
       "      <td>data/week10/1005BLINKS4.csv</td>\n",
       "      <td>blink</td>\n",
       "      <td>False</td>\n",
       "      <td>0</td>\n",
       "    </tr>\n",
       "    <tr>\n",
       "      <th>3</th>\n",
       "      <td>47</td>\n",
       "      <td>10</td>\n",
       "      <td>data/week10/1005BLINKS4.csv</td>\n",
       "      <td>blink</td>\n",
       "      <td>False</td>\n",
       "      <td>0</td>\n",
       "    </tr>\n",
       "    <tr>\n",
       "      <th>4</th>\n",
       "      <td>48</td>\n",
       "      <td>10</td>\n",
       "      <td>data/week10/1005BLINKS4.csv</td>\n",
       "      <td>blink</td>\n",
       "      <td>False</td>\n",
       "      <td>0</td>\n",
       "    </tr>\n",
       "    <tr>\n",
       "      <th>...</th>\n",
       "      <td>...</td>\n",
       "      <td>...</td>\n",
       "      <td>...</td>\n",
       "      <td>...</td>\n",
       "      <td>...</td>\n",
       "      <td>...</td>\n",
       "    </tr>\n",
       "    <tr>\n",
       "      <th>64</th>\n",
       "      <td>145</td>\n",
       "      <td>9</td>\n",
       "      <td>data/week9/2204lookrights.csv</td>\n",
       "      <td>right</td>\n",
       "      <td>False</td>\n",
       "      <td>255</td>\n",
       "    </tr>\n",
       "    <tr>\n",
       "      <th>65</th>\n",
       "      <td>146</td>\n",
       "      <td>9</td>\n",
       "      <td>data/week9/2204lookrights1.csv</td>\n",
       "      <td>right</td>\n",
       "      <td>False</td>\n",
       "      <td>2831</td>\n",
       "    </tr>\n",
       "    <tr>\n",
       "      <th>66</th>\n",
       "      <td>147</td>\n",
       "      <td>9</td>\n",
       "      <td>data/week9/2204lookrights1.csv</td>\n",
       "      <td>right</td>\n",
       "      <td>False</td>\n",
       "      <td>535</td>\n",
       "    </tr>\n",
       "    <tr>\n",
       "      <th>67</th>\n",
       "      <td>148</td>\n",
       "      <td>9</td>\n",
       "      <td>data/week9/2204lookrights1.csv</td>\n",
       "      <td>right</td>\n",
       "      <td>False</td>\n",
       "      <td>2226</td>\n",
       "    </tr>\n",
       "    <tr>\n",
       "      <th>68</th>\n",
       "      <td>149</td>\n",
       "      <td>9</td>\n",
       "      <td>data/week9/2204lookrights1.csv</td>\n",
       "      <td>right</td>\n",
       "      <td>False</td>\n",
       "      <td>3575</td>\n",
       "    </tr>\n",
       "  </tbody>\n",
       "</table>\n",
       "<p>69 rows × 6 columns</p>\n",
       "</div>"
      ],
      "text/plain": [
       "    index  week                            path  label  double  min_diff_peak\n",
       "0      44    10     data/week10/1005BLINKS4.csv  blink   False              0\n",
       "1      45    10     data/week10/1005BLINKS4.csv  blink   False           1264\n",
       "2      46    10     data/week10/1005BLINKS4.csv  blink   False              0\n",
       "3      47    10     data/week10/1005BLINKS4.csv  blink   False              0\n",
       "4      48    10     data/week10/1005BLINKS4.csv  blink   False              0\n",
       "..    ...   ...                             ...    ...     ...            ...\n",
       "64    145     9   data/week9/2204lookrights.csv  right   False            255\n",
       "65    146     9  data/week9/2204lookrights1.csv  right   False           2831\n",
       "66    147     9  data/week9/2204lookrights1.csv  right   False            535\n",
       "67    148     9  data/week9/2204lookrights1.csv  right   False           2226\n",
       "68    149     9  data/week9/2204lookrights1.csv  right   False           3575\n",
       "\n",
       "[69 rows x 6 columns]"
      ]
     },
     "execution_count": 299,
     "metadata": {},
     "output_type": "execute_result"
    }
   ],
   "source": [
    "from scipy.signal import find_peaks\n",
    "\n",
    "tqdm.pandas()\n",
    "\n",
    "def clip_features(amp):\n",
    "    high_peaks, _ = find_peaks(amp, prominence=50)\n",
    "    low_peaks, _ = find_peaks(-amp, prominence=50)\n",
    "    peaks = np.sort(np.concatenate([high_peaks, low_peaks]))\n",
    "    min_diff_peak = min(np.diff(peaks)) if len(peaks) > 1 else 0\n",
    "    return {\n",
    "        \"min_diff_peak\": min_diff_peak\n",
    "    }\n",
    "\n",
    "clip9_df = clip_df[((clip_df[\"week\"].isin([6, 9]))\n",
    "                    | ((clip_df[\"week\"] == 10) & (clip_df[\"path\"].isin([\"data/week10/1005BLINKS4.csv\", \"data/week10/1005BLINKS5.csv\", \"data/week10/1005BLINKS6.csv\"]))))\n",
    "    & (~clip_df[\"label\"].isin([\"test\", \"no\"]))\n",
    "    & (~clip_df[\"double\"])].reset_index()\n",
    "clip_feat = pd.DataFrame([*clip9_df[\"amp\"].progress_apply(clip_features)])\n",
    "clip_feat_df = clip9_df.drop(columns=[\"time\", \"amp\"]).join(clip_feat)\n",
    "clip_feat_df"
   ]
  },
  {
   "cell_type": "code",
   "execution_count": 300,
   "id": "6d4dbcc0-7b9f-4190-aa32-3a05be4a8980",
   "metadata": {},
   "outputs": [
    {
     "data": {
      "text/plain": [
       "0.810989010989011"
      ]
     },
     "execution_count": 300,
     "metadata": {},
     "output_type": "execute_result"
    }
   ],
   "source": [
    "from sklearn.preprocessing import StandardScaler\n",
    "from sklearn.tree import DecisionTreeClassifier\n",
    "from sklearn.metrics import accuracy_score\n",
    "from sklearn.model_selection import StratifiedKFold\n",
    "\n",
    "X = clip_feat_df.iloc[:, 5:].to_numpy()\n",
    "y = (clip_feat_df[\"label\"] == \"blink\").to_numpy()\n",
    "\n",
    "kf = StratifiedKFold(n_splits=5, shuffle=True, random_state=42)\n",
    "scores = []\n",
    "for i, (train_index, test_index) in enumerate(kf.split(X, y)):\n",
    "    X_train = X[train_index]\n",
    "    y_train = y[train_index]\n",
    "    X_test = X[test_index]\n",
    "    y_test = y[test_index]\n",
    "\n",
    "    model = DecisionTreeClassifier(max_depth=1)\n",
    "    model.fit(X_train, y_train)\n",
    "    scores.append(accuracy_score(y_test, model.predict(X_test)))\n",
    "np.mean(scores)"
   ]
  },
  {
   "cell_type": "code",
   "execution_count": 301,
   "id": "b7d071c4-00f2-4bcb-9522-aefd93b9bbcb",
   "metadata": {},
   "outputs": [
    {
     "name": "stdout",
     "output_type": "stream",
     "text": [
      "score: 82.6%\n"
     ]
    },
    {
     "data": {
      "image/png": "[encoded data removed]",
      "text/plain": [
       "<Figure size 640x480 with 1 Axes>"
      ]
     },
     "metadata": {},
     "output_type": "display_data"
    }
   ],
   "source": [
    "model = DecisionTreeClassifier(max_depth=1)\n",
    "model.fit(X, y)\n",
    "print(f\"score: {model.score(X, y):.1%}\")\n",
    "\n",
    "plot_tree(model, feature_names=clip_feat_df.columns[5:], class_names=[\"blink\", \"not blink\"])\n",
    "plt.show()"
   ]
  },
  {
   "cell_type": "code",
   "execution_count": null,
   "id": "dcc321a9-161d-4148-b574-6620cc0dbd4f",
   "metadata": {},
   "outputs": [],
   "source": []
  }
 ],
 "metadata": {
  "kernelspec": {
   "display_name": "Python 3 (ipykernel)",
   "language": "python",
   "name": "python3"
  },
  "language_info": {
   "codemirror_mode": {
    "name": "ipython",
    "version": 3
   },
   "file_extension": ".py",
   "mimetype": "text/x-python",
   "name": "python",
   "nbconvert_exporter": "python",
   "pygments_lexer": "ipython3",
   "version": "3.12.3"
  }
 },
 "nbformat": 4,
 "nbformat_minor": 5
}
