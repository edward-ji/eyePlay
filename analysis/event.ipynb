{
 "cells": [
  {
   "cell_type": "code",
   "execution_count": 332,
   "id": "9a3a41e7-fdc3-4f1d-aa60-28490f7c879a",
   "metadata": {
    "scrolled": true
   },
   "outputs": [
    {
     "data": {
      "text/plain": [
       "[PosixPath('data/week6/40secondblinkwithlaps.csv'),\n",
       " PosixPath('data/week6/40seconddoubleblink.csv'),\n",
       " PosixPath('data/week6/40seconddoublelookleft.csv'),\n",
       " PosixPath('data/week6/40seconddoublelookright.csv'),\n",
       " PosixPath('data/week6/40secondlookleftlaps.csv'),\n",
       " PosixPath('data/week6/40secondlookrightlaps.csv'),\n",
       " PosixPath('data/week9/2204blinks.csv'),\n",
       " PosixPath('data/week9/2204looklefts.csv'),\n",
       " PosixPath('data/week9/2204looklefts1.csv'),\n",
       " PosixPath('data/week9/2204lookrights.csv'),\n",
       " PosixPath('data/week9/2204lookrights1.csv'),\n",
       " PosixPath('data/week9/double/blinks/2204doubleblinks.csv'),\n",
       " PosixPath('data/week9/double/blinks/2204doubleblinks1.csv'),\n",
       " PosixPath('data/week9/double/left/2204doubleleft.csv'),\n",
       " PosixPath('data/week9/double/left/2204doubleleft1.csv'),\n",
       " PosixPath('data/week9/double/right/2204doubleright.csv'),\n",
       " PosixPath('data/week9/double/right/2204doubleright1.csv'),\n",
       " PosixPath('data/week9/non_event/noneventdata2204.csv'),\n",
       " PosixPath('data/week9/non_event/noneventdata22204.csv'),\n",
       " PosixPath('data/week9/non_event/noneventdata32204.csv'),\n",
       " PosixPath('data/week9/test/2204classifiertest1.csv'),\n",
       " PosixPath('data/week9/test/2204classifiertest2.csv'),\n",
       " PosixPath('data/week9/test/2204classifiertest3.csv'),\n",
       " PosixPath('data/week9/test/2204classifiertest4.csv'),\n",
       " PosixPath('data/week9/test/2204classifiertest5.csv')]"
      ]
     },
     "execution_count": 332,
     "metadata": {},
     "output_type": "execute_result"
    }
   ],
   "source": [
    "from pathlib import Path\n",
    "\n",
    "data_dir = Path(\"data\")\n",
    "\n",
    "def filter_path(path):\n",
    "    return (path.parent.stem != \".ipynb_checkpoints\"\n",
    "        and \"week7\" not in str(path)\n",
    "        and \"week8\" not in str(path))\n",
    "\n",
    "data_paths = sorted(filter(filter_path, data_dir.glob(\"**/*.csv\")))\n",
    "data_paths"
   ]
  },
  {
   "cell_type": "code",
   "execution_count": 160,
   "id": "dcf7727d-74ca-486d-a7b1-0bf66372c1bb",
   "metadata": {},
   "outputs": [],
   "source": [
    "import numpy as np\n",
    "\n",
    "def load_data(path, with_laps=\"laps.txt\", reverse=True):\n",
    "    laps = []\n",
    "    if with_laps:\n",
    "        name = path.stem\n",
    "        found = False\n",
    "        laps_txt = path.parent / with_laps\n",
    "        if laps_txt.exists():\n",
    "            with open(laps_txt) as f:\n",
    "                for line in f.readlines():\n",
    "                    line = line.strip()\n",
    "                    if not line:\n",
    "                        pass\n",
    "                    elif not line.replace(\".\", \"\").isnumeric():\n",
    "                        if found:\n",
    "                            break\n",
    "                        if name == line:\n",
    "                            found = True\n",
    "                    elif found:\n",
    "                        laps.append(float(line))\n",
    "                laps = np.cumsum(np.array(laps))\n",
    "    arr = np.genfromtxt(path, delimiter=\",\")\n",
    "    time, amp = arr.T\n",
    "    if time[-1] < time[0]:\n",
    "        time = np.max(time) - time\n",
    "        amp = amp[::-1]\n",
    "\n",
    "    return time, amp, laps if len(laps) else None"
   ]
  },
  {
   "cell_type": "code",
   "execution_count": 3,
   "id": "583e384f-ae23-4f88-bbb3-61eed117fdba",
   "metadata": {},
   "outputs": [],
   "source": [
    "import matplotlib.pyplot as plt\n",
    "\n",
    "def plot_data(time, amp, laps=None, /, ax=None):\n",
    "    if ax is None:\n",
    "        ax = plt.gca()\n",
    "    ax.plot(time, amp)\n",
    "    if laps is not None:\n",
    "        ax.vlines(laps, np.min(amp), np.max(amp),\n",
    "                  color=\"red\")"
   ]
  },
  {
   "cell_type": "code",
   "execution_count": 4,
   "id": "abefd3f2-9ffb-484e-a916-c17e267c8983",
   "metadata": {},
   "outputs": [],
   "source": [
    "figure_dir = Path(\"figure\")\n",
    "\n",
    "for path in data_paths:\n",
    "    fig, ax = plt.subplots(figsize=(12, 4))\n",
    "    time, amp, laps = load_data(path)\n",
    "    plot_data(time, amp, laps)\n",
    "    ax.set_title(path.stem)\n",
    "    where = figure_dir / path.relative_to(data_dir).with_suffix(\".png\")\n",
    "    where.parent.mkdir(parents=True, exist_ok=True)\n",
    "    fig.savefig(where)\n",
    "    plt.close()"
   ]
  },
  {
   "cell_type": "markdown",
   "id": "8f96f6b0-38a1-47fc-a44e-c7bd09b1ce58",
   "metadata": {},
   "source": [
    "## Event Detection"
   ]
  },
  {
   "cell_type": "markdown",
   "id": "ef4d5b5e-beb6-4ba0-af94-1e027a263e9f",
   "metadata": {},
   "source": [
    "### Moving Average of Absolute Difference"
   ]
  },
  {
   "cell_type": "code",
   "execution_count": 350,
   "id": "c74a98c2-0239-4d5a-8397-99feeb4632b7",
   "metadata": {},
   "outputs": [
    {
     "data": {
      "application/vnd.jupyter.widget-view+json": {
       "model_id": "b076c5ac7e314bac9dee26b1902989c9",
       "version_major": 2,
       "version_minor": 0
      },
      "text/plain": [
       "  0%|          | 0/25 [00:00<?, ?it/s]"
      ]
     },
     "metadata": {},
     "output_type": "display_data"
    }
   ],
   "source": [
    "from scipy.signal import find_peaks\n",
    "\n",
    "figure_dir = Path(\"figure/abs_diff_020/\")\n",
    "\n",
    "for path in tqdm(data_paths):\n",
    "    window_sec = 1.0\n",
    "    window_n = int(10_000 * window_sec)\n",
    "    \n",
    "    time, amp, laps = load_data(path)\n",
    "    \n",
    "    amp_mean = np.mean(amp)\n",
    "    abs_diff = np.r_[0, np.abs(np.diff(amp))]\n",
    "    moving_avg = np.convolve(abs_diff, np.ones(window_n), \"full\")[:-(window_n - 1)] / window_n\n",
    "    high_peaks, _ = find_peaks(amp - amp_mean, prominence=100)\n",
    "    low_peaks, _ = find_peaks(amp_mean - amp, prominence=100)\n",
    "    \n",
    "    fig = plt.figure(figsize=(12, 4))\n",
    "    plot_data(time, amp)\n",
    "    plot_data(time, np.where(moving_avg > 0.02, max(amp), min(amp)))\n",
    "    plt.scatter(time[high_peaks], amp[high_peaks], c=\"green\", marker=\"x\")\n",
    "    plt.scatter(time[low_peaks], amp[low_peaks], c=\"red\", marker=\"x\")\n",
    "    \n",
    "    where = figure_dir / path.relative_to(data_dir).with_suffix(\".png\")\n",
    "    where.parent.mkdir(parents=True, exist_ok=True)    \n",
    "    fig.savefig(where)\n",
    "    plt.close()"
   ]
  },
  {
   "cell_type": "markdown",
   "id": "f6310f60-f881-4021-beee-a80bce5d5d98",
   "metadata": {},
   "source": [
    "### Variance"
   ]
  },
  {
   "cell_type": "code",
   "execution_count": 367,
   "id": "8cf0bf6d-0961-468a-a151-bdca87c1017d",
   "metadata": {},
   "outputs": [
    {
     "data": {
      "application/vnd.jupyter.widget-view+json": {
       "model_id": "2c448ca4bbf0462a8e8158b83ed292cd",
       "version_major": 2,
       "version_minor": 0
      },
      "text/plain": [
       "  0%|          | 0/25 [00:00<?, ?it/s]"
      ]
     },
     "metadata": {},
     "output_type": "display_data"
    }
   ],
   "source": [
    "from scipy.signal import find_peaks\n",
    "\n",
    "figure_dir = Path(\"figure/prominence_90/\")\n",
    "\n",
    "for path in tqdm(data_paths):\n",
    "    window_sec = 1.0\n",
    "    window_n = int(10_000 * window_sec)\n",
    "    \n",
    "    time, amp, laps = load_data(path)\n",
    "    \n",
    "    amp_med = np.median(amp)\n",
    "    error = amp - amp_med\n",
    "    std = np.convolve(error ** 2, np.ones(window_n), \"full\")[:-(window_n - 1)] / window_n\n",
    "    high_peaks, _ = find_peaks(amp - amp_mean, prominence=90)\n",
    "    low_peaks, _ = find_peaks(amp_mean - amp, prominence=90)\n",
    "    \n",
    "    fig = plt.figure(figsize=(12, 4))\n",
    "    plot_data(time, amp)\n",
    "    plot_data(time, np.where(std > 150, max(amp), min(amp)))\n",
    "    plt.scatter(time[high_peaks], amp[high_peaks], c=\"green\", marker=\"x\")\n",
    "    plt.scatter(time[low_peaks], amp[low_peaks], c=\"red\", marker=\"x\")\n",
    "    \n",
    "    where = figure_dir / path.relative_to(data_dir).with_suffix(\".png\")\n",
    "    where.parent.mkdir(parents=True, exist_ok=True)    \n",
    "    fig.savefig(where)\n",
    "    plt.close()"
   ]
  },
  {
   "cell_type": "markdown",
   "id": "54d5b579-5a31-4c0a-964c-4bfecf64e93a",
   "metadata": {},
   "source": [
    "### Windowed Visualization"
   ]
  },
  {
   "cell_type": "code",
   "execution_count": 48,
   "id": "c6ebc5da-85ef-4609-b84d-b6cd3d6bd8f8",
   "metadata": {},
   "outputs": [],
   "source": [
    "def sliding_window(time,\n",
    "                   amp,\n",
    "                   laps=None,\n",
    "                   window_sec=1.0,\n",
    "                   window_inc=0.2,\n",
    "                   show_progress=True):\n",
    "    n_window = int((max(time) - window_sec) // window_inc)\n",
    "    iter_window = range(n_window)\n",
    "    if show_progress:\n",
    "        from tqdm.auto import tqdm\n",
    "        iter_window = tqdm(iter_window, leave=False)\n",
    "    for i in iter_window:\n",
    "        start_sec = window_inc * i\n",
    "        end_sec = start_sec + window_sec\n",
    "        mask = (start_sec <= time) & (time < end_sec)\n",
    "        if laps is not None:\n",
    "            laps_masked = laps[(start_sec <= laps) & (laps < end_sec)]\n",
    "            yield time[mask], amp[mask], laps_masked\n",
    "        else:\n",
    "            yield time[mask], amp[mask], None\n",
    "\n",
    "# windows = sliding_window(time, amp, laps)\n",
    "# for _ in range(25):\n",
    "#     next(windows)\n",
    "# window_time, window_amp, window_laps = next(windows)\n",
    "# plt.figure(figsize=(12, 4))\n",
    "# plot_data(window_time, window_amp, window_laps)\n",
    "# plt.show()"
   ]
  },
  {
   "cell_type": "code",
   "execution_count": 18,
   "id": "1ab91fce-9053-49b9-ae1a-89817d3989e5",
   "metadata": {
    "collapsed": true,
    "jupyter": {
     "outputs_hidden": true,
     "source_hidden": true
    }
   },
   "outputs": [
    {
     "data": {
      "application/vnd.jupyter.widget-view+json": {
       "model_id": "76e5518027ca4640aed98144e78a1809",
       "version_major": 2,
       "version_minor": 0
      },
      "text/plain": [
       "  0%|          | 0/40 [00:00<?, ?it/s]"
      ]
     },
     "metadata": {},
     "output_type": "display_data"
    },
    {
     "data": {
      "application/vnd.jupyter.widget-view+json": {
       "model_id": "",
       "version_major": 2,
       "version_minor": 0
      },
      "text/plain": [
       "  0%|          | 0/196 [00:00<?, ?it/s]"
      ]
     },
     "metadata": {},
     "output_type": "display_data"
    },
    {
     "data": {
      "application/vnd.jupyter.widget-view+json": {
       "model_id": "",
       "version_major": 2,
       "version_minor": 0
      },
      "text/plain": [
       "  0%|          | 0/196 [00:00<?, ?it/s]"
      ]
     },
     "metadata": {},
     "output_type": "display_data"
    },
    {
     "data": {
      "application/vnd.jupyter.widget-view+json": {
       "model_id": "",
       "version_major": 2,
       "version_minor": 0
      },
      "text/plain": [
       "  0%|          | 0/196 [00:00<?, ?it/s]"
      ]
     },
     "metadata": {},
     "output_type": "display_data"
    },
    {
     "data": {
      "application/vnd.jupyter.widget-view+json": {
       "model_id": "",
       "version_major": 2,
       "version_minor": 0
      },
      "text/plain": [
       "  0%|          | 0/196 [00:00<?, ?it/s]"
      ]
     },
     "metadata": {},
     "output_type": "display_data"
    },
    {
     "data": {
      "application/vnd.jupyter.widget-view+json": {
       "model_id": "",
       "version_major": 2,
       "version_minor": 0
      },
      "text/plain": [
       "  0%|          | 0/196 [00:00<?, ?it/s]"
      ]
     },
     "metadata": {},
     "output_type": "display_data"
    },
    {
     "data": {
      "application/vnd.jupyter.widget-view+json": {
       "model_id": "",
       "version_major": 2,
       "version_minor": 0
      },
      "text/plain": [
       "  0%|          | 0/196 [00:00<?, ?it/s]"
      ]
     },
     "metadata": {},
     "output_type": "display_data"
    },
    {
     "data": {
      "application/vnd.jupyter.widget-view+json": {
       "model_id": "",
       "version_major": 2,
       "version_minor": 0
      },
      "text/plain": [
       "  0%|          | 0/95 [00:00<?, ?it/s]"
      ]
     },
     "metadata": {},
     "output_type": "display_data"
    },
    {
     "data": {
      "application/vnd.jupyter.widget-view+json": {
       "model_id": "",
       "version_major": 2,
       "version_minor": 0
      },
      "text/plain": [
       "  0%|          | 0/95 [00:00<?, ?it/s]"
      ]
     },
     "metadata": {},
     "output_type": "display_data"
    },
    {
     "data": {
      "application/vnd.jupyter.widget-view+json": {
       "model_id": "",
       "version_major": 2,
       "version_minor": 0
      },
      "text/plain": [
       "  0%|          | 0/95 [00:00<?, ?it/s]"
      ]
     },
     "metadata": {},
     "output_type": "display_data"
    },
    {
     "data": {
      "application/vnd.jupyter.widget-view+json": {
       "model_id": "",
       "version_major": 2,
       "version_minor": 0
      },
      "text/plain": [
       "  0%|          | 0/95 [00:00<?, ?it/s]"
      ]
     },
     "metadata": {},
     "output_type": "display_data"
    },
    {
     "data": {
      "application/vnd.jupyter.widget-view+json": {
       "model_id": "",
       "version_major": 2,
       "version_minor": 0
      },
      "text/plain": [
       "  0%|          | 0/95 [00:00<?, ?it/s]"
      ]
     },
     "metadata": {},
     "output_type": "display_data"
    },
    {
     "data": {
      "application/vnd.jupyter.widget-view+json": {
       "model_id": "",
       "version_major": 2,
       "version_minor": 0
      },
      "text/plain": [
       "  0%|          | 0/95 [00:00<?, ?it/s]"
      ]
     },
     "metadata": {},
     "output_type": "display_data"
    },
    {
     "data": {
      "application/vnd.jupyter.widget-view+json": {
       "model_id": "",
       "version_major": 2,
       "version_minor": 0
      },
      "text/plain": [
       "  0%|          | 0/95 [00:00<?, ?it/s]"
      ]
     },
     "metadata": {},
     "output_type": "display_data"
    },
    {
     "data": {
      "application/vnd.jupyter.widget-view+json": {
       "model_id": "",
       "version_major": 2,
       "version_minor": 0
      },
      "text/plain": [
       "  0%|          | 0/95 [00:00<?, ?it/s]"
      ]
     },
     "metadata": {},
     "output_type": "display_data"
    },
    {
     "data": {
      "application/vnd.jupyter.widget-view+json": {
       "model_id": "",
       "version_major": 2,
       "version_minor": 0
      },
      "text/plain": [
       "  0%|          | 0/95 [00:00<?, ?it/s]"
      ]
     },
     "metadata": {},
     "output_type": "display_data"
    },
    {
     "data": {
      "application/vnd.jupyter.widget-view+json": {
       "model_id": "",
       "version_major": 2,
       "version_minor": 0
      },
      "text/plain": [
       "  0%|          | 0/95 [00:00<?, ?it/s]"
      ]
     },
     "metadata": {},
     "output_type": "display_data"
    },
    {
     "data": {
      "application/vnd.jupyter.widget-view+json": {
       "model_id": "",
       "version_major": 2,
       "version_minor": 0
      },
      "text/plain": [
       "  0%|          | 0/95 [00:00<?, ?it/s]"
      ]
     },
     "metadata": {},
     "output_type": "display_data"
    },
    {
     "data": {
      "application/vnd.jupyter.widget-view+json": {
       "model_id": "",
       "version_major": 2,
       "version_minor": 0
      },
      "text/plain": [
       "  0%|          | 0/95 [00:00<?, ?it/s]"
      ]
     },
     "metadata": {},
     "output_type": "display_data"
    },
    {
     "data": {
      "application/vnd.jupyter.widget-view+json": {
       "model_id": "",
       "version_major": 2,
       "version_minor": 0
      },
      "text/plain": [
       "  0%|          | 0/95 [00:00<?, ?it/s]"
      ]
     },
     "metadata": {},
     "output_type": "display_data"
    },
    {
     "data": {
      "application/vnd.jupyter.widget-view+json": {
       "model_id": "",
       "version_major": 2,
       "version_minor": 0
      },
      "text/plain": [
       "  0%|          | 0/95 [00:00<?, ?it/s]"
      ]
     },
     "metadata": {},
     "output_type": "display_data"
    },
    {
     "data": {
      "application/vnd.jupyter.widget-view+json": {
       "model_id": "",
       "version_major": 2,
       "version_minor": 0
      },
      "text/plain": [
       "  0%|          | 0/95 [00:00<?, ?it/s]"
      ]
     },
     "metadata": {},
     "output_type": "display_data"
    },
    {
     "data": {
      "application/vnd.jupyter.widget-view+json": {
       "model_id": "",
       "version_major": 2,
       "version_minor": 0
      },
      "text/plain": [
       "  0%|          | 0/95 [00:00<?, ?it/s]"
      ]
     },
     "metadata": {},
     "output_type": "display_data"
    },
    {
     "data": {
      "application/vnd.jupyter.widget-view+json": {
       "model_id": "",
       "version_major": 2,
       "version_minor": 0
      },
      "text/plain": [
       "  0%|          | 0/95 [00:00<?, ?it/s]"
      ]
     },
     "metadata": {},
     "output_type": "display_data"
    },
    {
     "data": {
      "application/vnd.jupyter.widget-view+json": {
       "model_id": "",
       "version_major": 2,
       "version_minor": 0
      },
      "text/plain": [
       "  0%|          | 0/95 [00:00<?, ?it/s]"
      ]
     },
     "metadata": {},
     "output_type": "display_data"
    },
    {
     "data": {
      "application/vnd.jupyter.widget-view+json": {
       "model_id": "",
       "version_major": 2,
       "version_minor": 0
      },
      "text/plain": [
       "  0%|          | 0/95 [00:00<?, ?it/s]"
      ]
     },
     "metadata": {},
     "output_type": "display_data"
    },
    {
     "data": {
      "text/html": [
       "<div>\n",
       "<style scoped>\n",
       "    .dataframe tbody tr th:only-of-type {\n",
       "        vertical-align: middle;\n",
       "    }\n",
       "\n",
       "    .dataframe tbody tr th {\n",
       "        vertical-align: top;\n",
       "    }\n",
       "\n",
       "    .dataframe thead th {\n",
       "        text-align: right;\n",
       "    }\n",
       "</style>\n",
       "<table border=\"1\" class=\"dataframe\">\n",
       "  <thead>\n",
       "    <tr style=\"text-align: right;\">\n",
       "      <th></th>\n",
       "      <th>x_acf1</th>\n",
       "      <th>x_acf10</th>\n",
       "      <th>diff1_acf1</th>\n",
       "      <th>diff1_acf10</th>\n",
       "      <th>diff2_acf1</th>\n",
       "      <th>diff2_acf10</th>\n",
       "    </tr>\n",
       "  </thead>\n",
       "  <tbody>\n",
       "    <tr>\n",
       "      <th>0</th>\n",
       "      <td>0.999924</td>\n",
       "      <td>9.988690</td>\n",
       "      <td>0.072457</td>\n",
       "      <td>0.051893</td>\n",
       "      <td>-0.499958</td>\n",
       "      <td>0.249958</td>\n",
       "    </tr>\n",
       "    <tr>\n",
       "      <th>1</th>\n",
       "      <td>0.999920</td>\n",
       "      <td>9.984171</td>\n",
       "      <td>0.137108</td>\n",
       "      <td>0.186062</td>\n",
       "      <td>-0.484861</td>\n",
       "      <td>0.235090</td>\n",
       "    </tr>\n",
       "    <tr>\n",
       "      <th>2</th>\n",
       "      <td>0.999934</td>\n",
       "      <td>9.986708</td>\n",
       "      <td>0.139567</td>\n",
       "      <td>0.192562</td>\n",
       "      <td>-0.499928</td>\n",
       "      <td>0.249928</td>\n",
       "    </tr>\n",
       "    <tr>\n",
       "      <th>3</th>\n",
       "      <td>0.999369</td>\n",
       "      <td>9.921325</td>\n",
       "      <td>0.726362</td>\n",
       "      <td>5.233059</td>\n",
       "      <td>-0.499345</td>\n",
       "      <td>0.249345</td>\n",
       "    </tr>\n",
       "    <tr>\n",
       "      <th>4</th>\n",
       "      <td>0.999733</td>\n",
       "      <td>9.941918</td>\n",
       "      <td>0.252239</td>\n",
       "      <td>0.628460</td>\n",
       "      <td>-0.499860</td>\n",
       "      <td>0.249860</td>\n",
       "    </tr>\n",
       "    <tr>\n",
       "      <th>...</th>\n",
       "      <td>...</td>\n",
       "      <td>...</td>\n",
       "      <td>...</td>\n",
       "      <td>...</td>\n",
       "      <td>...</td>\n",
       "      <td>...</td>\n",
       "    </tr>\n",
       "    <tr>\n",
       "      <th>2976</th>\n",
       "      <td>0.999345</td>\n",
       "      <td>9.917802</td>\n",
       "      <td>0.033389</td>\n",
       "      <td>0.010879</td>\n",
       "      <td>-0.499980</td>\n",
       "      <td>0.249980</td>\n",
       "    </tr>\n",
       "    <tr>\n",
       "      <th>2977</th>\n",
       "      <td>0.999468</td>\n",
       "      <td>9.933783</td>\n",
       "      <td>0.033331</td>\n",
       "      <td>0.010836</td>\n",
       "      <td>-0.499980</td>\n",
       "      <td>0.249980</td>\n",
       "    </tr>\n",
       "    <tr>\n",
       "      <th>2978</th>\n",
       "      <td>0.999269</td>\n",
       "      <td>9.909868</td>\n",
       "      <td>0.033217</td>\n",
       "      <td>0.010783</td>\n",
       "      <td>-0.499980</td>\n",
       "      <td>0.249980</td>\n",
       "    </tr>\n",
       "    <tr>\n",
       "      <th>2979</th>\n",
       "      <td>0.999377</td>\n",
       "      <td>9.921690</td>\n",
       "      <td>0.390985</td>\n",
       "      <td>1.492148</td>\n",
       "      <td>-0.499697</td>\n",
       "      <td>0.249697</td>\n",
       "    </tr>\n",
       "    <tr>\n",
       "      <th>2980</th>\n",
       "      <td>0.999590</td>\n",
       "      <td>9.946728</td>\n",
       "      <td>0.195115</td>\n",
       "      <td>0.372365</td>\n",
       "      <td>-0.499865</td>\n",
       "      <td>0.249865</td>\n",
       "    </tr>\n",
       "  </tbody>\n",
       "</table>\n",
       "<p>2981 rows × 6 columns</p>\n",
       "</div>"
      ],
      "text/plain": [
       "        x_acf1   x_acf10  diff1_acf1  diff1_acf10  diff2_acf1  diff2_acf10\n",
       "0     0.999924  9.988690    0.072457     0.051893   -0.499958     0.249958\n",
       "1     0.999920  9.984171    0.137108     0.186062   -0.484861     0.235090\n",
       "2     0.999934  9.986708    0.139567     0.192562   -0.499928     0.249928\n",
       "3     0.999369  9.921325    0.726362     5.233059   -0.499345     0.249345\n",
       "4     0.999733  9.941918    0.252239     0.628460   -0.499860     0.249860\n",
       "...        ...       ...         ...          ...         ...          ...\n",
       "2976  0.999345  9.917802    0.033389     0.010879   -0.499980     0.249980\n",
       "2977  0.999468  9.933783    0.033331     0.010836   -0.499980     0.249980\n",
       "2978  0.999269  9.909868    0.033217     0.010783   -0.499980     0.249980\n",
       "2979  0.999377  9.921690    0.390985     1.492148   -0.499697     0.249697\n",
       "2980  0.999590  9.946728    0.195115     0.372365   -0.499865     0.249865\n",
       "\n",
       "[2981 rows x 6 columns]"
      ]
     },
     "execution_count": 18,
     "metadata": {},
     "output_type": "execute_result"
    }
   ],
   "source": [
    "import pandas as pd\n",
    "from tqdm.auto import tqdm\n",
    "from tsfeatures import acf_features\n",
    "\n",
    "df_acf = pd.DataFrame()\n",
    "for path in filter(lambda path: any(keyword in str(path)\n",
    "                                    for keyword in (\"week6\", \"week9\")),\n",
    "                   tqdm(data_paths)):\n",
    "    time, amp, laps = load_data(path)\n",
    "    feat = [acf_features(amp) for _, amp, _ in sliding_window(time, amp)]\n",
    "    df_acf = pd.concat([df_acf, pd.DataFrame(feat)], ignore_index=True)\n",
    "\n",
    "df_acf.to_csv(\"data/week6_9_acf.csv\")\n",
    "\n",
    "from sklearn.preprocessing import StandardScaler\n",
    "from sklearn.cluster import KMeans\n",
    "\n",
    "X = df_acf.to_numpy()\n",
    "\n",
    "scaler = StandardScaler()\n",
    "X_scaled = scaler.fit_transform(X)\n",
    "\n",
    "clustering = KMeans(n_clusters=3)\n",
    "y = clustering.fit_predict(X_scaled)\n",
    "np.unique(y, return_counts=True)"
   ]
  },
  {
   "cell_type": "code",
   "execution_count": 73,
   "id": "7bc03b8f-3ea0-4ada-9863-504a1c676c0d",
   "metadata": {},
   "outputs": [],
   "source": [
    "def predict_event(time, amp,\n",
    "                  event_classifier,\n",
    "                  window_sec=1.2,\n",
    "                  window_inc=0.05,\n",
    "                  event_skip=None):\n",
    "    if event_skip is None:\n",
    "        event_skip = int(window_sec // window_inc)\n",
    "    windows = sliding_window(time, amp)\n",
    "    while (window := next(windows, None)) is not None:\n",
    "        window_time, window_amp, _ = window\n",
    "        has_event = event_classifier(window_amp)\n",
    "        if has_event:\n",
    "            yield min(window_time), max(window_time)\n",
    "            for _ in range(event_skip):\n",
    "                next(windows, None)"
   ]
  },
  {
   "cell_type": "code",
   "execution_count": 369,
   "id": "46d8b07c-bde3-44c3-8760-e9bc6942ce9a",
   "metadata": {},
   "outputs": [
    {
     "data": {
      "application/vnd.jupyter.widget-view+json": {
       "model_id": "",
       "version_major": 2,
       "version_minor": 0
      },
      "text/plain": [
       "  0%|          | 0/94 [00:00<?, ?it/s]"
      ]
     },
     "metadata": {},
     "output_type": "display_data"
    },
    {
     "data": {
      "image/png": "[encoded data removed]",
      "text/plain": [
       "<Figure size 1200x400 with 1 Axes>"
      ]
     },
     "metadata": {},
     "output_type": "display_data"
    }
   ],
   "source": [
    "def classifier(amp):\n",
    "    return np.var(amp) > 150\n",
    "\n",
    "time, amp, laps = load_data(Path(\"./data/week9/2204looklefts1.csv\"))\n",
    "\n",
    "threshold = np.std(amp)\n",
    "\n",
    "events = [*predict_event(time, amp,\n",
    "                         classifier,\n",
    "                         window_sec=0.1,\n",
    "                         window_inc=0.1,\n",
    "                         event_skip=0)]\n",
    "plt.figure(figsize=(12, 4))\n",
    "for event_start, event_end in events:\n",
    "    plt.vlines(event_end, min(amp), max(amp), color=\"limegreen\")\n",
    "plot_data(time, amp, laps)\n",
    "plt.savefig(\"2204doubleleft.png\")\n",
    "plt.show()"
   ]
  },
  {
   "cell_type": "markdown",
   "id": "f280d08c-4162-40fb-b1ea-f74237efdcba",
   "metadata": {},
   "source": [
    "## Slice"
   ]
  },
  {
   "cell_type": "code",
   "execution_count": 583,
   "id": "1868a6ba-a86e-471e-b980-245a7c45670e",
   "metadata": {},
   "outputs": [
    {
     "data": {
      "application/vnd.jupyter.widget-view+json": {
       "model_id": "794cd2bffa36473bb61d1f2846cf5a11",
       "version_major": 2,
       "version_minor": 0
      },
      "text/plain": [
       "  0%|          | 0/25 [00:00<?, ?it/s]"
      ]
     },
     "metadata": {},
     "output_type": "display_data"
    }
   ],
   "source": [
    "clip_df = []\n",
    "for path in tqdm(data_paths):\n",
    "    week = re.search(r\"/week(\\d+)/\", str(path)).group()\n",
    "    for s in (\"left\", \"right\", \"blink\", \"no\", \"test\"):\n",
    "        if s in str(path):\n",
    "            label = s\n",
    "            break\n",
    "    else:\n",
    "        raise ValueError()\n",
    "\n",
    "    double = \"double\" in str(path)\n",
    "\n",
    "    window_sec = 1.0\n",
    "    window_n = int(10_000 * window_sec)\n",
    "    minimum_sec = 0.2\n",
    "    minimum_n = int(10_000 * minimum_sec)\n",
    "    \n",
    "    time, amp, laps = load_data(path)\n",
    "    \n",
    "    amp_med = np.median(amp)\n",
    "    error = amp - amp_med\n",
    "    std = np.convolve(error ** 2, np.ones(window_n), \"full\")[:-(window_n - 1)] / window_n\n",
    "    event = (std > 150).astype(int)\n",
    "    for i, j in np.where(np.diff(np.r_[0, event, 0]))[0].reshape(-1, 2):\n",
    "        if j - i < minimum_n:\n",
    "            continue\n",
    "        clip_time = time[max(0, i - window_n):j]\n",
    "        clip_amp = amp[max(0, i - window_n):j]\n",
    "        clip_df.append({\n",
    "            \"week\": week,\n",
    "            \"path\": str(path),\n",
    "            \"label\": label,\n",
    "            \"double\": double,\n",
    "            \"time\": clip_time,\n",
    "            \"amp\": clip_amp,\n",
    "        })\n",
    "\n",
    "clip_df = pd.DataFrame(clip_df)"
   ]
  },
  {
   "cell_type": "code",
   "execution_count": 777,
   "id": "b4ff4288-c33a-4d4a-901f-5aca2877c689",
   "metadata": {
    "scrolled": true
   },
   "outputs": [
    {
     "data": {
      "application/vnd.jupyter.widget-view+json": {
       "model_id": "b367ce066ae14298ab4f78c52282f86a",
       "version_major": 2,
       "version_minor": 0
      },
      "text/plain": [
       "  0%|          | 0/54 [00:00<?, ?it/s]"
      ]
     },
     "metadata": {},
     "output_type": "display_data"
    },
    {
     "data": {
      "text/html": [
       "<div>\n",
       "<style scoped>\n",
       "    .dataframe tbody tr th:only-of-type {\n",
       "        vertical-align: middle;\n",
       "    }\n",
       "\n",
       "    .dataframe tbody tr th {\n",
       "        vertical-align: top;\n",
       "    }\n",
       "\n",
       "    .dataframe thead th {\n",
       "        text-align: right;\n",
       "    }\n",
       "</style>\n",
       "<table border=\"1\" class=\"dataframe\">\n",
       "  <thead>\n",
       "    <tr style=\"text-align: right;\">\n",
       "      <th></th>\n",
       "      <th>index</th>\n",
       "      <th>week</th>\n",
       "      <th>path</th>\n",
       "      <th>label</th>\n",
       "      <th>double</th>\n",
       "      <th>interval</th>\n",
       "      <th>high_mean</th>\n",
       "      <th>low_mean</th>\n",
       "    </tr>\n",
       "  </thead>\n",
       "  <tbody>\n",
       "    <tr>\n",
       "      <th>0</th>\n",
       "      <td>0</td>\n",
       "      <td>/week6/</td>\n",
       "      <td>data/week6/40secondblinkwithlaps.csv</td>\n",
       "      <td>blink</td>\n",
       "      <td>False</td>\n",
       "      <td>1021.000000</td>\n",
       "      <td>124.314129</td>\n",
       "      <td>61.928353</td>\n",
       "    </tr>\n",
       "    <tr>\n",
       "      <th>1</th>\n",
       "      <td>1</td>\n",
       "      <td>/week6/</td>\n",
       "      <td>data/week6/40secondblinkwithlaps.csv</td>\n",
       "      <td>blink</td>\n",
       "      <td>False</td>\n",
       "      <td>4875.000000</td>\n",
       "      <td>61.128278</td>\n",
       "      <td>95.308762</td>\n",
       "    </tr>\n",
       "    <tr>\n",
       "      <th>2</th>\n",
       "      <td>2</td>\n",
       "      <td>/week6/</td>\n",
       "      <td>data/week6/40secondblinkwithlaps.csv</td>\n",
       "      <td>blink</td>\n",
       "      <td>False</td>\n",
       "      <td>1206.000000</td>\n",
       "      <td>92.682947</td>\n",
       "      <td>51.073680</td>\n",
       "    </tr>\n",
       "    <tr>\n",
       "      <th>3</th>\n",
       "      <td>3</td>\n",
       "      <td>/week6/</td>\n",
       "      <td>data/week6/40secondblinkwithlaps.csv</td>\n",
       "      <td>blink</td>\n",
       "      <td>False</td>\n",
       "      <td>NaN</td>\n",
       "      <td>121.149479</td>\n",
       "      <td>NaN</td>\n",
       "    </tr>\n",
       "    <tr>\n",
       "      <th>4</th>\n",
       "      <td>4</td>\n",
       "      <td>/week6/</td>\n",
       "      <td>data/week6/40secondblinkwithlaps.csv</td>\n",
       "      <td>blink</td>\n",
       "      <td>False</td>\n",
       "      <td>4849.000000</td>\n",
       "      <td>65.576715</td>\n",
       "      <td>77.734397</td>\n",
       "    </tr>\n",
       "    <tr>\n",
       "      <th>5</th>\n",
       "      <td>5</td>\n",
       "      <td>/week6/</td>\n",
       "      <td>data/week6/40secondblinkwithlaps.csv</td>\n",
       "      <td>blink</td>\n",
       "      <td>False</td>\n",
       "      <td>2432.000000</td>\n",
       "      <td>67.061173</td>\n",
       "      <td>78.830643</td>\n",
       "    </tr>\n",
       "    <tr>\n",
       "      <th>6</th>\n",
       "      <td>6</td>\n",
       "      <td>/week6/</td>\n",
       "      <td>data/week6/40secondblinkwithlaps.csv</td>\n",
       "      <td>blink</td>\n",
       "      <td>False</td>\n",
       "      <td>NaN</td>\n",
       "      <td>82.829337</td>\n",
       "      <td>NaN</td>\n",
       "    </tr>\n",
       "    <tr>\n",
       "      <th>7</th>\n",
       "      <td>7</td>\n",
       "      <td>/week6/</td>\n",
       "      <td>data/week6/40secondblinkwithlaps.csv</td>\n",
       "      <td>blink</td>\n",
       "      <td>False</td>\n",
       "      <td>NaN</td>\n",
       "      <td>55.767587</td>\n",
       "      <td>NaN</td>\n",
       "    </tr>\n",
       "    <tr>\n",
       "      <th>8</th>\n",
       "      <td>8</td>\n",
       "      <td>/week6/</td>\n",
       "      <td>data/week6/40secondblinkwithlaps.csv</td>\n",
       "      <td>blink</td>\n",
       "      <td>False</td>\n",
       "      <td>974.000000</td>\n",
       "      <td>112.374181</td>\n",
       "      <td>50.315348</td>\n",
       "    </tr>\n",
       "    <tr>\n",
       "      <th>9</th>\n",
       "      <td>9</td>\n",
       "      <td>/week6/</td>\n",
       "      <td>data/week6/40secondblinkwithlaps.csv</td>\n",
       "      <td>blink</td>\n",
       "      <td>False</td>\n",
       "      <td>1031.000000</td>\n",
       "      <td>101.312841</td>\n",
       "      <td>62.669284</td>\n",
       "    </tr>\n",
       "    <tr>\n",
       "      <th>10</th>\n",
       "      <td>10</td>\n",
       "      <td>/week6/</td>\n",
       "      <td>data/week6/40secondblinkwithlaps.csv</td>\n",
       "      <td>blink</td>\n",
       "      <td>False</td>\n",
       "      <td>NaN</td>\n",
       "      <td>94.945024</td>\n",
       "      <td>NaN</td>\n",
       "    </tr>\n",
       "    <tr>\n",
       "      <th>11</th>\n",
       "      <td>11</td>\n",
       "      <td>/week6/</td>\n",
       "      <td>data/week6/40secondblinkwithlaps.csv</td>\n",
       "      <td>blink</td>\n",
       "      <td>False</td>\n",
       "      <td>NaN</td>\n",
       "      <td>77.244292</td>\n",
       "      <td>NaN</td>\n",
       "    </tr>\n",
       "    <tr>\n",
       "      <th>12</th>\n",
       "      <td>12</td>\n",
       "      <td>/week6/</td>\n",
       "      <td>data/week6/40secondblinkwithlaps.csv</td>\n",
       "      <td>blink</td>\n",
       "      <td>False</td>\n",
       "      <td>1917.000000</td>\n",
       "      <td>113.604995</td>\n",
       "      <td>79.091160</td>\n",
       "    </tr>\n",
       "    <tr>\n",
       "      <th>13</th>\n",
       "      <td>35</td>\n",
       "      <td>/week6/</td>\n",
       "      <td>data/week6/40secondlookleftlaps.csv</td>\n",
       "      <td>left</td>\n",
       "      <td>False</td>\n",
       "      <td>4510.666667</td>\n",
       "      <td>125.253244</td>\n",
       "      <td>113.327605</td>\n",
       "    </tr>\n",
       "    <tr>\n",
       "      <th>14</th>\n",
       "      <td>36</td>\n",
       "      <td>/week6/</td>\n",
       "      <td>data/week6/40secondlookleftlaps.csv</td>\n",
       "      <td>left</td>\n",
       "      <td>False</td>\n",
       "      <td>2759.800000</td>\n",
       "      <td>120.922908</td>\n",
       "      <td>105.228756</td>\n",
       "    </tr>\n",
       "    <tr>\n",
       "      <th>15</th>\n",
       "      <td>37</td>\n",
       "      <td>/week6/</td>\n",
       "      <td>data/week6/40secondlookleftlaps.csv</td>\n",
       "      <td>left</td>\n",
       "      <td>False</td>\n",
       "      <td>4344.500000</td>\n",
       "      <td>144.910968</td>\n",
       "      <td>178.041530</td>\n",
       "    </tr>\n",
       "    <tr>\n",
       "      <th>16</th>\n",
       "      <td>38</td>\n",
       "      <td>/week6/</td>\n",
       "      <td>data/week6/40secondlookleftlaps.csv</td>\n",
       "      <td>left</td>\n",
       "      <td>False</td>\n",
       "      <td>2768.400000</td>\n",
       "      <td>127.169270</td>\n",
       "      <td>109.987272</td>\n",
       "    </tr>\n",
       "    <tr>\n",
       "      <th>17</th>\n",
       "      <td>39</td>\n",
       "      <td>/week6/</td>\n",
       "      <td>data/week6/40secondlookleftlaps.csv</td>\n",
       "      <td>left</td>\n",
       "      <td>False</td>\n",
       "      <td>4296.000000</td>\n",
       "      <td>173.174120</td>\n",
       "      <td>91.366274</td>\n",
       "    </tr>\n",
       "    <tr>\n",
       "      <th>18</th>\n",
       "      <td>40</td>\n",
       "      <td>/week6/</td>\n",
       "      <td>data/week6/40secondlookleftlaps.csv</td>\n",
       "      <td>left</td>\n",
       "      <td>False</td>\n",
       "      <td>3049.111111</td>\n",
       "      <td>171.081844</td>\n",
       "      <td>143.522237</td>\n",
       "    </tr>\n",
       "    <tr>\n",
       "      <th>19</th>\n",
       "      <td>41</td>\n",
       "      <td>/week6/</td>\n",
       "      <td>data/week6/40secondlookleftlaps.csv</td>\n",
       "      <td>left</td>\n",
       "      <td>False</td>\n",
       "      <td>5669.000000</td>\n",
       "      <td>180.231442</td>\n",
       "      <td>125.325785</td>\n",
       "    </tr>\n",
       "    <tr>\n",
       "      <th>20</th>\n",
       "      <td>42</td>\n",
       "      <td>/week6/</td>\n",
       "      <td>data/week6/40secondlookrightlaps.csv</td>\n",
       "      <td>right</td>\n",
       "      <td>False</td>\n",
       "      <td>5051.000000</td>\n",
       "      <td>121.944379</td>\n",
       "      <td>171.806315</td>\n",
       "    </tr>\n",
       "    <tr>\n",
       "      <th>21</th>\n",
       "      <td>43</td>\n",
       "      <td>/week6/</td>\n",
       "      <td>data/week6/40secondlookrightlaps.csv</td>\n",
       "      <td>right</td>\n",
       "      <td>False</td>\n",
       "      <td>5994.000000</td>\n",
       "      <td>136.044844</td>\n",
       "      <td>192.225370</td>\n",
       "    </tr>\n",
       "    <tr>\n",
       "      <th>22</th>\n",
       "      <td>44</td>\n",
       "      <td>/week6/</td>\n",
       "      <td>data/week6/40secondlookrightlaps.csv</td>\n",
       "      <td>right</td>\n",
       "      <td>False</td>\n",
       "      <td>4722.333333</td>\n",
       "      <td>124.491883</td>\n",
       "      <td>152.493802</td>\n",
       "    </tr>\n",
       "    <tr>\n",
       "      <th>23</th>\n",
       "      <td>45</td>\n",
       "      <td>/week6/</td>\n",
       "      <td>data/week6/40secondlookrightlaps.csv</td>\n",
       "      <td>right</td>\n",
       "      <td>False</td>\n",
       "      <td>2043.000000</td>\n",
       "      <td>113.674188</td>\n",
       "      <td>131.754020</td>\n",
       "    </tr>\n",
       "    <tr>\n",
       "      <th>24</th>\n",
       "      <td>46</td>\n",
       "      <td>/week6/</td>\n",
       "      <td>data/week6/40secondlookrightlaps.csv</td>\n",
       "      <td>right</td>\n",
       "      <td>False</td>\n",
       "      <td>2841.000000</td>\n",
       "      <td>87.247521</td>\n",
       "      <td>114.958799</td>\n",
       "    </tr>\n",
       "    <tr>\n",
       "      <th>25</th>\n",
       "      <td>47</td>\n",
       "      <td>/week6/</td>\n",
       "      <td>data/week6/40secondlookrightlaps.csv</td>\n",
       "      <td>right</td>\n",
       "      <td>False</td>\n",
       "      <td>5019.000000</td>\n",
       "      <td>120.237114</td>\n",
       "      <td>203.790404</td>\n",
       "    </tr>\n",
       "    <tr>\n",
       "      <th>26</th>\n",
       "      <td>48</td>\n",
       "      <td>/week6/</td>\n",
       "      <td>data/week6/40secondlookrightlaps.csv</td>\n",
       "      <td>right</td>\n",
       "      <td>False</td>\n",
       "      <td>4433.000000</td>\n",
       "      <td>62.389692</td>\n",
       "      <td>58.806316</td>\n",
       "    </tr>\n",
       "    <tr>\n",
       "      <th>27</th>\n",
       "      <td>49</td>\n",
       "      <td>/week6/</td>\n",
       "      <td>data/week6/40secondlookrightlaps.csv</td>\n",
       "      <td>right</td>\n",
       "      <td>False</td>\n",
       "      <td>3948.000000</td>\n",
       "      <td>86.695411</td>\n",
       "      <td>134.640244</td>\n",
       "    </tr>\n",
       "    <tr>\n",
       "      <th>28</th>\n",
       "      <td>50</td>\n",
       "      <td>/week6/</td>\n",
       "      <td>data/week6/40secondlookrightlaps.csv</td>\n",
       "      <td>right</td>\n",
       "      <td>False</td>\n",
       "      <td>4987.500000</td>\n",
       "      <td>128.176331</td>\n",
       "      <td>226.366881</td>\n",
       "    </tr>\n",
       "    <tr>\n",
       "      <th>29</th>\n",
       "      <td>51</td>\n",
       "      <td>/week6/</td>\n",
       "      <td>data/week6/40secondlookrightlaps.csv</td>\n",
       "      <td>right</td>\n",
       "      <td>False</td>\n",
       "      <td>NaN</td>\n",
       "      <td>NaN</td>\n",
       "      <td>53.716639</td>\n",
       "    </tr>\n",
       "    <tr>\n",
       "      <th>30</th>\n",
       "      <td>52</td>\n",
       "      <td>/week9/</td>\n",
       "      <td>data/week9/2204blinks.csv</td>\n",
       "      <td>blink</td>\n",
       "      <td>False</td>\n",
       "      <td>2404.500000</td>\n",
       "      <td>131.190527</td>\n",
       "      <td>144.516484</td>\n",
       "    </tr>\n",
       "    <tr>\n",
       "      <th>31</th>\n",
       "      <td>53</td>\n",
       "      <td>/week9/</td>\n",
       "      <td>data/week9/2204blinks.csv</td>\n",
       "      <td>blink</td>\n",
       "      <td>False</td>\n",
       "      <td>2907.600000</td>\n",
       "      <td>159.730455</td>\n",
       "      <td>155.113175</td>\n",
       "    </tr>\n",
       "    <tr>\n",
       "      <th>32</th>\n",
       "      <td>54</td>\n",
       "      <td>/week9/</td>\n",
       "      <td>data/week9/2204blinks.csv</td>\n",
       "      <td>blink</td>\n",
       "      <td>False</td>\n",
       "      <td>2113.250000</td>\n",
       "      <td>165.264819</td>\n",
       "      <td>102.719075</td>\n",
       "    </tr>\n",
       "    <tr>\n",
       "      <th>33</th>\n",
       "      <td>55</td>\n",
       "      <td>/week9/</td>\n",
       "      <td>data/week9/2204blinks.csv</td>\n",
       "      <td>blink</td>\n",
       "      <td>False</td>\n",
       "      <td>6817.000000</td>\n",
       "      <td>187.891534</td>\n",
       "      <td>133.898263</td>\n",
       "    </tr>\n",
       "    <tr>\n",
       "      <th>34</th>\n",
       "      <td>56</td>\n",
       "      <td>/week9/</td>\n",
       "      <td>data/week9/2204blinks.csv</td>\n",
       "      <td>blink</td>\n",
       "      <td>False</td>\n",
       "      <td>2255.250000</td>\n",
       "      <td>174.889246</td>\n",
       "      <td>99.824964</td>\n",
       "    </tr>\n",
       "    <tr>\n",
       "      <th>35</th>\n",
       "      <td>57</td>\n",
       "      <td>/week9/</td>\n",
       "      <td>data/week9/2204blinks.csv</td>\n",
       "      <td>blink</td>\n",
       "      <td>False</td>\n",
       "      <td>2354.250000</td>\n",
       "      <td>179.304337</td>\n",
       "      <td>100.162941</td>\n",
       "    </tr>\n",
       "    <tr>\n",
       "      <th>36</th>\n",
       "      <td>58</td>\n",
       "      <td>/week9/</td>\n",
       "      <td>data/week9/2204looklefts.csv</td>\n",
       "      <td>left</td>\n",
       "      <td>False</td>\n",
       "      <td>4715.000000</td>\n",
       "      <td>73.171227</td>\n",
       "      <td>75.783429</td>\n",
       "    </tr>\n",
       "    <tr>\n",
       "      <th>37</th>\n",
       "      <td>59</td>\n",
       "      <td>/week9/</td>\n",
       "      <td>data/week9/2204looklefts.csv</td>\n",
       "      <td>left</td>\n",
       "      <td>False</td>\n",
       "      <td>5055.333333</td>\n",
       "      <td>67.327044</td>\n",
       "      <td>65.238002</td>\n",
       "    </tr>\n",
       "    <tr>\n",
       "      <th>38</th>\n",
       "      <td>60</td>\n",
       "      <td>/week9/</td>\n",
       "      <td>data/week9/2204looklefts.csv</td>\n",
       "      <td>left</td>\n",
       "      <td>False</td>\n",
       "      <td>5580.333333</td>\n",
       "      <td>69.627083</td>\n",
       "      <td>77.238520</td>\n",
       "    </tr>\n",
       "    <tr>\n",
       "      <th>39</th>\n",
       "      <td>61</td>\n",
       "      <td>/week9/</td>\n",
       "      <td>data/week9/2204looklefts.csv</td>\n",
       "      <td>left</td>\n",
       "      <td>False</td>\n",
       "      <td>8820.000000</td>\n",
       "      <td>77.972583</td>\n",
       "      <td>84.370327</td>\n",
       "    </tr>\n",
       "    <tr>\n",
       "      <th>40</th>\n",
       "      <td>62</td>\n",
       "      <td>/week9/</td>\n",
       "      <td>data/week9/2204looklefts.csv</td>\n",
       "      <td>left</td>\n",
       "      <td>False</td>\n",
       "      <td>2869.000000</td>\n",
       "      <td>65.046202</td>\n",
       "      <td>85.079253</td>\n",
       "    </tr>\n",
       "    <tr>\n",
       "      <th>41</th>\n",
       "      <td>63</td>\n",
       "      <td>/week9/</td>\n",
       "      <td>data/week9/2204looklefts1.csv</td>\n",
       "      <td>left</td>\n",
       "      <td>False</td>\n",
       "      <td>3539.666667</td>\n",
       "      <td>74.986825</td>\n",
       "      <td>77.715224</td>\n",
       "    </tr>\n",
       "    <tr>\n",
       "      <th>42</th>\n",
       "      <td>64</td>\n",
       "      <td>/week9/</td>\n",
       "      <td>data/week9/2204looklefts1.csv</td>\n",
       "      <td>left</td>\n",
       "      <td>False</td>\n",
       "      <td>2831.000000</td>\n",
       "      <td>77.339080</td>\n",
       "      <td>87.628364</td>\n",
       "    </tr>\n",
       "    <tr>\n",
       "      <th>43</th>\n",
       "      <td>65</td>\n",
       "      <td>/week9/</td>\n",
       "      <td>data/week9/2204looklefts1.csv</td>\n",
       "      <td>left</td>\n",
       "      <td>False</td>\n",
       "      <td>11016.000000</td>\n",
       "      <td>87.967138</td>\n",
       "      <td>74.003436</td>\n",
       "    </tr>\n",
       "    <tr>\n",
       "      <th>44</th>\n",
       "      <td>66</td>\n",
       "      <td>/week9/</td>\n",
       "      <td>data/week9/2204looklefts1.csv</td>\n",
       "      <td>left</td>\n",
       "      <td>False</td>\n",
       "      <td>NaN</td>\n",
       "      <td>NaN</td>\n",
       "      <td>78.945962</td>\n",
       "    </tr>\n",
       "    <tr>\n",
       "      <th>45</th>\n",
       "      <td>67</td>\n",
       "      <td>/week9/</td>\n",
       "      <td>data/week9/2204looklefts1.csv</td>\n",
       "      <td>left</td>\n",
       "      <td>False</td>\n",
       "      <td>NaN</td>\n",
       "      <td>69.568840</td>\n",
       "      <td>NaN</td>\n",
       "    </tr>\n",
       "    <tr>\n",
       "      <th>46</th>\n",
       "      <td>68</td>\n",
       "      <td>/week9/</td>\n",
       "      <td>data/week9/2204lookrights.csv</td>\n",
       "      <td>right</td>\n",
       "      <td>False</td>\n",
       "      <td>6031.666667</td>\n",
       "      <td>147.890727</td>\n",
       "      <td>84.836918</td>\n",
       "    </tr>\n",
       "    <tr>\n",
       "      <th>47</th>\n",
       "      <td>69</td>\n",
       "      <td>/week9/</td>\n",
       "      <td>data/week9/2204lookrights.csv</td>\n",
       "      <td>right</td>\n",
       "      <td>False</td>\n",
       "      <td>3967.000000</td>\n",
       "      <td>164.835181</td>\n",
       "      <td>93.485221</td>\n",
       "    </tr>\n",
       "    <tr>\n",
       "      <th>48</th>\n",
       "      <td>70</td>\n",
       "      <td>/week9/</td>\n",
       "      <td>data/week9/2204lookrights.csv</td>\n",
       "      <td>right</td>\n",
       "      <td>False</td>\n",
       "      <td>4437.666667</td>\n",
       "      <td>121.129125</td>\n",
       "      <td>86.517063</td>\n",
       "    </tr>\n",
       "    <tr>\n",
       "      <th>49</th>\n",
       "      <td>71</td>\n",
       "      <td>/week9/</td>\n",
       "      <td>data/week9/2204lookrights.csv</td>\n",
       "      <td>right</td>\n",
       "      <td>False</td>\n",
       "      <td>2350.500000</td>\n",
       "      <td>111.074133</td>\n",
       "      <td>114.674636</td>\n",
       "    </tr>\n",
       "    <tr>\n",
       "      <th>50</th>\n",
       "      <td>72</td>\n",
       "      <td>/week9/</td>\n",
       "      <td>data/week9/2204lookrights1.csv</td>\n",
       "      <td>right</td>\n",
       "      <td>False</td>\n",
       "      <td>3762.000000</td>\n",
       "      <td>104.696608</td>\n",
       "      <td>72.241719</td>\n",
       "    </tr>\n",
       "    <tr>\n",
       "      <th>51</th>\n",
       "      <td>73</td>\n",
       "      <td>/week9/</td>\n",
       "      <td>data/week9/2204lookrights1.csv</td>\n",
       "      <td>right</td>\n",
       "      <td>False</td>\n",
       "      <td>2415.200000</td>\n",
       "      <td>115.519880</td>\n",
       "      <td>98.599523</td>\n",
       "    </tr>\n",
       "    <tr>\n",
       "      <th>52</th>\n",
       "      <td>74</td>\n",
       "      <td>/week9/</td>\n",
       "      <td>data/week9/2204lookrights1.csv</td>\n",
       "      <td>right</td>\n",
       "      <td>False</td>\n",
       "      <td>3686.000000</td>\n",
       "      <td>104.630531</td>\n",
       "      <td>78.922695</td>\n",
       "    </tr>\n",
       "    <tr>\n",
       "      <th>53</th>\n",
       "      <td>75</td>\n",
       "      <td>/week9/</td>\n",
       "      <td>data/week9/2204lookrights1.csv</td>\n",
       "      <td>right</td>\n",
       "      <td>False</td>\n",
       "      <td>3943.666667</td>\n",
       "      <td>105.493932</td>\n",
       "      <td>76.852391</td>\n",
       "    </tr>\n",
       "  </tbody>\n",
       "</table>\n",
       "</div>"
      ],
      "text/plain": [
       "    index     week  ...   high_mean    low_mean\n",
       "0       0  /week6/  ...  124.314129   61.928353\n",
       "1       1  /week6/  ...   61.128278   95.308762\n",
       "2       2  /week6/  ...   92.682947   51.073680\n",
       "3       3  /week6/  ...  121.149479         NaN\n",
       "4       4  /week6/  ...   65.576715   77.734397\n",
       "5       5  /week6/  ...   67.061173   78.830643\n",
       "6       6  /week6/  ...   82.829337         NaN\n",
       "7       7  /week6/  ...   55.767587         NaN\n",
       "8       8  /week6/  ...  112.374181   50.315348\n",
       "9       9  /week6/  ...  101.312841   62.669284\n",
       "10     10  /week6/  ...   94.945024         NaN\n",
       "11     11  /week6/  ...   77.244292         NaN\n",
       "12     12  /week6/  ...  113.604995   79.091160\n",
       "13     35  /week6/  ...  125.253244  113.327605\n",
       "14     36  /week6/  ...  120.922908  105.228756\n",
       "15     37  /week6/  ...  144.910968  178.041530\n",
       "16     38  /week6/  ...  127.169270  109.987272\n",
       "17     39  /week6/  ...  173.174120   91.366274\n",
       "18     40  /week6/  ...  171.081844  143.522237\n",
       "19     41  /week6/  ...  180.231442  125.325785\n",
       "20     42  /week6/  ...  121.944379  171.806315\n",
       "21     43  /week6/  ...  136.044844  192.225370\n",
       "22     44  /week6/  ...  124.491883  152.493802\n",
       "23     45  /week6/  ...  113.674188  131.754020\n",
       "24     46  /week6/  ...   87.247521  114.958799\n",
       "25     47  /week6/  ...  120.237114  203.790404\n",
       "26     48  /week6/  ...   62.389692   58.806316\n",
       "27     49  /week6/  ...   86.695411  134.640244\n",
       "28     50  /week6/  ...  128.176331  226.366881\n",
       "29     51  /week6/  ...         NaN   53.716639\n",
       "30     52  /week9/  ...  131.190527  144.516484\n",
       "31     53  /week9/  ...  159.730455  155.113175\n",
       "32     54  /week9/  ...  165.264819  102.719075\n",
       "33     55  /week9/  ...  187.891534  133.898263\n",
       "34     56  /week9/  ...  174.889246   99.824964\n",
       "35     57  /week9/  ...  179.304337  100.162941\n",
       "36     58  /week9/  ...   73.171227   75.783429\n",
       "37     59  /week9/  ...   67.327044   65.238002\n",
       "38     60  /week9/  ...   69.627083   77.238520\n",
       "39     61  /week9/  ...   77.972583   84.370327\n",
       "40     62  /week9/  ...   65.046202   85.079253\n",
       "41     63  /week9/  ...   74.986825   77.715224\n",
       "42     64  /week9/  ...   77.339080   87.628364\n",
       "43     65  /week9/  ...   87.967138   74.003436\n",
       "44     66  /week9/  ...         NaN   78.945962\n",
       "45     67  /week9/  ...   69.568840         NaN\n",
       "46     68  /week9/  ...  147.890727   84.836918\n",
       "47     69  /week9/  ...  164.835181   93.485221\n",
       "48     70  /week9/  ...  121.129125   86.517063\n",
       "49     71  /week9/  ...  111.074133  114.674636\n",
       "50     72  /week9/  ...  104.696608   72.241719\n",
       "51     73  /week9/  ...  115.519880   98.599523\n",
       "52     74  /week9/  ...  104.630531   78.922695\n",
       "53     75  /week9/  ...  105.493932   76.852391\n",
       "\n",
       "[54 rows x 8 columns]"
      ]
     },
     "execution_count": 777,
     "metadata": {},
     "output_type": "execute_result"
    }
   ],
   "source": [
    "tqdm.pandas()\n",
    "\n",
    "def clip_features(amp):\n",
    "    high_peaks, high_prop = find_peaks(amp, prominence=50)\n",
    "    low_peaks, low_prop = find_peaks(-amp, prominence=50)\n",
    "    peaks = np.sort(np.r_[high_peaks, low_peaks])\n",
    "    return {\n",
    "        \"interval\": np.mean(np.diff(peaks)),\n",
    "        \"high_mean\": np.mean(high_prop[\"prominences\"]),\n",
    "        \"low_mean\": np.mean(low_prop[\"prominences\"])\n",
    "    }\n",
    "\n",
    "clip9_df = clip_df[\n",
    "    (~clip_df[\"label\"].isin([\"test\", \"no\"]))\n",
    "    & (~clip_df[\"double\"])].reset_index()\n",
    "clip_feat = pd.DataFrame([*clip9_df[\"amp\"].progress_apply(clip_features)])\n",
    "clip_feat_df = clip9_df.drop(columns=[\"time\", \"amp\"]).join(clip_feat)\n",
    "clip_feat_df"
   ]
  },
  {
   "cell_type": "code",
   "execution_count": 778,
   "id": "6d4dbcc0-7b9f-4190-aa32-3a05be4a8980",
   "metadata": {},
   "outputs": [
    {
     "data": {
      "text/plain": [
       "0.5236363636363637"
      ]
     },
     "execution_count": 778,
     "metadata": {},
     "output_type": "execute_result"
    }
   ],
   "source": [
    "from sklearn.preprocessing import StandardScaler\n",
    "from sklearn.tree import DecisionTreeClassifier\n",
    "from sklearn.model_selection import KFold\n",
    "\n",
    "X = clip_feat_df.iloc[:, 6:].to_numpy()\n",
    "y = (clip_feat_df[\"label\"] == \"blink\").to_numpy()\n",
    "\n",
    "kf = KFold(n_splits=5)\n",
    "scores = []\n",
    "for i, (train_index, test_index) in enumerate(kf.split(X)):\n",
    "    X_train = X[train_index]\n",
    "    y_train = y[train_index]\n",
    "    X_test = X[test_index]\n",
    "    y_test = y[test_index]\n",
    "\n",
    "    scalar = StandardScaler()\n",
    "    X_scaled = scalar.fit_transform(X)\n",
    "    model = DecisionTreeClassifier(max_depth=2)\n",
    "    model.fit(X_train, y_train)\n",
    "    scores.append(model.score(X_test, y_test))\n",
    "np.mean(scores)"
   ]
  },
  {
   "cell_type": "code",
   "execution_count": 779,
   "id": "8f432d86-f3ae-403b-8430-856a85261e10",
   "metadata": {},
   "outputs": [
    {
     "data": {
      "text/plain": [
       "0.7592592592592593"
      ]
     },
     "execution_count": 779,
     "metadata": {},
     "output_type": "execute_result"
    },
    {
     "data": {
      "image/png": "[encoded data removed]",
      "text/plain": [
       "<Figure size 640x480 with 1 Axes>"
      ]
     },
     "metadata": {},
     "output_type": "display_data"
    }
   ],
   "source": [
    "from sklearn.tree import plot_tree\n",
    "\n",
    "model = DecisionTreeClassifier(max_depth=1)\n",
    "model.fit(X, y)\n",
    "plot_tree(model)\n",
    "model.score(X, y)"
   ]
  },
  {
   "cell_type": "markdown",
   "id": "1644b117-9c21-46ab-b91b-6e607b8f4057",
   "metadata": {},
   "source": [
    "## Clustering with Auto-correlation"
   ]
  },
  {
   "cell_type": "code",
   "execution_count": 35,
   "id": "e5ffaf49-0121-4673-8766-608889651733",
   "metadata": {},
   "outputs": [
    {
     "data": {
      "text/html": [
       "<div>\n",
       "<style scoped>\n",
       "    .dataframe tbody tr th:only-of-type {\n",
       "        vertical-align: middle;\n",
       "    }\n",
       "\n",
       "    .dataframe tbody tr th {\n",
       "        vertical-align: top;\n",
       "    }\n",
       "\n",
       "    .dataframe thead th {\n",
       "        text-align: right;\n",
       "    }\n",
       "</style>\n",
       "<table border=\"1\" class=\"dataframe\">\n",
       "  <thead>\n",
       "    <tr style=\"text-align: right;\">\n",
       "      <th></th>\n",
       "      <th>x_acf1</th>\n",
       "      <th>x_acf10</th>\n",
       "      <th>diff1_acf1</th>\n",
       "      <th>diff1_acf10</th>\n",
       "      <th>diff2_acf1</th>\n",
       "      <th>diff2_acf10</th>\n",
       "    </tr>\n",
       "  </thead>\n",
       "  <tbody>\n",
       "    <tr>\n",
       "      <th>0</th>\n",
       "      <td>0.999990</td>\n",
       "      <td>9.998414</td>\n",
       "      <td>0.114816</td>\n",
       "      <td>0.131290</td>\n",
       "      <td>-0.499979</td>\n",
       "      <td>0.249979</td>\n",
       "    </tr>\n",
       "    <tr>\n",
       "      <th>1</th>\n",
       "      <td>0.999779</td>\n",
       "      <td>9.974689</td>\n",
       "      <td>0.094035</td>\n",
       "      <td>0.086832</td>\n",
       "      <td>-0.499899</td>\n",
       "      <td>0.249899</td>\n",
       "    </tr>\n",
       "    <tr>\n",
       "      <th>2</th>\n",
       "      <td>0.999436</td>\n",
       "      <td>9.933080</td>\n",
       "      <td>0.018325</td>\n",
       "      <td>0.003235</td>\n",
       "      <td>-0.499964</td>\n",
       "      <td>0.249964</td>\n",
       "    </tr>\n",
       "    <tr>\n",
       "      <th>3</th>\n",
       "      <td>0.999977</td>\n",
       "      <td>9.996892</td>\n",
       "      <td>0.122855</td>\n",
       "      <td>0.150708</td>\n",
       "      <td>-0.499993</td>\n",
       "      <td>0.249993</td>\n",
       "    </tr>\n",
       "    <tr>\n",
       "      <th>4</th>\n",
       "      <td>0.999876</td>\n",
       "      <td>9.983825</td>\n",
       "      <td>0.031234</td>\n",
       "      <td>0.009275</td>\n",
       "      <td>-0.499914</td>\n",
       "      <td>0.249914</td>\n",
       "    </tr>\n",
       "    <tr>\n",
       "      <th>5</th>\n",
       "      <td>0.999910</td>\n",
       "      <td>9.989299</td>\n",
       "      <td>0.114818</td>\n",
       "      <td>0.130251</td>\n",
       "      <td>-0.499957</td>\n",
       "      <td>0.249957</td>\n",
       "    </tr>\n",
       "    <tr>\n",
       "      <th>6</th>\n",
       "      <td>0.999949</td>\n",
       "      <td>9.993427</td>\n",
       "      <td>0.050587</td>\n",
       "      <td>0.025332</td>\n",
       "      <td>-0.499974</td>\n",
       "      <td>0.249974</td>\n",
       "    </tr>\n",
       "    <tr>\n",
       "      <th>7</th>\n",
       "      <td>0.999850</td>\n",
       "      <td>9.982535</td>\n",
       "      <td>0.031715</td>\n",
       "      <td>0.009788</td>\n",
       "      <td>-0.499953</td>\n",
       "      <td>0.249953</td>\n",
       "    </tr>\n",
       "    <tr>\n",
       "      <th>8</th>\n",
       "      <td>0.999981</td>\n",
       "      <td>9.997449</td>\n",
       "      <td>0.053383</td>\n",
       "      <td>0.028451</td>\n",
       "      <td>-0.499998</td>\n",
       "      <td>0.249998</td>\n",
       "    </tr>\n",
       "    <tr>\n",
       "      <th>9</th>\n",
       "      <td>0.999814</td>\n",
       "      <td>9.979000</td>\n",
       "      <td>0.065560</td>\n",
       "      <td>0.042840</td>\n",
       "      <td>-0.499995</td>\n",
       "      <td>0.249995</td>\n",
       "    </tr>\n",
       "    <tr>\n",
       "      <th>10</th>\n",
       "      <td>0.999637</td>\n",
       "      <td>9.959790</td>\n",
       "      <td>0.078750</td>\n",
       "      <td>0.061385</td>\n",
       "      <td>-0.499959</td>\n",
       "      <td>0.249959</td>\n",
       "    </tr>\n",
       "    <tr>\n",
       "      <th>11</th>\n",
       "      <td>0.999753</td>\n",
       "      <td>9.968923</td>\n",
       "      <td>0.024150</td>\n",
       "      <td>0.005520</td>\n",
       "      <td>-0.499928</td>\n",
       "      <td>0.249928</td>\n",
       "    </tr>\n",
       "    <tr>\n",
       "      <th>12</th>\n",
       "      <td>0.999922</td>\n",
       "      <td>9.990116</td>\n",
       "      <td>0.035482</td>\n",
       "      <td>0.012132</td>\n",
       "      <td>-0.499931</td>\n",
       "      <td>0.249931</td>\n",
       "    </tr>\n",
       "    <tr>\n",
       "      <th>13</th>\n",
       "      <td>0.999969</td>\n",
       "      <td>9.995804</td>\n",
       "      <td>0.903603</td>\n",
       "      <td>8.149672</td>\n",
       "      <td>-0.499321</td>\n",
       "      <td>0.249322</td>\n",
       "    </tr>\n",
       "  </tbody>\n",
       "</table>\n",
       "</div>"
      ],
      "text/plain": [
       "      x_acf1   x_acf10  diff1_acf1  diff1_acf10  diff2_acf1  diff2_acf10\n",
       "0   0.999990  9.998414    0.114816     0.131290   -0.499979     0.249979\n",
       "1   0.999779  9.974689    0.094035     0.086832   -0.499899     0.249899\n",
       "2   0.999436  9.933080    0.018325     0.003235   -0.499964     0.249964\n",
       "3   0.999977  9.996892    0.122855     0.150708   -0.499993     0.249993\n",
       "4   0.999876  9.983825    0.031234     0.009275   -0.499914     0.249914\n",
       "5   0.999910  9.989299    0.114818     0.130251   -0.499957     0.249957\n",
       "6   0.999949  9.993427    0.050587     0.025332   -0.499974     0.249974\n",
       "7   0.999850  9.982535    0.031715     0.009788   -0.499953     0.249953\n",
       "8   0.999981  9.997449    0.053383     0.028451   -0.499998     0.249998\n",
       "9   0.999814  9.979000    0.065560     0.042840   -0.499995     0.249995\n",
       "10  0.999637  9.959790    0.078750     0.061385   -0.499959     0.249959\n",
       "11  0.999753  9.968923    0.024150     0.005520   -0.499928     0.249928\n",
       "12  0.999922  9.990116    0.035482     0.012132   -0.499931     0.249931\n",
       "13  0.999969  9.995804    0.903603     8.149672   -0.499321     0.249322"
      ]
     },
     "execution_count": 35,
     "metadata": {},
     "output_type": "execute_result"
    }
   ],
   "source": [
    "df_acf_lr = pd.DataFrame()\n",
    "for _, clips in labeled_clips.items():\n",
    "    df_acf_lr = pd.concat([df_acf_lr,\n",
    "                           pd.DataFrame([acf_features(clip) for clip in clips])],\n",
    "                          ignore_index=True)\n",
    "df_acf_lr"
   ]
  }
 ],
 "metadata": {
  "kernelspec": {
   "display_name": "Python 3 (ipykernel)",
   "language": "python",
   "name": "python3"
  },
  "language_info": {
   "codemirror_mode": {
    "name": "ipython",
    "version": 3
   },
   "file_extension": ".py",
   "mimetype": "text/x-python",
   "name": "python",
   "nbconvert_exporter": "python",
   "pygments_lexer": "ipython3",
   "version": "3.12.3"
  }
 },
 "nbformat": 4,
 "nbformat_minor": 5
}
