{
 "cells": [
  {
   "cell_type": "code",
   "execution_count": 475,
   "id": "9a3a41e7-fdc3-4f1d-aa60-28490f7c879a",
   "metadata": {
    "scrolled": true
   },
   "outputs": [
    {
     "data": {
      "text/plain": [
       "[PosixPath('data/week10/1005BLINKS1.csv'),\n",
       " PosixPath('data/week10/1005BLINKS10.csv'),\n",
       " PosixPath('data/week10/1005BLINKS11.csv'),\n",
       " PosixPath('data/week10/1005BLINKS12.csv'),\n",
       " PosixPath('data/week10/1005BLINKS13.csv'),\n",
       " PosixPath('data/week10/1005BLINKS14.csv'),\n",
       " PosixPath('data/week10/1005BLINKS15.csv'),\n",
       " PosixPath('data/week10/1005BLINKS16.csv'),\n",
       " PosixPath('data/week10/1005BLINKS17.csv'),\n",
       " PosixPath('data/week10/1005BLINKS2.csv'),\n",
       " PosixPath('data/week10/1005BLINKS3.csv'),\n",
       " PosixPath('data/week10/1005BLINKS4.csv'),\n",
       " PosixPath('data/week10/1005BLINKS5.csv'),\n",
       " PosixPath('data/week10/1005BLINKS6.csv'),\n",
       " PosixPath('data/week10/1005BLINKS7.csv'),\n",
       " PosixPath('data/week10/1005BLINKS8.csv'),\n",
       " PosixPath('data/week10/1005BLINKS9.csv'),\n",
       " PosixPath('data/week11/0510DOUBLEBLINK01.csv'),\n",
       " PosixPath('data/week11/0510LEFT01.csv'),\n",
       " PosixPath('data/week11/0510LEFT02.csv'),\n",
       " PosixPath('data/week11/0510LEFT03.csv'),\n",
       " PosixPath('data/week11/0510RIGHT01.csv'),\n",
       " PosixPath('data/week11/0510RIGHT02.csv'),\n",
       " PosixPath('data/week11/0510RIGHT03.csv'),\n",
       " PosixPath('data/week11/0510blinK10.csv'),\n",
       " PosixPath('data/week11/0510blinK6.csv'),\n",
       " PosixPath('data/week11/0510blinK7.csv'),\n",
       " PosixPath('data/week11/0510blinK8.csv'),\n",
       " PosixPath('data/week11/0510blinK9.csv'),\n",
       " PosixPath('data/week11/0510blink1.csv'),\n",
       " PosixPath('data/week11/0510blink2.csv'),\n",
       " PosixPath('data/week11/0510blink3.csv'),\n",
       " PosixPath('data/week11/0510blink4.csv'),\n",
       " PosixPath('data/week11/0510blink5.csv'),\n",
       " PosixPath('data/week6/40secondblinkwithlaps.csv'),\n",
       " PosixPath('data/week6/40seconddoubleblink.csv'),\n",
       " PosixPath('data/week6/40seconddoublelookleft.csv'),\n",
       " PosixPath('data/week6/40seconddoublelookright.csv'),\n",
       " PosixPath('data/week6/40secondlookleftlaps.csv'),\n",
       " PosixPath('data/week6/40secondlookrightlaps.csv'),\n",
       " PosixPath('data/week9/2204blinks.csv'),\n",
       " PosixPath('data/week9/2204looklefts.csv'),\n",
       " PosixPath('data/week9/2204looklefts1.csv'),\n",
       " PosixPath('data/week9/2204lookrights.csv'),\n",
       " PosixPath('data/week9/2204lookrights1.csv'),\n",
       " PosixPath('data/week9/double/blinks/2204doubleblinks.csv'),\n",
       " PosixPath('data/week9/double/blinks/2204doubleblinks1.csv'),\n",
       " PosixPath('data/week9/double/left/2204doubleleft.csv'),\n",
       " PosixPath('data/week9/double/left/2204doubleleft1.csv'),\n",
       " PosixPath('data/week9/double/right/2204doubleright.csv'),\n",
       " PosixPath('data/week9/double/right/2204doubleright1.csv'),\n",
       " PosixPath('data/week9/non_event/noneventdata2204.csv'),\n",
       " PosixPath('data/week9/non_event/noneventdata22204.csv'),\n",
       " PosixPath('data/week9/non_event/noneventdata32204.csv'),\n",
       " PosixPath('data/week9/test/2204classifiertest1.csv'),\n",
       " PosixPath('data/week9/test/2204classifiertest2.csv'),\n",
       " PosixPath('data/week9/test/2204classifiertest3.csv'),\n",
       " PosixPath('data/week9/test/2204classifiertest4.csv'),\n",
       " PosixPath('data/week9/test/2204classifiertest5.csv')]"
      ]
     },
     "execution_count": 475,
     "metadata": {},
     "output_type": "execute_result"
    }
   ],
   "source": [
    "from pathlib import Path\n",
    "\n",
    "data_dir = Path(\"data\")\n",
    "\n",
    "def filter_path(path):\n",
    "    return (path.parent.stem != \".ipynb_checkpoints\"\n",
    "        and \"week7\" not in str(path)\n",
    "        and \"week8\" not in str(path))\n",
    "\n",
    "data_paths = sorted(filter(filter_path, data_dir.glob(\"**/*.csv\")))\n",
    "data_paths"
   ]
  },
  {
   "cell_type": "code",
   "execution_count": 2,
   "id": "dcf7727d-74ca-486d-a7b1-0bf66372c1bb",
   "metadata": {},
   "outputs": [],
   "source": [
    "import numpy as np\n",
    "\n",
    "def load_data(path, with_laps=\"laps.txt\", reverse=True):\n",
    "    laps = []\n",
    "    if with_laps:\n",
    "        name = path.stem\n",
    "        found = False\n",
    "        laps_txt = path.parent / with_laps\n",
    "        if laps_txt.exists():\n",
    "            with open(laps_txt) as f:\n",
    "                for line in f.readlines():\n",
    "                    line = line.strip()\n",
    "                    if not line:\n",
    "                        pass\n",
    "                    elif not line.replace(\".\", \"\").isnumeric():\n",
    "                        if found:\n",
    "                            break\n",
    "                        if name == line:\n",
    "                            found = True\n",
    "                    elif found:\n",
    "                        laps.append(float(line))\n",
    "                laps = np.cumsum(np.array(laps))\n",
    "    arr = np.genfromtxt(path, delimiter=\",\")\n",
    "    time, amp = arr.T\n",
    "    if time[-1] < time[0]:\n",
    "        time = np.max(time) - time\n",
    "        amp = amp[::-1]\n",
    "\n",
    "    return time, amp, laps if len(laps) else None"
   ]
  },
  {
   "cell_type": "code",
   "execution_count": 3,
   "id": "583e384f-ae23-4f88-bbb3-61eed117fdba",
   "metadata": {},
   "outputs": [],
   "source": [
    "import matplotlib.pyplot as plt\n",
    "\n",
    "def plot_data(time, amp, laps=None, /, ax=None):\n",
    "    if ax is None:\n",
    "        ax = plt.gca()\n",
    "    ax.plot(time, amp)\n",
    "    if laps is not None:\n",
    "        ax.vlines(laps, np.min(amp), np.max(amp),\n",
    "                  color=\"red\")"
   ]
  },
  {
   "cell_type": "code",
   "execution_count": 476,
   "id": "abefd3f2-9ffb-484e-a916-c17e267c8983",
   "metadata": {},
   "outputs": [
    {
     "data": {
      "application/vnd.jupyter.widget-view+json": {
       "model_id": "a25475d717854542a792d021e3b0ee37",
       "version_major": 2,
       "version_minor": 0
      },
      "text/plain": [
       "  0%|          | 0/59 [00:00<?, ?it/s]"
      ]
     },
     "metadata": {},
     "output_type": "display_data"
    }
   ],
   "source": [
    "from tqdm.auto import tqdm\n",
    "\n",
    "figure_dir = Path(\"figure/raw\")\n",
    "\n",
    "for path in tqdm(data_paths):\n",
    "    fig, ax = plt.subplots(figsize=(12, 4))\n",
    "    time, amp, laps = load_data(path)\n",
    "    plot_data(time, amp, laps)\n",
    "    ax.set_title(path.stem)\n",
    "    where = figure_dir / path.relative_to(data_dir).with_suffix(\".png\")\n",
    "    where.parent.mkdir(parents=True, exist_ok=True)\n",
    "    fig.savefig(where)\n",
    "    plt.close()"
   ]
  },
  {
   "cell_type": "markdown",
   "id": "8f96f6b0-38a1-47fc-a44e-c7bd09b1ce58",
   "metadata": {},
   "source": [
    "## Event Detection"
   ]
  },
  {
   "cell_type": "markdown",
   "id": "ef4d5b5e-beb6-4ba0-af94-1e027a263e9f",
   "metadata": {},
   "source": [
    "### Moving Average of Absolute Difference"
   ]
  },
  {
   "cell_type": "code",
   "execution_count": 204,
   "id": "c74a98c2-0239-4d5a-8397-99feeb4632b7",
   "metadata": {},
   "outputs": [
    {
     "data": {
      "application/vnd.jupyter.widget-view+json": {
       "model_id": "bdb3fdad5a924d4799f5696b2dc30f97",
       "version_major": 2,
       "version_minor": 0
      },
      "text/plain": [
       "  0%|          | 0/42 [00:00<?, ?it/s]"
      ]
     },
     "metadata": {},
     "output_type": "display_data"
    }
   ],
   "source": [
    "from scipy.signal import find_peaks\n",
    "\n",
    "figure_dir = Path(\"figure/prominence_50/\")\n",
    "\n",
    "for path in tqdm(data_paths):\n",
    "    window_sec = 1.0\n",
    "    window_n = int(10_000 * window_sec)\n",
    "    \n",
    "    time, amp, laps = load_data(path)\n",
    "    \n",
    "    amp_mean = np.mean(amp)\n",
    "    abs_diff = np.r_[0, np.abs(np.diff(amp))]\n",
    "    moving_avg = np.convolve(abs_diff, np.ones(window_n), \"full\")[:-(window_n - 1)] / window_n\n",
    "    high_peaks, _ = find_peaks(amp - amp_mean, prominence=50)\n",
    "    low_peaks, _ = find_peaks(amp_mean - amp, prominence=50)\n",
    "    \n",
    "    fig = plt.figure(figsize=(12, 4))\n",
    "    plot_data(time, amp)\n",
    "    plot_data(time, np.where(moving_avg > 0.02, max(amp), min(amp)))\n",
    "    plt.scatter(time[high_peaks], amp[high_peaks], c=\"green\", marker=\"x\")\n",
    "    plt.scatter(time[low_peaks], amp[low_peaks], c=\"red\", marker=\"x\")\n",
    "    \n",
    "    where = figure_dir / path.relative_to(data_dir).with_suffix(\".png\")\n",
    "    where.parent.mkdir(parents=True, exist_ok=True)    \n",
    "    fig.savefig(where)\n",
    "    plt.close()"
   ]
  },
  {
   "cell_type": "markdown",
   "id": "f6310f60-f881-4021-beee-a80bce5d5d98",
   "metadata": {},
   "source": [
    "### Variance"
   ]
  },
  {
   "cell_type": "code",
   "execution_count": 367,
   "id": "8cf0bf6d-0961-468a-a151-bdca87c1017d",
   "metadata": {},
   "outputs": [
    {
     "data": {
      "application/vnd.jupyter.widget-view+json": {
       "model_id": "2c448ca4bbf0462a8e8158b83ed292cd",
       "version_major": 2,
       "version_minor": 0
      },
      "text/plain": [
       "  0%|          | 0/25 [00:00<?, ?it/s]"
      ]
     },
     "metadata": {},
     "output_type": "display_data"
    }
   ],
   "source": [
    "from scipy.signal import find_peaks\n",
    "\n",
    "figure_dir = Path(\"figure/prominence_90/\")\n",
    "\n",
    "for path in tqdm(data_paths):\n",
    "    window_sec = 1.0\n",
    "    window_n = int(10_000 * window_sec)\n",
    "    \n",
    "    time, amp, laps = load_data(path)\n",
    "    \n",
    "    amp_med = np.median(amp)\n",
    "    error = amp - amp_med\n",
    "    std = np.convolve(error ** 2, np.ones(window_n), \"full\")[:-(window_n - 1)] / window_n\n",
    "    high_peaks, _ = find_peaks(amp - amp_mean, prominence=90)\n",
    "    low_peaks, _ = find_peaks(amp_mean - amp, prominence=90)\n",
    "    \n",
    "    fig = plt.figure(figsize=(12, 4))\n",
    "    plot_data(time, amp)\n",
    "    plot_data(time, np.where(std > 150, max(amp), min(amp)))\n",
    "    plt.scatter(time[high_peaks], amp[high_peaks], c=\"green\", marker=\"x\")\n",
    "    plt.scatter(time[low_peaks], amp[low_peaks], c=\"red\", marker=\"x\")\n",
    "    \n",
    "    where = figure_dir / path.relative_to(data_dir).with_suffix(\".png\")\n",
    "    where.parent.mkdir(parents=True, exist_ok=True)    \n",
    "    fig.savefig(where)\n",
    "    plt.close()"
   ]
  },
  {
   "cell_type": "markdown",
   "id": "54d5b579-5a31-4c0a-964c-4bfecf64e93a",
   "metadata": {},
   "source": [
    "### Windowed Visualization"
   ]
  },
  {
   "cell_type": "code",
   "execution_count": 5,
   "id": "c6ebc5da-85ef-4609-b84d-b6cd3d6bd8f8",
   "metadata": {},
   "outputs": [],
   "source": [
    "def sliding_window(time,\n",
    "                   amp,\n",
    "                   laps=None,\n",
    "                   window_sec=1.0,\n",
    "                   window_inc=0.2,\n",
    "                   show_progress=True):\n",
    "    n_window = int((max(time) - window_sec) // window_inc)\n",
    "    iter_window = range(n_window)\n",
    "    if show_progress:\n",
    "        from tqdm.auto import tqdm\n",
    "        iter_window = tqdm(iter_window, leave=False)\n",
    "    for i in iter_window:\n",
    "        start_sec = window_inc * i\n",
    "        end_sec = start_sec + window_sec\n",
    "        mask = (start_sec <= time) & (time < end_sec)\n",
    "        if laps is not None:\n",
    "            laps_masked = laps[(start_sec <= laps) & (laps < end_sec)]\n",
    "            yield time[mask], amp[mask], laps_masked\n",
    "        else:\n",
    "            yield time[mask], amp[mask], None\n",
    "\n",
    "# windows = sliding_window(time, amp, laps)\n",
    "# for _ in range(25):\n",
    "#     next(windows)\n",
    "# window_time, window_amp, window_laps = next(windows)\n",
    "# plt.figure(figsize=(12, 4))\n",
    "# plot_data(window_time, window_amp, window_laps)\n",
    "# plt.show()"
   ]
  },
  {
   "cell_type": "code",
   "execution_count": 18,
   "id": "1ab91fce-9053-49b9-ae1a-89817d3989e5",
   "metadata": {
    "collapsed": true,
    "jupyter": {
     "outputs_hidden": true,
     "source_hidden": true
    }
   },
   "outputs": [
    {
     "data": {
      "application/vnd.jupyter.widget-view+json": {
       "model_id": "76e5518027ca4640aed98144e78a1809",
       "version_major": 2,
       "version_minor": 0
      },
      "text/plain": [
       "  0%|          | 0/40 [00:00<?, ?it/s]"
      ]
     },
     "metadata": {},
     "output_type": "display_data"
    },
    {
     "data": {
      "application/vnd.jupyter.widget-view+json": {
       "model_id": "",
       "version_major": 2,
       "version_minor": 0
      },
      "text/plain": [
       "  0%|          | 0/196 [00:00<?, ?it/s]"
      ]
     },
     "metadata": {},
     "output_type": "display_data"
    },
    {
     "data": {
      "application/vnd.jupyter.widget-view+json": {
       "model_id": "",
       "version_major": 2,
       "version_minor": 0
      },
      "text/plain": [
       "  0%|          | 0/196 [00:00<?, ?it/s]"
      ]
     },
     "metadata": {},
     "output_type": "display_data"
    },
    {
     "data": {
      "application/vnd.jupyter.widget-view+json": {
       "model_id": "",
       "version_major": 2,
       "version_minor": 0
      },
      "text/plain": [
       "  0%|          | 0/196 [00:00<?, ?it/s]"
      ]
     },
     "metadata": {},
     "output_type": "display_data"
    },
    {
     "data": {
      "application/vnd.jupyter.widget-view+json": {
       "model_id": "",
       "version_major": 2,
       "version_minor": 0
      },
      "text/plain": [
       "  0%|          | 0/196 [00:00<?, ?it/s]"
      ]
     },
     "metadata": {},
     "output_type": "display_data"
    },
    {
     "data": {
      "application/vnd.jupyter.widget-view+json": {
       "model_id": "",
       "version_major": 2,
       "version_minor": 0
      },
      "text/plain": [
       "  0%|          | 0/196 [00:00<?, ?it/s]"
      ]
     },
     "metadata": {},
     "output_type": "display_data"
    },
    {
     "data": {
      "application/vnd.jupyter.widget-view+json": {
       "model_id": "",
       "version_major": 2,
       "version_minor": 0
      },
      "text/plain": [
       "  0%|          | 0/196 [00:00<?, ?it/s]"
      ]
     },
     "metadata": {},
     "output_type": "display_data"
    },
    {
     "data": {
      "application/vnd.jupyter.widget-view+json": {
       "model_id": "",
       "version_major": 2,
       "version_minor": 0
      },
      "text/plain": [
       "  0%|          | 0/95 [00:00<?, ?it/s]"
      ]
     },
     "metadata": {},
     "output_type": "display_data"
    },
    {
     "data": {
      "application/vnd.jupyter.widget-view+json": {
       "model_id": "",
       "version_major": 2,
       "version_minor": 0
      },
      "text/plain": [
       "  0%|          | 0/95 [00:00<?, ?it/s]"
      ]
     },
     "metadata": {},
     "output_type": "display_data"
    },
    {
     "data": {
      "application/vnd.jupyter.widget-view+json": {
       "model_id": "",
       "version_major": 2,
       "version_minor": 0
      },
      "text/plain": [
       "  0%|          | 0/95 [00:00<?, ?it/s]"
      ]
     },
     "metadata": {},
     "output_type": "display_data"
    },
    {
     "data": {
      "application/vnd.jupyter.widget-view+json": {
       "model_id": "",
       "version_major": 2,
       "version_minor": 0
      },
      "text/plain": [
       "  0%|          | 0/95 [00:00<?, ?it/s]"
      ]
     },
     "metadata": {},
     "output_type": "display_data"
    },
    {
     "data": {
      "application/vnd.jupyter.widget-view+json": {
       "model_id": "",
       "version_major": 2,
       "version_minor": 0
      },
      "text/plain": [
       "  0%|          | 0/95 [00:00<?, ?it/s]"
      ]
     },
     "metadata": {},
     "output_type": "display_data"
    },
    {
     "data": {
      "application/vnd.jupyter.widget-view+json": {
       "model_id": "",
       "version_major": 2,
       "version_minor": 0
      },
      "text/plain": [
       "  0%|          | 0/95 [00:00<?, ?it/s]"
      ]
     },
     "metadata": {},
     "output_type": "display_data"
    },
    {
     "data": {
      "application/vnd.jupyter.widget-view+json": {
       "model_id": "",
       "version_major": 2,
       "version_minor": 0
      },
      "text/plain": [
       "  0%|          | 0/95 [00:00<?, ?it/s]"
      ]
     },
     "metadata": {},
     "output_type": "display_data"
    },
    {
     "data": {
      "application/vnd.jupyter.widget-view+json": {
       "model_id": "",
       "version_major": 2,
       "version_minor": 0
      },
      "text/plain": [
       "  0%|          | 0/95 [00:00<?, ?it/s]"
      ]
     },
     "metadata": {},
     "output_type": "display_data"
    },
    {
     "data": {
      "application/vnd.jupyter.widget-view+json": {
       "model_id": "",
       "version_major": 2,
       "version_minor": 0
      },
      "text/plain": [
       "  0%|          | 0/95 [00:00<?, ?it/s]"
      ]
     },
     "metadata": {},
     "output_type": "display_data"
    },
    {
     "data": {
      "application/vnd.jupyter.widget-view+json": {
       "model_id": "",
       "version_major": 2,
       "version_minor": 0
      },
      "text/plain": [
       "  0%|          | 0/95 [00:00<?, ?it/s]"
      ]
     },
     "metadata": {},
     "output_type": "display_data"
    },
    {
     "data": {
      "application/vnd.jupyter.widget-view+json": {
       "model_id": "",
       "version_major": 2,
       "version_minor": 0
      },
      "text/plain": [
       "  0%|          | 0/95 [00:00<?, ?it/s]"
      ]
     },
     "metadata": {},
     "output_type": "display_data"
    },
    {
     "data": {
      "application/vnd.jupyter.widget-view+json": {
       "model_id": "",
       "version_major": 2,
       "version_minor": 0
      },
      "text/plain": [
       "  0%|          | 0/95 [00:00<?, ?it/s]"
      ]
     },
     "metadata": {},
     "output_type": "display_data"
    },
    {
     "data": {
      "application/vnd.jupyter.widget-view+json": {
       "model_id": "",
       "version_major": 2,
       "version_minor": 0
      },
      "text/plain": [
       "  0%|          | 0/95 [00:00<?, ?it/s]"
      ]
     },
     "metadata": {},
     "output_type": "display_data"
    },
    {
     "data": {
      "application/vnd.jupyter.widget-view+json": {
       "model_id": "",
       "version_major": 2,
       "version_minor": 0
      },
      "text/plain": [
       "  0%|          | 0/95 [00:00<?, ?it/s]"
      ]
     },
     "metadata": {},
     "output_type": "display_data"
    },
    {
     "data": {
      "application/vnd.jupyter.widget-view+json": {
       "model_id": "",
       "version_major": 2,
       "version_minor": 0
      },
      "text/plain": [
       "  0%|          | 0/95 [00:00<?, ?it/s]"
      ]
     },
     "metadata": {},
     "output_type": "display_data"
    },
    {
     "data": {
      "application/vnd.jupyter.widget-view+json": {
       "model_id": "",
       "version_major": 2,
       "version_minor": 0
      },
      "text/plain": [
       "  0%|          | 0/95 [00:00<?, ?it/s]"
      ]
     },
     "metadata": {},
     "output_type": "display_data"
    },
    {
     "data": {
      "application/vnd.jupyter.widget-view+json": {
       "model_id": "",
       "version_major": 2,
       "version_minor": 0
      },
      "text/plain": [
       "  0%|          | 0/95 [00:00<?, ?it/s]"
      ]
     },
     "metadata": {},
     "output_type": "display_data"
    },
    {
     "data": {
      "application/vnd.jupyter.widget-view+json": {
       "model_id": "",
       "version_major": 2,
       "version_minor": 0
      },
      "text/plain": [
       "  0%|          | 0/95 [00:00<?, ?it/s]"
      ]
     },
     "metadata": {},
     "output_type": "display_data"
    },
    {
     "data": {
      "application/vnd.jupyter.widget-view+json": {
       "model_id": "",
       "version_major": 2,
       "version_minor": 0
      },
      "text/plain": [
       "  0%|          | 0/95 [00:00<?, ?it/s]"
      ]
     },
     "metadata": {},
     "output_type": "display_data"
    },
    {
     "data": {
      "text/html": [
       "<div>\n",
       "<style scoped>\n",
       "    .dataframe tbody tr th:only-of-type {\n",
       "        vertical-align: middle;\n",
       "    }\n",
       "\n",
       "    .dataframe tbody tr th {\n",
       "        vertical-align: top;\n",
       "    }\n",
       "\n",
       "    .dataframe thead th {\n",
       "        text-align: right;\n",
       "    }\n",
       "</style>\n",
       "<table border=\"1\" class=\"dataframe\">\n",
       "  <thead>\n",
       "    <tr style=\"text-align: right;\">\n",
       "      <th></th>\n",
       "      <th>x_acf1</th>\n",
       "      <th>x_acf10</th>\n",
       "      <th>diff1_acf1</th>\n",
       "      <th>diff1_acf10</th>\n",
       "      <th>diff2_acf1</th>\n",
       "      <th>diff2_acf10</th>\n",
       "    </tr>\n",
       "  </thead>\n",
       "  <tbody>\n",
       "    <tr>\n",
       "      <th>0</th>\n",
       "      <td>0.999924</td>\n",
       "      <td>9.988690</td>\n",
       "      <td>0.072457</td>\n",
       "      <td>0.051893</td>\n",
       "      <td>-0.499958</td>\n",
       "      <td>0.249958</td>\n",
       "    </tr>\n",
       "    <tr>\n",
       "      <th>1</th>\n",
       "      <td>0.999920</td>\n",
       "      <td>9.984171</td>\n",
       "      <td>0.137108</td>\n",
       "      <td>0.186062</td>\n",
       "      <td>-0.484861</td>\n",
       "      <td>0.235090</td>\n",
       "    </tr>\n",
       "    <tr>\n",
       "      <th>2</th>\n",
       "      <td>0.999934</td>\n",
       "      <td>9.986708</td>\n",
       "      <td>0.139567</td>\n",
       "      <td>0.192562</td>\n",
       "      <td>-0.499928</td>\n",
       "      <td>0.249928</td>\n",
       "    </tr>\n",
       "    <tr>\n",
       "      <th>3</th>\n",
       "      <td>0.999369</td>\n",
       "      <td>9.921325</td>\n",
       "      <td>0.726362</td>\n",
       "      <td>5.233059</td>\n",
       "      <td>-0.499345</td>\n",
       "      <td>0.249345</td>\n",
       "    </tr>\n",
       "    <tr>\n",
       "      <th>4</th>\n",
       "      <td>0.999733</td>\n",
       "      <td>9.941918</td>\n",
       "      <td>0.252239</td>\n",
       "      <td>0.628460</td>\n",
       "      <td>-0.499860</td>\n",
       "      <td>0.249860</td>\n",
       "    </tr>\n",
       "    <tr>\n",
       "      <th>...</th>\n",
       "      <td>...</td>\n",
       "      <td>...</td>\n",
       "      <td>...</td>\n",
       "      <td>...</td>\n",
       "      <td>...</td>\n",
       "      <td>...</td>\n",
       "    </tr>\n",
       "    <tr>\n",
       "      <th>2976</th>\n",
       "      <td>0.999345</td>\n",
       "      <td>9.917802</td>\n",
       "      <td>0.033389</td>\n",
       "      <td>0.010879</td>\n",
       "      <td>-0.499980</td>\n",
       "      <td>0.249980</td>\n",
       "    </tr>\n",
       "    <tr>\n",
       "      <th>2977</th>\n",
       "      <td>0.999468</td>\n",
       "      <td>9.933783</td>\n",
       "      <td>0.033331</td>\n",
       "      <td>0.010836</td>\n",
       "      <td>-0.499980</td>\n",
       "      <td>0.249980</td>\n",
       "    </tr>\n",
       "    <tr>\n",
       "      <th>2978</th>\n",
       "      <td>0.999269</td>\n",
       "      <td>9.909868</td>\n",
       "      <td>0.033217</td>\n",
       "      <td>0.010783</td>\n",
       "      <td>-0.499980</td>\n",
       "      <td>0.249980</td>\n",
       "    </tr>\n",
       "    <tr>\n",
       "      <th>2979</th>\n",
       "      <td>0.999377</td>\n",
       "      <td>9.921690</td>\n",
       "      <td>0.390985</td>\n",
       "      <td>1.492148</td>\n",
       "      <td>-0.499697</td>\n",
       "      <td>0.249697</td>\n",
       "    </tr>\n",
       "    <tr>\n",
       "      <th>2980</th>\n",
       "      <td>0.999590</td>\n",
       "      <td>9.946728</td>\n",
       "      <td>0.195115</td>\n",
       "      <td>0.372365</td>\n",
       "      <td>-0.499865</td>\n",
       "      <td>0.249865</td>\n",
       "    </tr>\n",
       "  </tbody>\n",
       "</table>\n",
       "<p>2981 rows × 6 columns</p>\n",
       "</div>"
      ],
      "text/plain": [
       "        x_acf1   x_acf10  diff1_acf1  diff1_acf10  diff2_acf1  diff2_acf10\n",
       "0     0.999924  9.988690    0.072457     0.051893   -0.499958     0.249958\n",
       "1     0.999920  9.984171    0.137108     0.186062   -0.484861     0.235090\n",
       "2     0.999934  9.986708    0.139567     0.192562   -0.499928     0.249928\n",
       "3     0.999369  9.921325    0.726362     5.233059   -0.499345     0.249345\n",
       "4     0.999733  9.941918    0.252239     0.628460   -0.499860     0.249860\n",
       "...        ...       ...         ...          ...         ...          ...\n",
       "2976  0.999345  9.917802    0.033389     0.010879   -0.499980     0.249980\n",
       "2977  0.999468  9.933783    0.033331     0.010836   -0.499980     0.249980\n",
       "2978  0.999269  9.909868    0.033217     0.010783   -0.499980     0.249980\n",
       "2979  0.999377  9.921690    0.390985     1.492148   -0.499697     0.249697\n",
       "2980  0.999590  9.946728    0.195115     0.372365   -0.499865     0.249865\n",
       "\n",
       "[2981 rows x 6 columns]"
      ]
     },
     "execution_count": 18,
     "metadata": {},
     "output_type": "execute_result"
    }
   ],
   "source": [
    "import pandas as pd\n",
    "from tqdm.auto import tqdm\n",
    "from tsfeatures import acf_features\n",
    "\n",
    "df_acf = pd.DataFrame()\n",
    "for path in filter(lambda path: any(keyword in str(path)\n",
    "                                    for keyword in (\"week6\", \"week9\")),\n",
    "                   tqdm(data_paths)):\n",
    "    time, amp, laps = load_data(path)\n",
    "    feat = [acf_features(amp) for _, amp, _ in sliding_window(time, amp)]\n",
    "    df_acf = pd.concat([df_acf, pd.DataFrame(feat)], ignore_index=True)\n",
    "\n",
    "df_acf.to_csv(\"data/week6_9_acf.csv\")\n",
    "\n",
    "from sklearn.preprocessing import StandardScaler\n",
    "from sklearn.cluster import KMeans\n",
    "\n",
    "X = df_acf.to_numpy()\n",
    "\n",
    "scaler = StandardScaler()\n",
    "X_scaled = scaler.fit_transform(X)\n",
    "\n",
    "clustering = KMeans(n_clusters=3)\n",
    "y = clustering.fit_predict(X_scaled)\n",
    "np.unique(y, return_counts=True)"
   ]
  },
  {
   "cell_type": "code",
   "execution_count": 6,
   "id": "7bc03b8f-3ea0-4ada-9863-504a1c676c0d",
   "metadata": {},
   "outputs": [],
   "source": [
    "def predict_event(time, amp,\n",
    "                  event_classifier,\n",
    "                  window_sec=1.2,\n",
    "                  window_inc=0.05,\n",
    "                  event_skip=None):\n",
    "    if event_skip is None:\n",
    "        event_skip = int(window_sec // window_inc)\n",
    "    windows = sliding_window(time, amp)\n",
    "    while (window := next(windows, None)) is not None:\n",
    "        window_time, window_amp, _ = window\n",
    "        has_event = event_classifier(window_amp)\n",
    "        if has_event:\n",
    "            yield min(window_time), max(window_time)\n",
    "            for _ in range(event_skip):\n",
    "                next(windows, None)"
   ]
  },
  {
   "cell_type": "code",
   "execution_count": 11,
   "id": "46d8b07c-bde3-44c3-8760-e9bc6942ce9a",
   "metadata": {},
   "outputs": [
    {
     "data": {
      "application/vnd.jupyter.widget-view+json": {
       "model_id": "",
       "version_major": 2,
       "version_minor": 0
      },
      "text/plain": [
       "  0%|          | 0/94 [00:00<?, ?it/s]"
      ]
     },
     "metadata": {},
     "output_type": "display_data"
    },
    {
     "data": {
      "image/png": "[encoded data removed]",
      "text/plain": [
       "<Figure size 1200x400 with 1 Axes>"
      ]
     },
     "metadata": {},
     "output_type": "display_data"
    }
   ],
   "source": [
    "def classifier(amp):\n",
    "    return np.var(amp) > 250\n",
    "\n",
    "time, amp, laps = load_data(Path(\"./data/week9/2204looklefts1.csv\"))\n",
    "\n",
    "threshold = np.std(amp)\n",
    "\n",
    "events = [*predict_event(time, amp,\n",
    "                         classifier,\n",
    "                         window_sec=0.1,\n",
    "                         window_inc=0.1,\n",
    "                         event_skip=0)]\n",
    "plt.figure(figsize=(12, 4))\n",
    "for event_start, event_end in events:\n",
    "    plt.vlines(event_end, min(amp), max(amp), color=\"limegreen\")\n",
    "plot_data(time, amp, laps)\n",
    "plt.savefig(\"2204doubleleft.png\")\n",
    "plt.show()"
   ]
  },
  {
   "attachments": {},
   "cell_type": "markdown",
   "id": "36b740d6-adec-49f6-ad22-4c785e878ac5",
   "metadata": {},
   "source": [
    "## Event Classficiation\n",
    "\n",
    "### Slice"
   ]
  },
  {
   "cell_type": "code",
   "execution_count": 483,
   "id": "1868a6ba-a86e-471e-b980-245a7c45670e",
   "metadata": {},
   "outputs": [
    {
     "data": {
      "application/vnd.jupyter.widget-view+json": {
       "model_id": "1acec0090af14f379d5fa2810df5ff08",
       "version_major": 2,
       "version_minor": 0
      },
      "text/plain": [
       "  0%|          | 0/59 [00:00<?, ?it/s]"
      ]
     },
     "metadata": {},
     "output_type": "display_data"
    }
   ],
   "source": [
    "import re\n",
    "import pandas as pd\n",
    "from tqdm.auto import tqdm\n",
    "\n",
    "clip_df = []\n",
    "for path in tqdm(data_paths):\n",
    "    week = int(re.search(r\"/week(\\d+)/\", str(path), flags=re.I).group(1))\n",
    "    for s in (\"left\", \"right\", \"blink\", \"no\", \"test\"):\n",
    "        if s in str(path).lower():\n",
    "            label = s\n",
    "            break\n",
    "    else:\n",
    "        raise ValueError()\n",
    "\n",
    "    double = \"double\" in str(path)\n",
    "\n",
    "    window_sec = 1.0\n",
    "    window_n = int(10_000 * window_sec)\n",
    "    minimum_sec = 0.2\n",
    "    minimum_n = int(10_000 * minimum_sec)\n",
    "    \n",
    "    time, amp, laps = load_data(path)\n",
    "    \n",
    "    amp_med = np.median(amp)\n",
    "    error = amp - amp_med\n",
    "    std = np.convolve(error ** 2, np.ones(window_n), \"full\")[:-(window_n - 1)] / window_n\n",
    "    event = (std > 150).astype(int)\n",
    "    for i, j in np.where(np.diff(np.r_[0, event, 0]))[0].reshape(-1, 2):\n",
    "        if j - i < minimum_n:\n",
    "            continue\n",
    "        clip_time = time[max(0, i - window_n):j]\n",
    "        clip_amp = amp[max(0, i - window_n):j]\n",
    "        clip_df.append({\n",
    "            \"week\": week,\n",
    "            \"path\": str(path),\n",
    "            \"label\": label,\n",
    "            \"double\": double,\n",
    "            \"time\": clip_time,\n",
    "            \"amp\": clip_amp,\n",
    "        })\n",
    "\n",
    "clip_df = pd.DataFrame(clip_df)"
   ]
  },
  {
   "cell_type": "markdown",
   "id": "2966b8b2-d852-4318-a1ef-860b2b9730c6",
   "metadata": {},
   "source": [
    "### Blink vs Not Blink"
   ]
  },
  {
   "cell_type": "markdown",
   "id": "e2d3ad5a-4874-4e64-8b77-0cf1dbae1a2e",
   "metadata": {},
   "source": [
    "The method used here is the minimum difference in indicies between peaks (high or low).\n",
    "\n",
    "_20,000 indicies = 1 second_"
   ]
  },
  {
   "cell_type": "code",
   "execution_count": 608,
   "id": "b4ff4288-c33a-4d4a-901f-5aca2877c689",
   "metadata": {
    "scrolled": true
   },
   "outputs": [
    {
     "data": {
      "application/vnd.jupyter.widget-view+json": {
       "model_id": "796634bc99b1403186c55f4275fd1f6e",
       "version_major": 2,
       "version_minor": 0
      },
      "text/plain": [
       "  0%|          | 0/302 [00:00<?, ?it/s]"
      ]
     },
     "metadata": {},
     "output_type": "display_data"
    },
    {
     "data": {
      "text/html": [
       "<div>\n",
       "<style scoped>\n",
       "    .dataframe tbody tr th:only-of-type {\n",
       "        vertical-align: middle;\n",
       "    }\n",
       "\n",
       "    .dataframe tbody tr th {\n",
       "        vertical-align: top;\n",
       "    }\n",
       "\n",
       "    .dataframe thead th {\n",
       "        text-align: right;\n",
       "    }\n",
       "</style>\n",
       "<table border=\"1\" class=\"dataframe\">\n",
       "  <thead>\n",
       "    <tr style=\"text-align: right;\">\n",
       "      <th></th>\n",
       "      <th>index</th>\n",
       "      <th>week</th>\n",
       "      <th>path</th>\n",
       "      <th>label</th>\n",
       "      <th>double</th>\n",
       "      <th>min_diff_peak</th>\n",
       "    </tr>\n",
       "  </thead>\n",
       "  <tbody>\n",
       "    <tr>\n",
       "      <th>0</th>\n",
       "      <td>0</td>\n",
       "      <td>10</td>\n",
       "      <td>data/week10/1005BLINKS1.csv</td>\n",
       "      <td>blink</td>\n",
       "      <td>False</td>\n",
       "      <td>0</td>\n",
       "    </tr>\n",
       "    <tr>\n",
       "      <th>1</th>\n",
       "      <td>1</td>\n",
       "      <td>10</td>\n",
       "      <td>data/week10/1005BLINKS1.csv</td>\n",
       "      <td>blink</td>\n",
       "      <td>False</td>\n",
       "      <td>1571</td>\n",
       "    </tr>\n",
       "    <tr>\n",
       "      <th>2</th>\n",
       "      <td>2</td>\n",
       "      <td>10</td>\n",
       "      <td>data/week10/1005BLINKS1.csv</td>\n",
       "      <td>blink</td>\n",
       "      <td>False</td>\n",
       "      <td>0</td>\n",
       "    </tr>\n",
       "    <tr>\n",
       "      <th>3</th>\n",
       "      <td>3</td>\n",
       "      <td>10</td>\n",
       "      <td>data/week10/1005BLINKS1.csv</td>\n",
       "      <td>blink</td>\n",
       "      <td>False</td>\n",
       "      <td>0</td>\n",
       "    </tr>\n",
       "    <tr>\n",
       "      <th>4</th>\n",
       "      <td>4</td>\n",
       "      <td>10</td>\n",
       "      <td>data/week10/1005BLINKS1.csv</td>\n",
       "      <td>blink</td>\n",
       "      <td>False</td>\n",
       "      <td>1312</td>\n",
       "    </tr>\n",
       "    <tr>\n",
       "      <th>...</th>\n",
       "      <td>...</td>\n",
       "      <td>...</td>\n",
       "      <td>...</td>\n",
       "      <td>...</td>\n",
       "      <td>...</td>\n",
       "      <td>...</td>\n",
       "    </tr>\n",
       "    <tr>\n",
       "      <th>297</th>\n",
       "      <td>297</td>\n",
       "      <td>9</td>\n",
       "      <td>data/week9/double/right/2204doubleright.csv</td>\n",
       "      <td>right</td>\n",
       "      <td>True</td>\n",
       "      <td>2534</td>\n",
       "    </tr>\n",
       "    <tr>\n",
       "      <th>298</th>\n",
       "      <td>298</td>\n",
       "      <td>9</td>\n",
       "      <td>data/week9/double/right/2204doubleright.csv</td>\n",
       "      <td>right</td>\n",
       "      <td>True</td>\n",
       "      <td>3433</td>\n",
       "    </tr>\n",
       "    <tr>\n",
       "      <th>299</th>\n",
       "      <td>299</td>\n",
       "      <td>9</td>\n",
       "      <td>data/week9/double/right/2204doubleright.csv</td>\n",
       "      <td>right</td>\n",
       "      <td>True</td>\n",
       "      <td>202</td>\n",
       "    </tr>\n",
       "    <tr>\n",
       "      <th>300</th>\n",
       "      <td>300</td>\n",
       "      <td>9</td>\n",
       "      <td>data/week9/double/right/2204doubleright1.csv</td>\n",
       "      <td>right</td>\n",
       "      <td>True</td>\n",
       "      <td>2823</td>\n",
       "    </tr>\n",
       "    <tr>\n",
       "      <th>301</th>\n",
       "      <td>301</td>\n",
       "      <td>9</td>\n",
       "      <td>data/week9/double/right/2204doubleright1.csv</td>\n",
       "      <td>right</td>\n",
       "      <td>True</td>\n",
       "      <td>202</td>\n",
       "    </tr>\n",
       "  </tbody>\n",
       "</table>\n",
       "<p>302 rows × 6 columns</p>\n",
       "</div>"
      ],
      "text/plain": [
       "     index  week                                          path  label  double  \\\n",
       "0        0    10                   data/week10/1005BLINKS1.csv  blink   False   \n",
       "1        1    10                   data/week10/1005BLINKS1.csv  blink   False   \n",
       "2        2    10                   data/week10/1005BLINKS1.csv  blink   False   \n",
       "3        3    10                   data/week10/1005BLINKS1.csv  blink   False   \n",
       "4        4    10                   data/week10/1005BLINKS1.csv  blink   False   \n",
       "..     ...   ...                                           ...    ...     ...   \n",
       "297    297     9   data/week9/double/right/2204doubleright.csv  right    True   \n",
       "298    298     9   data/week9/double/right/2204doubleright.csv  right    True   \n",
       "299    299     9   data/week9/double/right/2204doubleright.csv  right    True   \n",
       "300    300     9  data/week9/double/right/2204doubleright1.csv  right    True   \n",
       "301    301     9  data/week9/double/right/2204doubleright1.csv  right    True   \n",
       "\n",
       "     min_diff_peak  \n",
       "0                0  \n",
       "1             1571  \n",
       "2                0  \n",
       "3                0  \n",
       "4             1312  \n",
       "..             ...  \n",
       "297           2534  \n",
       "298           3433  \n",
       "299            202  \n",
       "300           2823  \n",
       "301            202  \n",
       "\n",
       "[302 rows x 6 columns]"
      ]
     },
     "execution_count": 608,
     "metadata": {},
     "output_type": "execute_result"
    }
   ],
   "source": [
    "from scipy.signal import find_peaks\n",
    "\n",
    "tqdm.pandas()\n",
    "\n",
    "def clip_features(amp):\n",
    "    high_peaks, _ = find_peaks(amp, prominence=60)\n",
    "    low_peaks, _ = find_peaks(-amp, prominence=60)\n",
    "    peaks = np.sort(np.concatenate([high_peaks, low_peaks]))\n",
    "    min_diff_peak = np.min(np.diff(peaks)) if len(peaks) > 1 else 0\n",
    "    return {\n",
    "        \"min_diff_peak\": min_diff_peak\n",
    "    }\n",
    "\n",
    "clip_good_df = clip_df[((clip_df[\"week\"].isin([6, 9, 10, 11])))\n",
    "    & (~clip_df[\"label\"].isin([\"test\", \"no\"]))].reset_index()\n",
    "clip_feat = pd.DataFrame([*clip_good_df[\"amp\"].progress_apply(clip_features)])\n",
    "clip_feat_df = clip_good_df.drop(columns=[\"time\", \"amp\"]).join(clip_feat)\n",
    "clip_feat_df"
   ]
  },
  {
   "cell_type": "code",
   "execution_count": 614,
   "id": "6d4dbcc0-7b9f-4190-aa32-3a05be4a8980",
   "metadata": {},
   "outputs": [
    {
     "name": "stdout",
     "output_type": "stream",
     "text": [
      "k-fold score: 86.7%\n"
     ]
    }
   ],
   "source": [
    "from sklearn.preprocessing import StandardScaler\n",
    "from sklearn.tree import DecisionTreeClassifier\n",
    "from sklearn.metrics import accuracy_score\n",
    "from sklearn.model_selection import StratifiedKFold\n",
    "\n",
    "X = clip_feat_df.iloc[:, 5:].to_numpy()\n",
    "y = (clip_feat_df[\"label\"] == \"blink\").to_numpy()\n",
    "\n",
    "kf = StratifiedKFold(n_splits=5, shuffle=True, random_state=42)\n",
    "scores = []\n",
    "for i, (train_index, test_index) in enumerate(kf.split(X, y)):\n",
    "    X_train = X[train_index]\n",
    "    y_train = y[train_index]\n",
    "    X_test = X[test_index]\n",
    "    y_test = y[test_index]\n",
    "\n",
    "    model = DecisionTreeClassifier(max_depth=4, class_weight=\"balanced\")\n",
    "    model.fit(X_train, y_train)\n",
    "    scores.append(accuracy_score(y_test, model.predict(X_test)))\n",
    "\n",
    "print(f\"k-fold score: {np.mean(scores):.1%}\")"
   ]
  },
  {
   "cell_type": "code",
   "execution_count": 616,
   "id": "b7d071c4-00f2-4bcb-9522-aefd93b9bbcb",
   "metadata": {},
   "outputs": [
    {
     "name": "stdout",
     "output_type": "stream",
     "text": [
      "score: 88.1%\n"
     ]
    },
    {
     "data": {
      "image/png": "[encoded data removed]",
      "text/plain": [
       "<Figure size 640x480 with 1 Axes>"
      ]
     },
     "metadata": {},
     "output_type": "display_data"
    }
   ],
   "source": [
    "model = DecisionTreeClassifier(max_depth=4, class_weight=\"balanced\")\n",
    "model.fit(X, y)\n",
    "print(f\"score: {model.score(X, y):.1%}\")\n",
    "\n",
    "plot_tree(model,\n",
    "          feature_names=clip_feat_df.columns[5:],\n",
    "          class_names=[\"not blink\", \"blink\"])\n",
    "plt.show()"
   ]
  },
  {
   "cell_type": "code",
   "execution_count": 583,
   "id": "7f6f0fbd-751e-409b-9156-6245d45637dc",
   "metadata": {},
   "outputs": [
    {
     "data": {
      "image/png": "[encoded data removed]",
      "text/plain": [
       "<Figure size 640x480 with 2 Axes>"
      ]
     },
     "metadata": {},
     "output_type": "display_data"
    }
   ],
   "source": [
    "cm = confusion_matrix(y, model.predict(X))\n",
    "ConfusionMatrixDisplay(cm, display_labels=[\"not blink\", \"blink\"]).plot()\n",
    "plt.show()"
   ]
  },
  {
   "cell_type": "markdown",
   "id": "a0d3d71e-2926-456c-a9b7-18a29d6eee06",
   "metadata": {},
   "source": [
    "### Left vs Right"
   ]
  },
  {
   "cell_type": "code",
   "execution_count": 580,
   "id": "411c603f-0f8d-4d15-a4dd-b86f4f3dc8b2",
   "metadata": {},
   "outputs": [
    {
     "name": "stdout",
     "output_type": "stream",
     "text": [
      "accuracy score: 92.1%\n"
     ]
    },
    {
     "data": {
      "image/png": "[encoded data removed]",
      "text/plain": [
       "<Figure size 640x480 with 2 Axes>"
      ]
     },
     "metadata": {},
     "output_type": "display_data"
    }
   ],
   "source": [
    "from sklearn.metrics import ConfusionMatrixDisplay, accuracy_score, confusion_matrix\n",
    "\n",
    "clip_lr_df = clip_df[(clip_df[\"week\"].isin([9, 10, 11]))\n",
    "    & (~clip_df[\"label\"].isin([\"test\", \"no\"]))\n",
    "    & (~clip_df[\"double\"])\n",
    "    & (clip_df[\"label\"].isin([\"left\", \"right\"]))].reset_index()\n",
    "\n",
    "# the nodes are swapped in some weeks\n",
    "clip_lr_df.loc[clip_lr_df[\"week\"].isin([6]), \"label\"] = \\\n",
    "    clip_lr_df.loc[clip_lr_df[\"week\"].isin([6]), \"label\"].map(\n",
    "        {\"left\": \"right\", \"right\": \"left\"}.get)\n",
    "\n",
    "amps = clip_lr_df[[\"amp\"]]\n",
    "label = clip_lr_df[\"label\"].astype(\"category\")\n",
    "\n",
    "def lr_classify(amp):\n",
    "    high_peaks, _ = find_peaks(amp, prominence=60)\n",
    "    low_peaks, _ = find_peaks(-amp, prominence=60)\n",
    "    if len(high_peaks) and len(low_peaks):\n",
    "        return [\"left\", \"right\"][int(np.mean(high_peaks) < np.mean(low_peaks))]\n",
    "    else:\n",
    "        return \"none\"\n",
    "\n",
    "prediction = amps.map(lr_classify).astype(\"category\")\n",
    "\n",
    "print(f\"accuracy score: {accuracy_score(label, prediction):.1%}\")\n",
    "cm = confusion_matrix(label, prediction, labels=[\"left\", \"right\", \"none\"])\n",
    "ConfusionMatrixDisplay(cm, display_labels=[\"left\", \"right\", \"none\"]).plot()\n",
    "plt.show()"
   ]
  },
  {
   "cell_type": "markdown",
   "id": "1598c7f8-af4f-46b7-a998-a2334ff50350",
   "metadata": {},
   "source": [
    "### Single vs Double"
   ]
  },
  {
   "cell_type": "code",
   "execution_count": 564,
   "id": "c7be604e-fbbf-4ee1-89ca-baa50f8bcdf2",
   "metadata": {},
   "outputs": [
    {
     "data": {
      "application/vnd.jupyter.widget-view+json": {
       "model_id": "006806cba276488b9cd0e68b74a27ad4",
       "version_major": 2,
       "version_minor": 0
      },
      "text/plain": [
       "  0%|          | 0/250 [00:00<?, ?it/s]"
      ]
     },
     "metadata": {},
     "output_type": "display_data"
    },
    {
     "data": {
      "text/html": [
       "<div>\n",
       "<style scoped>\n",
       "    .dataframe tbody tr th:only-of-type {\n",
       "        vertical-align: middle;\n",
       "    }\n",
       "\n",
       "    .dataframe tbody tr th {\n",
       "        vertical-align: top;\n",
       "    }\n",
       "\n",
       "    .dataframe thead th {\n",
       "        text-align: right;\n",
       "    }\n",
       "</style>\n",
       "<table border=\"1\" class=\"dataframe\">\n",
       "  <thead>\n",
       "    <tr style=\"text-align: right;\">\n",
       "      <th></th>\n",
       "      <th>index</th>\n",
       "      <th>week</th>\n",
       "      <th>path</th>\n",
       "      <th>label</th>\n",
       "      <th>double</th>\n",
       "      <th>len</th>\n",
       "      <th>n_peak</th>\n",
       "    </tr>\n",
       "  </thead>\n",
       "  <tbody>\n",
       "    <tr>\n",
       "      <th>0</th>\n",
       "      <td>0</td>\n",
       "      <td>10</td>\n",
       "      <td>data/week10/1005BLINKS1.csv</td>\n",
       "      <td>blink</td>\n",
       "      <td>False</td>\n",
       "      <td>13633</td>\n",
       "      <td>1</td>\n",
       "    </tr>\n",
       "    <tr>\n",
       "      <th>1</th>\n",
       "      <td>1</td>\n",
       "      <td>10</td>\n",
       "      <td>data/week10/1005BLINKS1.csv</td>\n",
       "      <td>blink</td>\n",
       "      <td>False</td>\n",
       "      <td>18306</td>\n",
       "      <td>2</td>\n",
       "    </tr>\n",
       "    <tr>\n",
       "      <th>2</th>\n",
       "      <td>2</td>\n",
       "      <td>10</td>\n",
       "      <td>data/week10/1005BLINKS1.csv</td>\n",
       "      <td>blink</td>\n",
       "      <td>False</td>\n",
       "      <td>19781</td>\n",
       "      <td>1</td>\n",
       "    </tr>\n",
       "    <tr>\n",
       "      <th>3</th>\n",
       "      <td>3</td>\n",
       "      <td>10</td>\n",
       "      <td>data/week10/1005BLINKS1.csv</td>\n",
       "      <td>blink</td>\n",
       "      <td>False</td>\n",
       "      <td>20012</td>\n",
       "      <td>1</td>\n",
       "    </tr>\n",
       "    <tr>\n",
       "      <th>4</th>\n",
       "      <td>4</td>\n",
       "      <td>10</td>\n",
       "      <td>data/week10/1005BLINKS1.csv</td>\n",
       "      <td>blink</td>\n",
       "      <td>False</td>\n",
       "      <td>20089</td>\n",
       "      <td>2</td>\n",
       "    </tr>\n",
       "    <tr>\n",
       "      <th>...</th>\n",
       "      <td>...</td>\n",
       "      <td>...</td>\n",
       "      <td>...</td>\n",
       "      <td>...</td>\n",
       "      <td>...</td>\n",
       "      <td>...</td>\n",
       "      <td>...</td>\n",
       "    </tr>\n",
       "    <tr>\n",
       "      <th>245</th>\n",
       "      <td>297</td>\n",
       "      <td>9</td>\n",
       "      <td>data/week9/double/right/2204doubleright.csv</td>\n",
       "      <td>right</td>\n",
       "      <td>True</td>\n",
       "      <td>39606</td>\n",
       "      <td>7</td>\n",
       "    </tr>\n",
       "    <tr>\n",
       "      <th>246</th>\n",
       "      <td>298</td>\n",
       "      <td>9</td>\n",
       "      <td>data/week9/double/right/2204doubleright.csv</td>\n",
       "      <td>right</td>\n",
       "      <td>True</td>\n",
       "      <td>38246</td>\n",
       "      <td>4</td>\n",
       "    </tr>\n",
       "    <tr>\n",
       "      <th>247</th>\n",
       "      <td>299</td>\n",
       "      <td>9</td>\n",
       "      <td>data/week9/double/right/2204doubleright.csv</td>\n",
       "      <td>right</td>\n",
       "      <td>True</td>\n",
       "      <td>38340</td>\n",
       "      <td>7</td>\n",
       "    </tr>\n",
       "    <tr>\n",
       "      <th>248</th>\n",
       "      <td>300</td>\n",
       "      <td>9</td>\n",
       "      <td>data/week9/double/right/2204doubleright1.csv</td>\n",
       "      <td>right</td>\n",
       "      <td>True</td>\n",
       "      <td>39440</td>\n",
       "      <td>8</td>\n",
       "    </tr>\n",
       "    <tr>\n",
       "      <th>249</th>\n",
       "      <td>301</td>\n",
       "      <td>9</td>\n",
       "      <td>data/week9/double/right/2204doubleright1.csv</td>\n",
       "      <td>right</td>\n",
       "      <td>True</td>\n",
       "      <td>34615</td>\n",
       "      <td>8</td>\n",
       "    </tr>\n",
       "  </tbody>\n",
       "</table>\n",
       "<p>250 rows × 7 columns</p>\n",
       "</div>"
      ],
      "text/plain": [
       "     index  week                                          path  label  double  \\\n",
       "0        0    10                   data/week10/1005BLINKS1.csv  blink   False   \n",
       "1        1    10                   data/week10/1005BLINKS1.csv  blink   False   \n",
       "2        2    10                   data/week10/1005BLINKS1.csv  blink   False   \n",
       "3        3    10                   data/week10/1005BLINKS1.csv  blink   False   \n",
       "4        4    10                   data/week10/1005BLINKS1.csv  blink   False   \n",
       "..     ...   ...                                           ...    ...     ...   \n",
       "245    297     9   data/week9/double/right/2204doubleright.csv  right    True   \n",
       "246    298     9   data/week9/double/right/2204doubleright.csv  right    True   \n",
       "247    299     9   data/week9/double/right/2204doubleright.csv  right    True   \n",
       "248    300     9  data/week9/double/right/2204doubleright1.csv  right    True   \n",
       "249    301     9  data/week9/double/right/2204doubleright1.csv  right    True   \n",
       "\n",
       "       len  n_peak  \n",
       "0    13633       1  \n",
       "1    18306       2  \n",
       "2    19781       1  \n",
       "3    20012       1  \n",
       "4    20089       2  \n",
       "..     ...     ...  \n",
       "245  39606       7  \n",
       "246  38246       4  \n",
       "247  38340       7  \n",
       "248  39440       8  \n",
       "249  34615       8  \n",
       "\n",
       "[250 rows x 7 columns]"
      ]
     },
     "execution_count": 564,
     "metadata": {},
     "output_type": "execute_result"
    }
   ],
   "source": [
    "from sklearn.metrics import ConfusionMatrixDisplay, accuracy_score, confusion_matrix\n",
    "\n",
    "clip_dbl_df = clip_df[(clip_df[\"week\"].isin([9, 10, 11]))\n",
    "    & (~clip_df[\"label\"].isin([\"test\", \"no\"]))].reset_index()\n",
    "\n",
    "def dbl_features(amp):\n",
    "    high_peaks, _ = find_peaks(amp, prominence=50)\n",
    "    low_peaks, _ = find_peaks(-amp, prominence=50)\n",
    "    peaks = np.sort(np.concatenate([high_peaks, low_peaks]))\n",
    "    return {\n",
    "        \"len\": len(amp),\n",
    "        \"n_peak\": len(peaks)\n",
    "    }\n",
    "\n",
    "clip_dbl_feat = pd.DataFrame([*clip_dbl_df[\"amp\"].progress_apply(dbl_features)])\n",
    "clip_dbl_feat_df = clip_dbl_df.drop(columns=[\"time\", \"amp\"]).join(clip_dbl_feat)\n",
    "clip_dbl_feat_df"
   ]
  },
  {
   "cell_type": "code",
   "execution_count": 565,
   "id": "cb437d7d-83ae-44be-a00b-69df6ef8efcd",
   "metadata": {},
   "outputs": [
    {
     "data": {
      "text/html": [
       "<div>\n",
       "<style scoped>\n",
       "    .dataframe tbody tr th:only-of-type {\n",
       "        vertical-align: middle;\n",
       "    }\n",
       "\n",
       "    .dataframe tbody tr th {\n",
       "        vertical-align: top;\n",
       "    }\n",
       "\n",
       "    .dataframe thead th {\n",
       "        text-align: right;\n",
       "    }\n",
       "</style>\n",
       "<table border=\"1\" class=\"dataframe\">\n",
       "  <thead>\n",
       "    <tr style=\"text-align: right;\">\n",
       "      <th></th>\n",
       "      <th>index</th>\n",
       "      <th>week</th>\n",
       "      <th>len</th>\n",
       "      <th>n_peak</th>\n",
       "    </tr>\n",
       "  </thead>\n",
       "  <tbody>\n",
       "    <tr>\n",
       "      <th>count</th>\n",
       "      <td>250.000000</td>\n",
       "      <td>250.000000</td>\n",
       "      <td>250.000000</td>\n",
       "      <td>250.000000</td>\n",
       "    </tr>\n",
       "    <tr>\n",
       "      <th>mean</th>\n",
       "      <td>134.276000</td>\n",
       "      <td>10.328000</td>\n",
       "      <td>25762.888000</td>\n",
       "      <td>2.840000</td>\n",
       "    </tr>\n",
       "    <tr>\n",
       "      <th>std</th>\n",
       "      <td>87.384806</td>\n",
       "      <td>0.773829</td>\n",
       "      <td>6718.471452</td>\n",
       "      <td>1.913386</td>\n",
       "    </tr>\n",
       "    <tr>\n",
       "      <th>min</th>\n",
       "      <td>0.000000</td>\n",
       "      <td>9.000000</td>\n",
       "      <td>11300.000000</td>\n",
       "      <td>0.000000</td>\n",
       "    </tr>\n",
       "    <tr>\n",
       "      <th>25%</th>\n",
       "      <td>62.250000</td>\n",
       "      <td>10.000000</td>\n",
       "      <td>20023.000000</td>\n",
       "      <td>1.000000</td>\n",
       "    </tr>\n",
       "    <tr>\n",
       "      <th>50%</th>\n",
       "      <td>124.500000</td>\n",
       "      <td>11.000000</td>\n",
       "      <td>26743.500000</td>\n",
       "      <td>2.000000</td>\n",
       "    </tr>\n",
       "    <tr>\n",
       "      <th>75%</th>\n",
       "      <td>186.750000</td>\n",
       "      <td>11.000000</td>\n",
       "      <td>29613.750000</td>\n",
       "      <td>4.000000</td>\n",
       "    </tr>\n",
       "    <tr>\n",
       "      <th>max</th>\n",
       "      <td>301.000000</td>\n",
       "      <td>11.000000</td>\n",
       "      <td>44149.000000</td>\n",
       "      <td>8.000000</td>\n",
       "    </tr>\n",
       "  </tbody>\n",
       "</table>\n",
       "</div>"
      ],
      "text/plain": [
       "            index        week           len      n_peak\n",
       "count  250.000000  250.000000    250.000000  250.000000\n",
       "mean   134.276000   10.328000  25762.888000    2.840000\n",
       "std     87.384806    0.773829   6718.471452    1.913386\n",
       "min      0.000000    9.000000  11300.000000    0.000000\n",
       "25%     62.250000   10.000000  20023.000000    1.000000\n",
       "50%    124.500000   11.000000  26743.500000    2.000000\n",
       "75%    186.750000   11.000000  29613.750000    4.000000\n",
       "max    301.000000   11.000000  44149.000000    8.000000"
      ]
     },
     "execution_count": 565,
     "metadata": {},
     "output_type": "execute_result"
    }
   ],
   "source": [
    "clip_dbl_feat_df.describe()"
   ]
  },
  {
   "cell_type": "code",
   "execution_count": 566,
   "id": "34407b42-81d5-4a28-8c68-1799308dd716",
   "metadata": {},
   "outputs": [
    {
     "data": {
      "image/png": "[encoded data removed]",
      "text/plain": [
       "<Figure size 640x480 with 2 Axes>"
      ]
     },
     "metadata": {},
     "output_type": "display_data"
    }
   ],
   "source": [
    "clip_dbl_feat_df[[\"double\", \"len\"]].hist(by=\"double\", sharex=True, layout=[2, 1])\n",
    "plt.show()"
   ]
  },
  {
   "cell_type": "code",
   "execution_count": 570,
   "id": "6dfa142c-3a25-48ac-94b1-e3b62b01440d",
   "metadata": {},
   "outputs": [
    {
     "name": "stdout",
     "output_type": "stream",
     "text": [
      "k-fold score: 92.8%\n"
     ]
    }
   ],
   "source": [
    "X = clip_dbl_feat_df.iloc[:, 5:].to_numpy()\n",
    "y = clip_dbl_feat_df[\"double\"].to_numpy()\n",
    "\n",
    "kf = StratifiedKFold(n_splits=5, shuffle=True, random_state=42)\n",
    "scores = []\n",
    "for i, (train_index, test_index) in enumerate(kf.split(X, y)):\n",
    "    X_train = X[train_index]\n",
    "    y_train = y[train_index]\n",
    "    X_test = X[test_index]\n",
    "    y_test = y[test_index]\n",
    "\n",
    "    model = DecisionTreeClassifier(max_depth=1, class_weight=\"balanced\")\n",
    "    model.fit(X_train, y_train)\n",
    "    scores.append(accuracy_score(y_test, model.predict(X_test)))\n",
    "\n",
    "print(f\"k-fold score: {np.mean(scores):.1%}\")"
   ]
  },
  {
   "cell_type": "code",
   "execution_count": 575,
   "id": "5ae608d1-6054-4d99-b8c4-4fa5d9707a0f",
   "metadata": {},
   "outputs": [
    {
     "data": {
      "image/png": "[encoded data removed]",
      "text/plain": [
       "<Figure size 640x480 with 1 Axes>"
      ]
     },
     "metadata": {},
     "output_type": "display_data"
    }
   ],
   "source": [
    "plot_tree(model,\n",
    "          feature_names=clip_dbl_feat_df.columns[5:],\n",
    "          class_names=[\"single\", \"double\"])\n",
    "plt.show()"
   ]
  }
 ],
 "metadata": {
  "kernelspec": {
   "display_name": "Python 3 (ipykernel)",
   "language": "python",
   "name": "python3"
  },
  "language_info": {
   "codemirror_mode": {
    "name": "ipython",
    "version": 3
   },
   "file_extension": ".py",
   "mimetype": "text/x-python",
   "name": "python",
   "nbconvert_exporter": "python",
   "pygments_lexer": "ipython3",
   "version": "3.12.3"
  }
 },
 "nbformat": 4,
 "nbformat_minor": 5
}
