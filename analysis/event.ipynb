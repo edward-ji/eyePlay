{
 "cells": [
  {
   "cell_type": "code",
   "execution_count": 5,
   "id": "9a3a41e7-fdc3-4f1d-aa60-28490f7c879a",
   "metadata": {
    "scrolled": true
   },
   "outputs": [
    {
     "data": {
      "text/plain": [
       "[WindowsPath('data/week10/1005BLINKS1.csv'),\n",
       " WindowsPath('data/week10/1005BLINKS2.csv'),\n",
       " WindowsPath('data/week10/1005BLINKS3.csv'),\n",
       " WindowsPath('data/week10/1005BLINKS4.csv'),\n",
       " WindowsPath('data/week10/1005BLINKS5.csv'),\n",
       " WindowsPath('data/week10/1005BLINKS6.csv'),\n",
       " WindowsPath('data/week11/0510blink1.csv'),\n",
       " WindowsPath('data/week11/0510blinK10.csv'),\n",
       " WindowsPath('data/week11/0510blink2.csv'),\n",
       " WindowsPath('data/week11/0510blink3.csv'),\n",
       " WindowsPath('data/week11/0510blink4.csv'),\n",
       " WindowsPath('data/week11/0510blink5.csv'),\n",
       " WindowsPath('data/week11/0510blinK6.csv'),\n",
       " WindowsPath('data/week11/0510blinK7.csv'),\n",
       " WindowsPath('data/week11/0510blinK8.csv'),\n",
       " WindowsPath('data/week11/0510blinK9.csv'),\n",
       " WindowsPath('data/week11/0510DOUBLEBLINK01.csv'),\n",
       " WindowsPath('data/week11/0510LEFT01.csv'),\n",
       " WindowsPath('data/week11/0510LEFT02.csv'),\n",
       " WindowsPath('data/week11/0510LEFT03.csv'),\n",
       " WindowsPath('data/week11/0510RIGHT01.csv'),\n",
       " WindowsPath('data/week11/0510RIGHT02.csv'),\n",
       " WindowsPath('data/week11/0510RIGHT03.csv'),\n",
       " WindowsPath('data/week6/40secondblinkwithlaps.csv'),\n",
       " WindowsPath('data/week6/40seconddoubleblink.csv'),\n",
       " WindowsPath('data/week6/40seconddoublelookleft.csv'),\n",
       " WindowsPath('data/week6/40seconddoublelookright.csv'),\n",
       " WindowsPath('data/week6/40secondlookleftlaps.csv'),\n",
       " WindowsPath('data/week6/40secondlookrightlaps.csv'),\n",
       " WindowsPath('data/week9/2204blinks.csv'),\n",
       " WindowsPath('data/week9/2204looklefts.csv'),\n",
       " WindowsPath('data/week9/2204looklefts1.csv'),\n",
       " WindowsPath('data/week9/2204lookrights.csv'),\n",
       " WindowsPath('data/week9/2204lookrights1.csv'),\n",
       " WindowsPath('data/week9/double/blinks/2204doubleblinks.csv'),\n",
       " WindowsPath('data/week9/double/blinks/2204doubleblinks1.csv'),\n",
       " WindowsPath('data/week9/double/left/2204doubleleft.csv'),\n",
       " WindowsPath('data/week9/double/left/2204doubleleft1.csv'),\n",
       " WindowsPath('data/week9/double/right/2204doubleright.csv'),\n",
       " WindowsPath('data/week9/double/right/2204doubleright1.csv'),\n",
       " WindowsPath('data/week9/non_event/noneventdata2204.csv'),\n",
       " WindowsPath('data/week9/non_event/noneventdata22204.csv'),\n",
       " WindowsPath('data/week9/non_event/noneventdata32204.csv'),\n",
       " WindowsPath('data/week9/test/2204classifiertest1.csv'),\n",
       " WindowsPath('data/week9/test/2204classifiertest2.csv'),\n",
       " WindowsPath('data/week9/test/2204classifiertest3.csv'),\n",
       " WindowsPath('data/week9/test/2204classifiertest4.csv'),\n",
       " WindowsPath('data/week9/test/2204classifiertest5.csv')]"
      ]
     },
     "execution_count": 5,
     "metadata": {},
     "output_type": "execute_result"
    }
   ],
   "source": [
    "from pathlib import Path\n",
    "\n",
    "data_dir = Path(\"data\")\n",
    "\n",
    "def filter_path(path):\n",
    "    return (path.parent.stem != \".ipynb_checkpoints\"\n",
    "        and \"week7\" not in str(path)\n",
    "        and \"week8\" not in str(path))\n",
    "\n",
    "data_paths = sorted(filter(filter_path, data_dir.glob(\"**/*.csv\")))\n",
    "data_paths"
   ]
  },
  {
   "cell_type": "code",
   "execution_count": 6,
   "id": "dcf7727d-74ca-486d-a7b1-0bf66372c1bb",
   "metadata": {},
   "outputs": [],
   "source": [
    "import numpy as np\n",
    "\n",
    "def load_data(path, with_laps=\"laps.txt\", reverse=True):\n",
    "    laps = []\n",
    "    if with_laps:\n",
    "        name = path.stem\n",
    "        found = False\n",
    "        laps_txt = path.parent / with_laps\n",
    "        if laps_txt.exists():\n",
    "            with open(laps_txt) as f:\n",
    "                for line in f.readlines():\n",
    "                    line = line.strip()\n",
    "                    if not line:\n",
    "                        pass\n",
    "                    elif not line.replace(\".\", \"\").isnumeric():\n",
    "                        if found:\n",
    "                            break\n",
    "                        if name == line:\n",
    "                            found = True\n",
    "                    elif found:\n",
    "                        laps.append(float(line))\n",
    "                laps = np.cumsum(np.array(laps))\n",
    "    arr = np.genfromtxt(path, delimiter=\",\")\n",
    "    time, amp = arr.T\n",
    "    if time[-1] < time[0]:\n",
    "        time = np.max(time) - time\n",
    "        amp = amp[::-1]\n",
    "\n",
    "    return time, amp, laps if len(laps) else None"
   ]
  },
  {
   "cell_type": "code",
   "execution_count": 7,
   "id": "583e384f-ae23-4f88-bbb3-61eed117fdba",
   "metadata": {},
   "outputs": [],
   "source": [
    "import matplotlib.pyplot as plt\n",
    "\n",
    "def plot_data(time, amp, laps=None, /, ax=None):\n",
    "    if ax is None:\n",
    "        ax = plt.gca()\n",
    "    ax.plot(time, amp)\n",
    "    if laps is not None:\n",
    "        ax.vlines(laps, np.min(amp), np.max(amp),\n",
    "                  color=\"red\")"
   ]
  },
  {
   "cell_type": "code",
   "execution_count": 8,
   "id": "abefd3f2-9ffb-484e-a916-c17e267c8983",
   "metadata": {},
   "outputs": [
    {
     "data": {
      "application/vnd.jupyter.widget-view+json": {
       "model_id": "e4f6f4ac97eb401f8ee2859b65656cc7",
       "version_major": 2,
       "version_minor": 0
      },
      "text/plain": [
       "  0%|          | 0/48 [00:00<?, ?it/s]"
      ]
     },
     "metadata": {},
     "output_type": "display_data"
    }
   ],
   "source": [
    "from tqdm.auto import tqdm\n",
    "\n",
    "figure_dir = Path(\"figure/raw\")\n",
    "\n",
    "for path in tqdm(data_paths):\n",
    "    fig, ax = plt.subplots(figsize=(12, 4))\n",
    "    time, amp, laps = load_data(path)\n",
    "    plot_data(time, amp, laps)\n",
    "    ax.set_title(path.stem)\n",
    "    where = figure_dir / path.relative_to(data_dir).with_suffix(\".png\")\n",
    "    where.parent.mkdir(parents=True, exist_ok=True)\n",
    "    fig.savefig(where)\n",
    "    plt.close()"
   ]
  },
  {
   "cell_type": "code",
   "execution_count": 9,
   "id": "f618ca56-c01c-4ce7-bcf0-2914b8d5cc0d",
   "metadata": {},
   "outputs": [
    {
     "data": {
      "application/vnd.jupyter.widget-view+json": {
       "model_id": "76f0d61e4f6d463fa1edaa44293a73cf",
       "version_major": 2,
       "version_minor": 0
      },
      "text/plain": [
       "  0%|          | 0/17 [00:00<?, ?it/s]"
      ]
     },
     "metadata": {},
     "output_type": "display_data"
    }
   ],
   "source": [
    "from tqdm.auto import tqdm\n",
    "\n",
    "figure_dir = Path(\"figure/week11/\")\n",
    "week11_paths = list(filter(lambda path: \"week11\" in str(path), data_paths))\n",
    "\n",
    "for path in tqdm(week11_paths):\n",
    "    fig, ax = plt.subplots(figsize=(12, 4))\n",
    "    time, amp, laps = load_data(path)\n",
    "    plot_data(time, amp, laps)\n",
    "    plt.hlines(625, 0, np.max(time), color=\"r\")\n",
    "    ax.set_title(path.stem)\n",
    "    where = figure_dir / path.relative_to(data_dir).with_suffix(\".png\")\n",
    "    where.parent.mkdir(parents=True, exist_ok=True)\n",
    "    fig.savefig(where)\n",
    "    plt.close()"
   ]
  },
  {
   "cell_type": "markdown",
   "id": "8f96f6b0-38a1-47fc-a44e-c7bd09b1ce58",
   "metadata": {},
   "source": [
    "## Event Detection"
   ]
  },
  {
   "cell_type": "markdown",
   "id": "ef4d5b5e-beb6-4ba0-af94-1e027a263e9f",
   "metadata": {},
   "source": [
    "### Moving Average of Absolute Difference"
   ]
  },
  {
   "cell_type": "code",
   "execution_count": 10,
   "id": "c74a98c2-0239-4d5a-8397-99feeb4632b7",
   "metadata": {},
   "outputs": [
    {
     "data": {
      "application/vnd.jupyter.widget-view+json": {
       "model_id": "68d2245ca2c64aceaba074c1d5cb9a62",
       "version_major": 2,
       "version_minor": 0
      },
      "text/plain": [
       "  0%|          | 0/48 [00:00<?, ?it/s]"
      ]
     },
     "metadata": {},
     "output_type": "display_data"
    }
   ],
   "source": [
    "from scipy.signal import find_peaks\n",
    "\n",
    "figure_dir = Path(\"figure/prominence_50/\")\n",
    "\n",
    "for path in tqdm(data_paths):\n",
    "    window_sec = 1.0\n",
    "    window_n = int(10_000 * window_sec)\n",
    "    \n",
    "    time, amp, laps = load_data(path)\n",
    "    \n",
    "    amp_mean = np.mean(amp)\n",
    "    abs_diff = np.r_[0, np.abs(np.diff(amp))]\n",
    "    moving_avg = np.convolve(abs_diff, np.ones(window_n), \"full\")[:-(window_n - 1)] / window_n\n",
    "    high_peaks, _ = find_peaks(amp - amp_mean, prominence=50)\n",
    "    low_peaks, _ = find_peaks(amp_mean - amp, prominence=50)\n",
    "    \n",
    "    fig = plt.figure(figsize=(12, 4))\n",
    "    plot_data(time, amp)\n",
    "    plot_data(time, np.where(moving_avg > 0.02, max(amp), min(amp)))\n",
    "    plt.scatter(time[high_peaks], amp[high_peaks], c=\"green\", marker=\"x\")\n",
    "    plt.scatter(time[low_peaks], amp[low_peaks], c=\"red\", marker=\"x\")\n",
    "    \n",
    "    where = figure_dir / path.relative_to(data_dir).with_suffix(\".png\")\n",
    "    where.parent.mkdir(parents=True, exist_ok=True)    \n",
    "    fig.savefig(where)\n",
    "    plt.close()"
   ]
  },
  {
   "cell_type": "markdown",
   "id": "f6310f60-f881-4021-beee-a80bce5d5d98",
   "metadata": {},
   "source": [
    "### Variance"
   ]
  },
  {
   "cell_type": "code",
   "execution_count": 11,
   "id": "8cf0bf6d-0961-468a-a151-bdca87c1017d",
   "metadata": {},
   "outputs": [
    {
     "data": {
      "application/vnd.jupyter.widget-view+json": {
       "model_id": "fd51d810c34248819694c1f45c1a2688",
       "version_major": 2,
       "version_minor": 0
      },
      "text/plain": [
       "  0%|          | 0/48 [00:00<?, ?it/s]"
      ]
     },
     "metadata": {},
     "output_type": "display_data"
    }
   ],
   "source": [
    "from scipy.signal import find_peaks\n",
    "\n",
    "figure_dir = Path(\"figure/prominence_90/\")\n",
    "\n",
    "for path in tqdm(data_paths):\n",
    "    window_sec = 1.0\n",
    "    window_n = int(10_000 * window_sec)\n",
    "    \n",
    "    time, amp, laps = load_data(path)\n",
    "    \n",
    "    amp_med = np.median(amp)\n",
    "    error = amp - amp_med\n",
    "    std = np.convolve(error ** 2, np.ones(window_n), \"full\")[:-(window_n - 1)] / window_n\n",
    "    high_peaks, _ = find_peaks(amp - amp_mean, prominence=90)\n",
    "    low_peaks, _ = find_peaks(amp_mean - amp, prominence=90)\n",
    "    \n",
    "    fig = plt.figure(figsize=(12, 4))\n",
    "    plot_data(time, amp)\n",
    "    plot_data(time, np.where(std > 150, max(amp), min(amp)))\n",
    "    plt.scatter(time[high_peaks], amp[high_peaks], c=\"green\", marker=\"x\")\n",
    "    plt.scatter(time[low_peaks], amp[low_peaks], c=\"red\", marker=\"x\")\n",
    "    \n",
    "    where = figure_dir / path.relative_to(data_dir).with_suffix(\".png\")\n",
    "    where.parent.mkdir(parents=True, exist_ok=True)    \n",
    "    fig.savefig(where)\n",
    "    plt.close()"
   ]
  },
  {
   "cell_type": "markdown",
   "id": "54d5b579-5a31-4c0a-964c-4bfecf64e93a",
   "metadata": {},
   "source": [
    "### Windowed Visualization"
   ]
  },
  {
   "cell_type": "code",
   "execution_count": 12,
   "id": "c6ebc5da-85ef-4609-b84d-b6cd3d6bd8f8",
   "metadata": {},
   "outputs": [],
   "source": [
    "def sliding_window(time,\n",
    "                   amp,\n",
    "                   laps=None,\n",
    "                   window_sec=1.0,\n",
    "                   window_inc=0.2,\n",
    "                   show_progress=True):\n",
    "    n_window = int((max(time) - window_sec) // window_inc)\n",
    "    iter_window = range(n_window)\n",
    "    if show_progress:\n",
    "        from tqdm.auto import tqdm\n",
    "        iter_window = tqdm(iter_window, leave=False)\n",
    "    for i in iter_window:\n",
    "        start_sec = window_inc * i\n",
    "        end_sec = start_sec + window_sec\n",
    "        mask = (start_sec <= time) & (time < end_sec)\n",
    "        if laps is not None:\n",
    "            laps_masked = laps[(start_sec <= laps) & (laps < end_sec)]\n",
    "            yield time[mask], amp[mask], laps_masked\n",
    "        else:\n",
    "            yield time[mask], amp[mask], None\n",
    "\n",
    "# windows = sliding_window(time, amp, laps)\n",
    "# for _ in range(25):\n",
    "#     next(windows)\n",
    "# window_time, window_amp, window_laps = next(windows)\n",
    "# plt.figure(figsize=(12, 4))\n",
    "# plot_data(window_time, window_amp, window_laps)\n",
    "# plt.show()"
   ]
  },
  {
   "cell_type": "code",
   "execution_count": 13,
   "id": "1ab91fce-9053-49b9-ae1a-89817d3989e5",
   "metadata": {
    "jupyter": {
     "outputs_hidden": true,
     "source_hidden": true
    }
   },
   "outputs": [
    {
     "data": {
      "application/vnd.jupyter.widget-view+json": {
       "model_id": "c4c8cf783cf34df69f115fb43cb6c601",
       "version_major": 2,
       "version_minor": 0
      },
      "text/plain": [
       "  0%|          | 0/48 [00:00<?, ?it/s]"
      ]
     },
     "metadata": {},
     "output_type": "display_data"
    },
    {
     "data": {
      "application/vnd.jupyter.widget-view+json": {
       "model_id": "",
       "version_major": 2,
       "version_minor": 0
      },
      "text/plain": [
       "  0%|          | 0/194 [00:00<?, ?it/s]"
      ]
     },
     "metadata": {},
     "output_type": "display_data"
    },
    {
     "data": {
      "application/vnd.jupyter.widget-view+json": {
       "model_id": "",
       "version_major": 2,
       "version_minor": 0
      },
      "text/plain": [
       "  0%|          | 0/194 [00:00<?, ?it/s]"
      ]
     },
     "metadata": {},
     "output_type": "display_data"
    },
    {
     "data": {
      "application/vnd.jupyter.widget-view+json": {
       "model_id": "",
       "version_major": 2,
       "version_minor": 0
      },
      "text/plain": [
       "  0%|          | 0/194 [00:00<?, ?it/s]"
      ]
     },
     "metadata": {},
     "output_type": "display_data"
    },
    {
     "data": {
      "application/vnd.jupyter.widget-view+json": {
       "model_id": "",
       "version_major": 2,
       "version_minor": 0
      },
      "text/plain": [
       "  0%|          | 0/194 [00:00<?, ?it/s]"
      ]
     },
     "metadata": {},
     "output_type": "display_data"
    },
    {
     "data": {
      "application/vnd.jupyter.widget-view+json": {
       "model_id": "",
       "version_major": 2,
       "version_minor": 0
      },
      "text/plain": [
       "  0%|          | 0/194 [00:00<?, ?it/s]"
      ]
     },
     "metadata": {},
     "output_type": "display_data"
    },
    {
     "data": {
      "application/vnd.jupyter.widget-view+json": {
       "model_id": "",
       "version_major": 2,
       "version_minor": 0
      },
      "text/plain": [
       "  0%|          | 0/194 [00:00<?, ?it/s]"
      ]
     },
     "metadata": {},
     "output_type": "display_data"
    },
    {
     "data": {
      "application/vnd.jupyter.widget-view+json": {
       "model_id": "",
       "version_major": 2,
       "version_minor": 0
      },
      "text/plain": [
       "  0%|          | 0/94 [00:00<?, ?it/s]"
      ]
     },
     "metadata": {},
     "output_type": "display_data"
    },
    {
     "data": {
      "application/vnd.jupyter.widget-view+json": {
       "model_id": "",
       "version_major": 2,
       "version_minor": 0
      },
      "text/plain": [
       "  0%|          | 0/94 [00:00<?, ?it/s]"
      ]
     },
     "metadata": {},
     "output_type": "display_data"
    },
    {
     "data": {
      "application/vnd.jupyter.widget-view+json": {
       "model_id": "",
       "version_major": 2,
       "version_minor": 0
      },
      "text/plain": [
       "  0%|          | 0/94 [00:00<?, ?it/s]"
      ]
     },
     "metadata": {},
     "output_type": "display_data"
    },
    {
     "data": {
      "application/vnd.jupyter.widget-view+json": {
       "model_id": "",
       "version_major": 2,
       "version_minor": 0
      },
      "text/plain": [
       "  0%|          | 0/94 [00:00<?, ?it/s]"
      ]
     },
     "metadata": {},
     "output_type": "display_data"
    },
    {
     "data": {
      "application/vnd.jupyter.widget-view+json": {
       "model_id": "",
       "version_major": 2,
       "version_minor": 0
      },
      "text/plain": [
       "  0%|          | 0/94 [00:00<?, ?it/s]"
      ]
     },
     "metadata": {},
     "output_type": "display_data"
    },
    {
     "data": {
      "application/vnd.jupyter.widget-view+json": {
       "model_id": "",
       "version_major": 2,
       "version_minor": 0
      },
      "text/plain": [
       "  0%|          | 0/94 [00:00<?, ?it/s]"
      ]
     },
     "metadata": {},
     "output_type": "display_data"
    },
    {
     "data": {
      "application/vnd.jupyter.widget-view+json": {
       "model_id": "",
       "version_major": 2,
       "version_minor": 0
      },
      "text/plain": [
       "  0%|          | 0/94 [00:00<?, ?it/s]"
      ]
     },
     "metadata": {},
     "output_type": "display_data"
    },
    {
     "data": {
      "application/vnd.jupyter.widget-view+json": {
       "model_id": "",
       "version_major": 2,
       "version_minor": 0
      },
      "text/plain": [
       "  0%|          | 0/94 [00:00<?, ?it/s]"
      ]
     },
     "metadata": {},
     "output_type": "display_data"
    },
    {
     "data": {
      "application/vnd.jupyter.widget-view+json": {
       "model_id": "",
       "version_major": 2,
       "version_minor": 0
      },
      "text/plain": [
       "  0%|          | 0/94 [00:00<?, ?it/s]"
      ]
     },
     "metadata": {},
     "output_type": "display_data"
    },
    {
     "data": {
      "application/vnd.jupyter.widget-view+json": {
       "model_id": "",
       "version_major": 2,
       "version_minor": 0
      },
      "text/plain": [
       "  0%|          | 0/94 [00:00<?, ?it/s]"
      ]
     },
     "metadata": {},
     "output_type": "display_data"
    },
    {
     "data": {
      "application/vnd.jupyter.widget-view+json": {
       "model_id": "",
       "version_major": 2,
       "version_minor": 0
      },
      "text/plain": [
       "  0%|          | 0/94 [00:00<?, ?it/s]"
      ]
     },
     "metadata": {},
     "output_type": "display_data"
    },
    {
     "data": {
      "application/vnd.jupyter.widget-view+json": {
       "model_id": "",
       "version_major": 2,
       "version_minor": 0
      },
      "text/plain": [
       "  0%|          | 0/94 [00:00<?, ?it/s]"
      ]
     },
     "metadata": {},
     "output_type": "display_data"
    },
    {
     "data": {
      "application/vnd.jupyter.widget-view+json": {
       "model_id": "",
       "version_major": 2,
       "version_minor": 0
      },
      "text/plain": [
       "  0%|          | 0/94 [00:00<?, ?it/s]"
      ]
     },
     "metadata": {},
     "output_type": "display_data"
    },
    {
     "data": {
      "application/vnd.jupyter.widget-view+json": {
       "model_id": "",
       "version_major": 2,
       "version_minor": 0
      },
      "text/plain": [
       "  0%|          | 0/94 [00:00<?, ?it/s]"
      ]
     },
     "metadata": {},
     "output_type": "display_data"
    },
    {
     "data": {
      "application/vnd.jupyter.widget-view+json": {
       "model_id": "",
       "version_major": 2,
       "version_minor": 0
      },
      "text/plain": [
       "  0%|          | 0/94 [00:00<?, ?it/s]"
      ]
     },
     "metadata": {},
     "output_type": "display_data"
    },
    {
     "data": {
      "application/vnd.jupyter.widget-view+json": {
       "model_id": "",
       "version_major": 2,
       "version_minor": 0
      },
      "text/plain": [
       "  0%|          | 0/94 [00:00<?, ?it/s]"
      ]
     },
     "metadata": {},
     "output_type": "display_data"
    },
    {
     "data": {
      "application/vnd.jupyter.widget-view+json": {
       "model_id": "",
       "version_major": 2,
       "version_minor": 0
      },
      "text/plain": [
       "  0%|          | 0/94 [00:00<?, ?it/s]"
      ]
     },
     "metadata": {},
     "output_type": "display_data"
    },
    {
     "data": {
      "application/vnd.jupyter.widget-view+json": {
       "model_id": "",
       "version_major": 2,
       "version_minor": 0
      },
      "text/plain": [
       "  0%|          | 0/94 [00:00<?, ?it/s]"
      ]
     },
     "metadata": {},
     "output_type": "display_data"
    },
    {
     "data": {
      "application/vnd.jupyter.widget-view+json": {
       "model_id": "",
       "version_major": 2,
       "version_minor": 0
      },
      "text/plain": [
       "  0%|          | 0/94 [00:00<?, ?it/s]"
      ]
     },
     "metadata": {},
     "output_type": "display_data"
    },
    {
     "data": {
      "text/plain": [
       "(array([0, 1, 2]), array([ 328,    2, 2620], dtype=int64))"
      ]
     },
     "execution_count": 13,
     "metadata": {},
     "output_type": "execute_result"
    }
   ],
   "source": [
    "import pandas as pd\n",
    "from tqdm.auto import tqdm\n",
    "from tsfeatures import acf_features\n",
    "\n",
    "df_acf = pd.DataFrame()\n",
    "for path in filter(lambda path: any(keyword in str(path)\n",
    "                                    for keyword in (\"week6\", \"week9\")),\n",
    "                   tqdm(data_paths)):\n",
    "    time, amp, laps = load_data(path)\n",
    "    feat = [acf_features(amp) for _, amp, _ in sliding_window(time, amp)]\n",
    "    df_acf = pd.concat([df_acf, pd.DataFrame(feat)], ignore_index=True)\n",
    "\n",
    "df_acf.to_csv(\"data/week6_9_acf.csv\")\n",
    "\n",
    "from sklearn.preprocessing import StandardScaler\n",
    "from sklearn.cluster import KMeans\n",
    "\n",
    "X = df_acf.to_numpy()\n",
    "\n",
    "scaler = StandardScaler()\n",
    "X_scaled = scaler.fit_transform(X)\n",
    "\n",
    "clustering = KMeans(n_clusters=3)\n",
    "y = clustering.fit_predict(X_scaled)\n",
    "np.unique(y, return_counts=True)"
   ]
  },
  {
   "cell_type": "code",
   "execution_count": 14,
   "id": "7bc03b8f-3ea0-4ada-9863-504a1c676c0d",
   "metadata": {},
   "outputs": [],
   "source": [
    "def predict_event(time, amp,\n",
    "                  event_classifier,\n",
    "                  window_sec=1.2,\n",
    "                  window_inc=0.05,\n",
    "                  event_skip=None):\n",
    "    if event_skip is None:\n",
    "        event_skip = int(window_sec // window_inc)\n",
    "    windows = sliding_window(time, amp)\n",
    "    while (window := next(windows, None)) is not None:\n",
    "        window_time, window_amp, _ = window\n",
    "        has_event = event_classifier(window_amp)\n",
    "        if has_event:\n",
    "            yield min(window_time), max(window_time)\n",
    "            for _ in range(event_skip):\n",
    "                next(windows, None)"
   ]
  },
  {
   "cell_type": "code",
   "execution_count": 15,
   "id": "46d8b07c-bde3-44c3-8760-e9bc6942ce9a",
   "metadata": {},
   "outputs": [
    {
     "data": {
      "application/vnd.jupyter.widget-view+json": {
       "model_id": "",
       "version_major": 2,
       "version_minor": 0
      },
      "text/plain": [
       "  0%|          | 0/94 [00:00<?, ?it/s]"
      ]
     },
     "metadata": {},
     "output_type": "display_data"
    },
    {
     "data": {
      "image/png": "[encoded data removed]",
      "text/plain": [
       "<Figure size 1200x400 with 1 Axes>"
      ]
     },
     "metadata": {},
     "output_type": "display_data"
    }
   ],
   "source": [
    "def classifier(amp):\n",
    "    return np.var(amp) > 250\n",
    "\n",
    "time, amp, laps = load_data(Path(\"./data/week9/2204looklefts1.csv\"))\n",
    "\n",
    "threshold = np.std(amp)\n",
    "\n",
    "events = [*predict_event(time, amp,\n",
    "                         classifier,\n",
    "                         window_sec=1.0,\n",
    "                         window_inc=0.1,\n",
    "                         event_skip=0)]\n",
    "plt.figure(figsize=(12, 4))\n",
    "for event_start, event_end in events:\n",
    "    plt.vlines(event_end, min(amp), max(amp), color=\"limegreen\")\n",
    "plot_data(time, amp, laps)\n",
    "plt.show()"
   ]
  },
  {
   "cell_type": "markdown",
   "id": "36b740d6-adec-49f6-ad22-4c785e878ac5",
   "metadata": {},
   "source": [
    "## Event Classficiation\n",
    "\n",
    "### Slice"
   ]
  },
  {
   "cell_type": "code",
   "execution_count": 21,
   "id": "1868a6ba-a86e-471e-b980-245a7c45670e",
   "metadata": {},
   "outputs": [
    {
     "data": {
      "application/vnd.jupyter.widget-view+json": {
       "model_id": "09c9a2d62fe44ca2bae713f9eb46963c",
       "version_major": 2,
       "version_minor": 0
      },
      "text/plain": [
       "  0%|          | 0/48 [00:00<?, ?it/s]"
      ]
     },
     "metadata": {},
     "output_type": "display_data"
    }
   ],
   "source": [
    "import re\n",
    "import pandas as pd\n",
    "from tqdm.auto import tqdm\n",
    "\n",
    "clip_df = []\n",
    "for path in tqdm(data_paths):\n",
    "    week = int(re.search(r\"week(\\d+)\", str(path), flags=re.I).group(1))\n",
    "    for s in (\"left\", \"right\", \"blink\", \"no\", \"test\"):\n",
    "        if s in str(path).lower():\n",
    "            label = s\n",
    "            break\n",
    "    else:\n",
    "        raise ValueError()\n",
    "\n",
    "    double = \"double\" in str(path)\n",
    "\n",
    "    window_sec = 1.0\n",
    "    window_n = int(10_000 * window_sec)\n",
    "    minimum_sec = 0.2\n",
    "    minimum_n = int(10_000 * minimum_sec)\n",
    "    \n",
    "    time, amp, laps = load_data(path)\n",
    "    \n",
    "    amp_med = np.median(amp)\n",
    "    error = amp - amp_med\n",
    "    std = np.convolve(error ** 2, np.ones(window_n), \"full\")[:-(window_n - 1)] / window_n\n",
    "    event = (std > 150).astype(int)\n",
    "    for i, j in np.where(np.diff(np.r_[0, event, 0]))[0].reshape(-1, 2):\n",
    "        if j - i < minimum_n:\n",
    "            continue\n",
    "        clip_time = time[max(0, i - window_n):j]\n",
    "        clip_amp = amp[max(0, i - window_n):j]\n",
    "        clip_df.append({\n",
    "            \"week\": week,\n",
    "            \"path\": str(path),\n",
    "            \"label\": label,\n",
    "            \"double\": double,\n",
    "            \"time\": clip_time,\n",
    "            \"amp\": clip_amp,\n",
    "        })\n",
    "\n",
    "clip_df = pd.DataFrame(clip_df)"
   ]
  },
  {
   "cell_type": "markdown",
   "id": "2966b8b2-d852-4318-a1ef-860b2b9730c6",
   "metadata": {},
   "source": [
    "### Blink vs Not Blink"
   ]
  },
  {
   "cell_type": "markdown",
   "id": "e2d3ad5a-4874-4e64-8b77-0cf1dbae1a2e",
   "metadata": {},
   "source": [
    "The method used here is the minimum difference in indicies between peaks (high or low).\n",
    "\n",
    "_20,000 indicies = 1 second_"
   ]
  },
  {
   "cell_type": "code",
   "execution_count": 22,
   "id": "b4ff4288-c33a-4d4a-901f-5aca2877c689",
   "metadata": {
    "scrolled": true
   },
   "outputs": [
    {
     "data": {
      "application/vnd.jupyter.widget-view+json": {
       "model_id": "3fd975ce6898409ca4e270e04fba17ea",
       "version_major": 2,
       "version_minor": 0
      },
      "text/plain": [
       "  0%|          | 0/256 [00:00<?, ?it/s]"
      ]
     },
     "metadata": {},
     "output_type": "display_data"
    },
    {
     "data": {
      "text/html": [
       "<div>\n",
       "<style scoped>\n",
       "    .dataframe tbody tr th:only-of-type {\n",
       "        vertical-align: middle;\n",
       "    }\n",
       "\n",
       "    .dataframe tbody tr th {\n",
       "        vertical-align: top;\n",
       "    }\n",
       "\n",
       "    .dataframe thead th {\n",
       "        text-align: right;\n",
       "    }\n",
       "</style>\n",
       "<table border=\"1\" class=\"dataframe\">\n",
       "  <thead>\n",
       "    <tr style=\"text-align: right;\">\n",
       "      <th></th>\n",
       "      <th>index</th>\n",
       "      <th>week</th>\n",
       "      <th>path</th>\n",
       "      <th>label</th>\n",
       "      <th>double</th>\n",
       "      <th>min_diff_peak</th>\n",
       "      <th>len_peak</th>\n",
       "    </tr>\n",
       "  </thead>\n",
       "  <tbody>\n",
       "    <tr>\n",
       "      <th>0</th>\n",
       "      <td>0</td>\n",
       "      <td>10</td>\n",
       "      <td>data\\week10\\1005BLINKS1.csv</td>\n",
       "      <td>blink</td>\n",
       "      <td>False</td>\n",
       "      <td>0</td>\n",
       "      <td>1</td>\n",
       "    </tr>\n",
       "    <tr>\n",
       "      <th>1</th>\n",
       "      <td>1</td>\n",
       "      <td>10</td>\n",
       "      <td>data\\week10\\1005BLINKS1.csv</td>\n",
       "      <td>blink</td>\n",
       "      <td>False</td>\n",
       "      <td>1571</td>\n",
       "      <td>2</td>\n",
       "    </tr>\n",
       "    <tr>\n",
       "      <th>2</th>\n",
       "      <td>2</td>\n",
       "      <td>10</td>\n",
       "      <td>data\\week10\\1005BLINKS1.csv</td>\n",
       "      <td>blink</td>\n",
       "      <td>False</td>\n",
       "      <td>0</td>\n",
       "      <td>1</td>\n",
       "    </tr>\n",
       "    <tr>\n",
       "      <th>3</th>\n",
       "      <td>3</td>\n",
       "      <td>10</td>\n",
       "      <td>data\\week10\\1005BLINKS1.csv</td>\n",
       "      <td>blink</td>\n",
       "      <td>False</td>\n",
       "      <td>0</td>\n",
       "      <td>1</td>\n",
       "    </tr>\n",
       "    <tr>\n",
       "      <th>4</th>\n",
       "      <td>4</td>\n",
       "      <td>10</td>\n",
       "      <td>data\\week10\\1005BLINKS1.csv</td>\n",
       "      <td>blink</td>\n",
       "      <td>False</td>\n",
       "      <td>1312</td>\n",
       "      <td>2</td>\n",
       "    </tr>\n",
       "    <tr>\n",
       "      <th>...</th>\n",
       "      <td>...</td>\n",
       "      <td>...</td>\n",
       "      <td>...</td>\n",
       "      <td>...</td>\n",
       "      <td>...</td>\n",
       "      <td>...</td>\n",
       "      <td>...</td>\n",
       "    </tr>\n",
       "    <tr>\n",
       "      <th>251</th>\n",
       "      <td>251</td>\n",
       "      <td>9</td>\n",
       "      <td>data\\week9\\double\\right\\2204doubleright.csv</td>\n",
       "      <td>right</td>\n",
       "      <td>True</td>\n",
       "      <td>727</td>\n",
       "      <td>7</td>\n",
       "    </tr>\n",
       "    <tr>\n",
       "      <th>252</th>\n",
       "      <td>252</td>\n",
       "      <td>9</td>\n",
       "      <td>data\\week9\\double\\right\\2204doubleright.csv</td>\n",
       "      <td>right</td>\n",
       "      <td>True</td>\n",
       "      <td>3433</td>\n",
       "      <td>4</td>\n",
       "    </tr>\n",
       "    <tr>\n",
       "      <th>253</th>\n",
       "      <td>253</td>\n",
       "      <td>9</td>\n",
       "      <td>data\\week9\\double\\right\\2204doubleright.csv</td>\n",
       "      <td>right</td>\n",
       "      <td>True</td>\n",
       "      <td>202</td>\n",
       "      <td>7</td>\n",
       "    </tr>\n",
       "    <tr>\n",
       "      <th>254</th>\n",
       "      <td>254</td>\n",
       "      <td>9</td>\n",
       "      <td>data\\week9\\double\\right\\2204doubleright1.csv</td>\n",
       "      <td>right</td>\n",
       "      <td>True</td>\n",
       "      <td>446</td>\n",
       "      <td>8</td>\n",
       "    </tr>\n",
       "    <tr>\n",
       "      <th>255</th>\n",
       "      <td>255</td>\n",
       "      <td>9</td>\n",
       "      <td>data\\week9\\double\\right\\2204doubleright1.csv</td>\n",
       "      <td>right</td>\n",
       "      <td>True</td>\n",
       "      <td>202</td>\n",
       "      <td>8</td>\n",
       "    </tr>\n",
       "  </tbody>\n",
       "</table>\n",
       "<p>256 rows × 7 columns</p>\n",
       "</div>"
      ],
      "text/plain": [
       "     index  week                                          path  label  double  \\\n",
       "0        0    10                   data\\week10\\1005BLINKS1.csv  blink   False   \n",
       "1        1    10                   data\\week10\\1005BLINKS1.csv  blink   False   \n",
       "2        2    10                   data\\week10\\1005BLINKS1.csv  blink   False   \n",
       "3        3    10                   data\\week10\\1005BLINKS1.csv  blink   False   \n",
       "4        4    10                   data\\week10\\1005BLINKS1.csv  blink   False   \n",
       "..     ...   ...                                           ...    ...     ...   \n",
       "251    251     9   data\\week9\\double\\right\\2204doubleright.csv  right    True   \n",
       "252    252     9   data\\week9\\double\\right\\2204doubleright.csv  right    True   \n",
       "253    253     9   data\\week9\\double\\right\\2204doubleright.csv  right    True   \n",
       "254    254     9  data\\week9\\double\\right\\2204doubleright1.csv  right    True   \n",
       "255    255     9  data\\week9\\double\\right\\2204doubleright1.csv  right    True   \n",
       "\n",
       "     min_diff_peak  len_peak  \n",
       "0                0         1  \n",
       "1             1571         2  \n",
       "2                0         1  \n",
       "3                0         1  \n",
       "4             1312         2  \n",
       "..             ...       ...  \n",
       "251            727         7  \n",
       "252           3433         4  \n",
       "253            202         7  \n",
       "254            446         8  \n",
       "255            202         8  \n",
       "\n",
       "[256 rows x 7 columns]"
      ]
     },
     "execution_count": 22,
     "metadata": {},
     "output_type": "execute_result"
    }
   ],
   "source": [
    "from scipy.signal import find_peaks\n",
    "\n",
    "tqdm.pandas()\n",
    "\n",
    "def clip_features(amp):\n",
    "    high_peaks, _ = find_peaks(amp, prominence=50)\n",
    "    low_peaks, _ = find_peaks(-amp, prominence=50)\n",
    "    peaks = np.sort(np.concatenate([high_peaks, low_peaks]))\n",
    "    min_diff_peak = np.min(np.diff(peaks)) if len(peaks) > 1 else 0\n",
    "    return {\n",
    "        \"min_diff_peak\": min_diff_peak,\n",
    "        \"len_peak\": len(peaks)\n",
    "    }\n",
    "\n",
    "clip_good_df = clip_df[((clip_df[\"week\"].isin([6, 9, 10, 11])))\n",
    "    & (~clip_df[\"label\"].isin([\"test\", \"no\"]))].reset_index()\n",
    "clip_feat = pd.DataFrame([*clip_good_df[\"amp\"].progress_apply(clip_features)])\n",
    "clip_feat_df = clip_good_df.drop(columns=[\"time\", \"amp\"]).join(clip_feat)\n",
    "clip_feat_df"
   ]
  },
  {
   "cell_type": "code",
   "execution_count": 23,
   "id": "6d4dbcc0-7b9f-4190-aa32-3a05be4a8980",
   "metadata": {},
   "outputs": [
    {
     "name": "stdout",
     "output_type": "stream",
     "text": [
      "k-fold score: 81.6%\n"
     ]
    }
   ],
   "source": [
    "from sklearn.preprocessing import StandardScaler\n",
    "from sklearn.tree import DecisionTreeClassifier\n",
    "from sklearn.metrics import accuracy_score\n",
    "from sklearn.model_selection import StratifiedKFold\n",
    "\n",
    "X = clip_feat_df.iloc[:, 5:].to_numpy()\n",
    "y = (clip_feat_df[\"label\"] == \"blink\").to_numpy()\n",
    "\n",
    "kf = StratifiedKFold(n_splits=5, shuffle=True, random_state=42)\n",
    "scores = []\n",
    "for i, (train_index, test_index) in enumerate(kf.split(X, y)):\n",
    "    X_train = X[train_index]\n",
    "    y_train = y[train_index]\n",
    "    X_test = X[test_index]\n",
    "    y_test = y[test_index]\n",
    "\n",
    "    model = DecisionTreeClassifier(max_depth=2, class_weight=\"balanced\")\n",
    "    model.fit(X_train, y_train)\n",
    "    scores.append(accuracy_score(y_test, model.predict(X_test)))\n",
    "\n",
    "print(f\"k-fold score: {np.mean(scores):.1%}\")"
   ]
  },
  {
   "cell_type": "code",
   "execution_count": 29,
   "id": "35170b58",
   "metadata": {},
   "outputs": [
    {
     "data": {
      "application/vnd.jupyter.widget-view+json": {
       "model_id": "3ac5bd6ccc754cd08cf72fa339a73bf3",
       "version_major": 2,
       "version_minor": 0
      },
      "text/plain": [
       "  0%|          | 0/256 [00:00<?, ?it/s]"
      ]
     },
     "metadata": {},
     "output_type": "display_data"
    },
    {
     "name": "stdout",
     "output_type": "stream",
     "text": [
      "Prominence 0: 65.6%\n"
     ]
    },
    {
     "data": {
      "application/vnd.jupyter.widget-view+json": {
       "model_id": "11ae81912ef147a79b49a91bf739e7aa",
       "version_major": 2,
       "version_minor": 0
      },
      "text/plain": [
       "  0%|          | 0/256 [00:00<?, ?it/s]"
      ]
     },
     "metadata": {},
     "output_type": "display_data"
    },
    {
     "name": "stdout",
     "output_type": "stream",
     "text": [
      "Prominence 5: 66.4%\n"
     ]
    },
    {
     "data": {
      "application/vnd.jupyter.widget-view+json": {
       "model_id": "c419d48ff72145b89ea33461345c000d",
       "version_major": 2,
       "version_minor": 0
      },
      "text/plain": [
       "  0%|          | 0/256 [00:00<?, ?it/s]"
      ]
     },
     "metadata": {},
     "output_type": "display_data"
    },
    {
     "name": "stdout",
     "output_type": "stream",
     "text": [
      "Prominence 10: 69.1%\n"
     ]
    },
    {
     "data": {
      "application/vnd.jupyter.widget-view+json": {
       "model_id": "1f0bd9f823614f92b762fe595e92185f",
       "version_major": 2,
       "version_minor": 0
      },
      "text/plain": [
       "  0%|          | 0/256 [00:00<?, ?it/s]"
      ]
     },
     "metadata": {},
     "output_type": "display_data"
    },
    {
     "name": "stdout",
     "output_type": "stream",
     "text": [
      "Prominence 15: 75.0%\n"
     ]
    },
    {
     "data": {
      "application/vnd.jupyter.widget-view+json": {
       "model_id": "dd890fb0fc5a4cb58e1cbc1c7c862b87",
       "version_major": 2,
       "version_minor": 0
      },
      "text/plain": [
       "  0%|          | 0/256 [00:00<?, ?it/s]"
      ]
     },
     "metadata": {},
     "output_type": "display_data"
    },
    {
     "name": "stdout",
     "output_type": "stream",
     "text": [
      "Prominence 20: 76.1%\n"
     ]
    },
    {
     "data": {
      "application/vnd.jupyter.widget-view+json": {
       "model_id": "abb022537d094813b26b041e9f0c3328",
       "version_major": 2,
       "version_minor": 0
      },
      "text/plain": [
       "  0%|          | 0/256 [00:00<?, ?it/s]"
      ]
     },
     "metadata": {},
     "output_type": "display_data"
    },
    {
     "name": "stdout",
     "output_type": "stream",
     "text": [
      "Prominence 25: 79.7%\n"
     ]
    },
    {
     "data": {
      "application/vnd.jupyter.widget-view+json": {
       "model_id": "2202f64305294b46bec9f043084a8bb5",
       "version_major": 2,
       "version_minor": 0
      },
      "text/plain": [
       "  0%|          | 0/256 [00:00<?, ?it/s]"
      ]
     },
     "metadata": {},
     "output_type": "display_data"
    },
    {
     "name": "stdout",
     "output_type": "stream",
     "text": [
      "Prominence 30: 78.1%\n"
     ]
    },
    {
     "data": {
      "application/vnd.jupyter.widget-view+json": {
       "model_id": "c30d18d163804b96af92ef41e723f3c9",
       "version_major": 2,
       "version_minor": 0
      },
      "text/plain": [
       "  0%|          | 0/256 [00:00<?, ?it/s]"
      ]
     },
     "metadata": {},
     "output_type": "display_data"
    },
    {
     "name": "stdout",
     "output_type": "stream",
     "text": [
      "Prominence 35: 77.3%\n"
     ]
    },
    {
     "data": {
      "application/vnd.jupyter.widget-view+json": {
       "model_id": "cd3a4db9d6a94e98931339cb7fea3905",
       "version_major": 2,
       "version_minor": 0
      },
      "text/plain": [
       "  0%|          | 0/256 [00:00<?, ?it/s]"
      ]
     },
     "metadata": {},
     "output_type": "display_data"
    },
    {
     "name": "stdout",
     "output_type": "stream",
     "text": [
      "Prominence 40: 76.9%\n"
     ]
    },
    {
     "data": {
      "application/vnd.jupyter.widget-view+json": {
       "model_id": "d7ddb8d493c34453983f7d9bdf6eff99",
       "version_major": 2,
       "version_minor": 0
      },
      "text/plain": [
       "  0%|          | 0/256 [00:00<?, ?it/s]"
      ]
     },
     "metadata": {},
     "output_type": "display_data"
    },
    {
     "name": "stdout",
     "output_type": "stream",
     "text": [
      "Prominence 45: 78.1%\n"
     ]
    },
    {
     "data": {
      "application/vnd.jupyter.widget-view+json": {
       "model_id": "1acc603327f54f16a2d99e0a8072982b",
       "version_major": 2,
       "version_minor": 0
      },
      "text/plain": [
       "  0%|          | 0/256 [00:00<?, ?it/s]"
      ]
     },
     "metadata": {},
     "output_type": "display_data"
    },
    {
     "name": "stdout",
     "output_type": "stream",
     "text": [
      "Prominence 50: 81.6%\n"
     ]
    },
    {
     "data": {
      "application/vnd.jupyter.widget-view+json": {
       "model_id": "410387e5b2004e94b01898eaa98686de",
       "version_major": 2,
       "version_minor": 0
      },
      "text/plain": [
       "  0%|          | 0/256 [00:00<?, ?it/s]"
      ]
     },
     "metadata": {},
     "output_type": "display_data"
    },
    {
     "name": "stdout",
     "output_type": "stream",
     "text": [
      "Prominence 55: 81.6%\n"
     ]
    },
    {
     "data": {
      "application/vnd.jupyter.widget-view+json": {
       "model_id": "dc372b339c7846c9b83165e12debd0e1",
       "version_major": 2,
       "version_minor": 0
      },
      "text/plain": [
       "  0%|          | 0/256 [00:00<?, ?it/s]"
      ]
     },
     "metadata": {},
     "output_type": "display_data"
    },
    {
     "name": "stdout",
     "output_type": "stream",
     "text": [
      "Prominence 60: 80.9%\n"
     ]
    },
    {
     "data": {
      "application/vnd.jupyter.widget-view+json": {
       "model_id": "82fde2cfd580427490d337b22c44733e",
       "version_major": 2,
       "version_minor": 0
      },
      "text/plain": [
       "  0%|          | 0/256 [00:00<?, ?it/s]"
      ]
     },
     "metadata": {},
     "output_type": "display_data"
    },
    {
     "name": "stdout",
     "output_type": "stream",
     "text": [
      "Prominence 65: 82.0%\n"
     ]
    },
    {
     "data": {
      "application/vnd.jupyter.widget-view+json": {
       "model_id": "2bae737d94934bae9a3250e27653cc30",
       "version_major": 2,
       "version_minor": 0
      },
      "text/plain": [
       "  0%|          | 0/256 [00:00<?, ?it/s]"
      ]
     },
     "metadata": {},
     "output_type": "display_data"
    },
    {
     "name": "stdout",
     "output_type": "stream",
     "text": [
      "Prominence 70: 83.2%\n"
     ]
    },
    {
     "data": {
      "application/vnd.jupyter.widget-view+json": {
       "model_id": "394b7fd8e0e44c08960060ec606b475b",
       "version_major": 2,
       "version_minor": 0
      },
      "text/plain": [
       "  0%|          | 0/256 [00:00<?, ?it/s]"
      ]
     },
     "metadata": {},
     "output_type": "display_data"
    },
    {
     "name": "stdout",
     "output_type": "stream",
     "text": [
      "Prominence 75: 81.2%\n"
     ]
    },
    {
     "data": {
      "application/vnd.jupyter.widget-view+json": {
       "model_id": "a5c140a293c940a2b03aedaac1ee8ad3",
       "version_major": 2,
       "version_minor": 0
      },
      "text/plain": [
       "  0%|          | 0/256 [00:00<?, ?it/s]"
      ]
     },
     "metadata": {},
     "output_type": "display_data"
    },
    {
     "name": "stdout",
     "output_type": "stream",
     "text": [
      "Prominence 80: 80.1%\n"
     ]
    },
    {
     "data": {
      "application/vnd.jupyter.widget-view+json": {
       "model_id": "3be528c9e11945c882b6cbfabf11a4c2",
       "version_major": 2,
       "version_minor": 0
      },
      "text/plain": [
       "  0%|          | 0/256 [00:00<?, ?it/s]"
      ]
     },
     "metadata": {},
     "output_type": "display_data"
    },
    {
     "name": "stdout",
     "output_type": "stream",
     "text": [
      "Prominence 85: 78.9%\n"
     ]
    },
    {
     "data": {
      "application/vnd.jupyter.widget-view+json": {
       "model_id": "01f5f24ae91d486690253e84df99fe0d",
       "version_major": 2,
       "version_minor": 0
      },
      "text/plain": [
       "  0%|          | 0/256 [00:00<?, ?it/s]"
      ]
     },
     "metadata": {},
     "output_type": "display_data"
    },
    {
     "name": "stdout",
     "output_type": "stream",
     "text": [
      "Prominence 90: 78.9%\n"
     ]
    },
    {
     "data": {
      "application/vnd.jupyter.widget-view+json": {
       "model_id": "6b2c32612a4d43c2aa2f58eb4acdce80",
       "version_major": 2,
       "version_minor": 0
      },
      "text/plain": [
       "  0%|          | 0/256 [00:00<?, ?it/s]"
      ]
     },
     "metadata": {},
     "output_type": "display_data"
    },
    {
     "name": "stdout",
     "output_type": "stream",
     "text": [
      "Prominence 95: 79.7%\n"
     ]
    },
    {
     "data": {
      "application/vnd.jupyter.widget-view+json": {
       "model_id": "01fc4480ebc54572b88e5399773c55ad",
       "version_major": 2,
       "version_minor": 0
      },
      "text/plain": [
       "  0%|          | 0/256 [00:00<?, ?it/s]"
      ]
     },
     "metadata": {},
     "output_type": "display_data"
    },
    {
     "name": "stdout",
     "output_type": "stream",
     "text": [
      "Prominence 100: 78.9%\n"
     ]
    }
   ],
   "source": [
    "from scipy.signal import find_peaks\n",
    "import numpy as np\n",
    "import pandas as pd\n",
    "from sklearn.preprocessing import StandardScaler\n",
    "from sklearn.tree import DecisionTreeClassifier\n",
    "from sklearn.metrics import accuracy_score\n",
    "from sklearn.model_selection import StratifiedKFold\n",
    "\n",
    "tqdm.pandas()\n",
    "\n",
    "def clip_features(amp, prominence):\n",
    "    high_peaks, _ = find_peaks(amp, prominence=prominence)\n",
    "    low_peaks, _ = find_peaks(-amp, prominence=prominence)\n",
    "    peaks = np.sort(np.concatenate([high_peaks, low_peaks]))\n",
    "    min_diff_peak = np.min(np.diff(peaks)) if len(peaks) > 1 else 0\n",
    "    return {\n",
    "        \"min_diff_peak\": min_diff_peak,\n",
    "        \"len_peak\": len(peaks)\n",
    "    }\n",
    "\n",
    "clip_good_df = clip_df[(clip_df[\"week\"].isin([6, 9, 10, 11]))\n",
    "                       & (~clip_df[\"label\"].isin([\"test\", \"no\"]))].reset_index()\n",
    "\n",
    "kf = StratifiedKFold(n_splits=5, shuffle=True, random_state=42)\n",
    "model = DecisionTreeClassifier(max_depth=2, class_weight=\"balanced\")\n",
    "\n",
    "\n",
    "prominence_values = range(0, 101, 5)\n",
    "prominence_scores = []\n",
    "\n",
    "for prominence in prominence_values:\n",
    "    clip_feat = pd.DataFrame([*clip_good_df[\"amp\"].progress_apply(clip_features, prominence=prominence)])\n",
    "    clip_feat_df = clip_good_df.drop(columns=[\"time\", \"amp\"]).join(clip_feat)\n",
    "\n",
    "    X = clip_feat_df.iloc[:, 5:].to_numpy()\n",
    "    y = (clip_feat_df[\"label\"] == \"blink\").to_numpy()\n",
    "\n",
    "    scores = []\n",
    "    for train_index, test_index in kf.split(X, y):\n",
    "        X_train, X_test = X[train_index], X[test_index]\n",
    "        y_train, y_test = y[train_index], y[test_index]\n",
    "        model.fit(X_train, y_train)\n",
    "        scores.append(accuracy_score(y_test, model.predict(X_test)))\n",
    "\n",
    "    mean_score = np.mean(scores)\n",
    "    prominence_scores.append((prominence, mean_score))\n",
    "    print(f\"Prominence {prominence}: {mean_score:.1%}\")\n",
    "\n"
   ]
  },
  {
   "cell_type": "code",
   "execution_count": 37,
   "id": "f6921f42",
   "metadata": {},
   "outputs": [
    {
     "data": {
      "application/vnd.jupyter.widget-view+json": {
       "model_id": "b57f7d1457bc4c33a23c9c36d6b0bcc4",
       "version_major": 2,
       "version_minor": 0
      },
      "text/plain": [
       "  0%|          | 0/256 [00:00<?, ?it/s]"
      ]
     },
     "metadata": {},
     "output_type": "display_data"
    },
    {
     "data": {
      "application/vnd.jupyter.widget-view+json": {
       "model_id": "dca01d7bddb3495485698a9dee198811",
       "version_major": 2,
       "version_minor": 0
      },
      "text/plain": [
       "  0%|          | 0/256 [00:00<?, ?it/s]"
      ]
     },
     "metadata": {},
     "output_type": "display_data"
    },
    {
     "data": {
      "application/vnd.jupyter.widget-view+json": {
       "model_id": "d5a0128bcfdd4ab398e628e7c80077ad",
       "version_major": 2,
       "version_minor": 0
      },
      "text/plain": [
       "  0%|          | 0/256 [00:00<?, ?it/s]"
      ]
     },
     "metadata": {},
     "output_type": "display_data"
    },
    {
     "data": {
      "application/vnd.jupyter.widget-view+json": {
       "model_id": "c51cd6f2da304d7687551f27e2933dcb",
       "version_major": 2,
       "version_minor": 0
      },
      "text/plain": [
       "  0%|          | 0/256 [00:00<?, ?it/s]"
      ]
     },
     "metadata": {},
     "output_type": "display_data"
    },
    {
     "data": {
      "application/vnd.jupyter.widget-view+json": {
       "model_id": "9d660d3e9f5240e1b5a921d112361219",
       "version_major": 2,
       "version_minor": 0
      },
      "text/plain": [
       "  0%|          | 0/256 [00:00<?, ?it/s]"
      ]
     },
     "metadata": {},
     "output_type": "display_data"
    },
    {
     "data": {
      "application/vnd.jupyter.widget-view+json": {
       "model_id": "3a647976161442dc8d5f1ce691ebf434",
       "version_major": 2,
       "version_minor": 0
      },
      "text/plain": [
       "  0%|          | 0/256 [00:00<?, ?it/s]"
      ]
     },
     "metadata": {},
     "output_type": "display_data"
    },
    {
     "data": {
      "application/vnd.jupyter.widget-view+json": {
       "model_id": "44a1825c944d41ad8793b74cf6263f5a",
       "version_major": 2,
       "version_minor": 0
      },
      "text/plain": [
       "  0%|          | 0/256 [00:00<?, ?it/s]"
      ]
     },
     "metadata": {},
     "output_type": "display_data"
    },
    {
     "data": {
      "application/vnd.jupyter.widget-view+json": {
       "model_id": "0a4ac501adae4295b3b812457d216ef4",
       "version_major": 2,
       "version_minor": 0
      },
      "text/plain": [
       "  0%|          | 0/256 [00:00<?, ?it/s]"
      ]
     },
     "metadata": {},
     "output_type": "display_data"
    },
    {
     "data": {
      "application/vnd.jupyter.widget-view+json": {
       "model_id": "0b94f7263e4d4fcb9897aa96a3e7ddff",
       "version_major": 2,
       "version_minor": 0
      },
      "text/plain": [
       "  0%|          | 0/256 [00:00<?, ?it/s]"
      ]
     },
     "metadata": {},
     "output_type": "display_data"
    },
    {
     "data": {
      "application/vnd.jupyter.widget-view+json": {
       "model_id": "d6292df1063a4c8ebf909c943390a380",
       "version_major": 2,
       "version_minor": 0
      },
      "text/plain": [
       "  0%|          | 0/256 [00:00<?, ?it/s]"
      ]
     },
     "metadata": {},
     "output_type": "display_data"
    },
    {
     "data": {
      "application/vnd.jupyter.widget-view+json": {
       "model_id": "23f9bfb0aac84d6c85622e6061228f74",
       "version_major": 2,
       "version_minor": 0
      },
      "text/plain": [
       "  0%|          | 0/256 [00:00<?, ?it/s]"
      ]
     },
     "metadata": {},
     "output_type": "display_data"
    },
    {
     "data": {
      "application/vnd.jupyter.widget-view+json": {
       "model_id": "d222bd326a7843b4af4071245583be2d",
       "version_major": 2,
       "version_minor": 0
      },
      "text/plain": [
       "  0%|          | 0/256 [00:00<?, ?it/s]"
      ]
     },
     "metadata": {},
     "output_type": "display_data"
    },
    {
     "data": {
      "application/vnd.jupyter.widget-view+json": {
       "model_id": "096a1a5696eb4724bde4490ebd7715e7",
       "version_major": 2,
       "version_minor": 0
      },
      "text/plain": [
       "  0%|          | 0/256 [00:00<?, ?it/s]"
      ]
     },
     "metadata": {},
     "output_type": "display_data"
    },
    {
     "data": {
      "application/vnd.jupyter.widget-view+json": {
       "model_id": "b473a2d6225746dbb12d90178c66a0d5",
       "version_major": 2,
       "version_minor": 0
      },
      "text/plain": [
       "  0%|          | 0/256 [00:00<?, ?it/s]"
      ]
     },
     "metadata": {},
     "output_type": "display_data"
    },
    {
     "data": {
      "application/vnd.jupyter.widget-view+json": {
       "model_id": "2a5a112184364af898c956dd498f2993",
       "version_major": 2,
       "version_minor": 0
      },
      "text/plain": [
       "  0%|          | 0/256 [00:00<?, ?it/s]"
      ]
     },
     "metadata": {},
     "output_type": "display_data"
    },
    {
     "data": {
      "application/vnd.jupyter.widget-view+json": {
       "model_id": "e7ff3312589c4bbeaf52bbe67fbc7185",
       "version_major": 2,
       "version_minor": 0
      },
      "text/plain": [
       "  0%|          | 0/256 [00:00<?, ?it/s]"
      ]
     },
     "metadata": {},
     "output_type": "display_data"
    },
    {
     "data": {
      "application/vnd.jupyter.widget-view+json": {
       "model_id": "a1360a68fc554f1b89c0a25a531fe430",
       "version_major": 2,
       "version_minor": 0
      },
      "text/plain": [
       "  0%|          | 0/256 [00:00<?, ?it/s]"
      ]
     },
     "metadata": {},
     "output_type": "display_data"
    },
    {
     "data": {
      "application/vnd.jupyter.widget-view+json": {
       "model_id": "8a0555bcb8024d61a0b6065757f4b7b6",
       "version_major": 2,
       "version_minor": 0
      },
      "text/plain": [
       "  0%|          | 0/256 [00:00<?, ?it/s]"
      ]
     },
     "metadata": {},
     "output_type": "display_data"
    },
    {
     "data": {
      "application/vnd.jupyter.widget-view+json": {
       "model_id": "e75464f2b1de405d85d6473e3f2942d1",
       "version_major": 2,
       "version_minor": 0
      },
      "text/plain": [
       "  0%|          | 0/256 [00:00<?, ?it/s]"
      ]
     },
     "metadata": {},
     "output_type": "display_data"
    },
    {
     "data": {
      "application/vnd.jupyter.widget-view+json": {
       "model_id": "8345be5b6ae64ad7864c5f6cf47159b7",
       "version_major": 2,
       "version_minor": 0
      },
      "text/plain": [
       "  0%|          | 0/256 [00:00<?, ?it/s]"
      ]
     },
     "metadata": {},
     "output_type": "display_data"
    },
    {
     "data": {
      "application/vnd.jupyter.widget-view+json": {
       "model_id": "41d35fcdecdc4a60a9d051d08dbec434",
       "version_major": 2,
       "version_minor": 0
      },
      "text/plain": [
       "  0%|          | 0/256 [00:00<?, ?it/s]"
      ]
     },
     "metadata": {},
     "output_type": "display_data"
    },
    {
     "name": "stdout",
     "output_type": "stream",
     "text": [
      "    Prominence  Accuracy\n",
      "0            0  0.656259\n",
      "1            5  0.663876\n",
      "2           10  0.691327\n",
      "3           15  0.749698\n",
      "4           20  0.761388\n",
      "5           25  0.796757\n",
      "6           30  0.781071\n",
      "7           35  0.773228\n",
      "8           40  0.769231\n",
      "9           45  0.780995\n",
      "10          50  0.816214\n",
      "11          55  0.816214\n",
      "12          60  0.808522\n",
      "13          65  0.820136\n",
      "14          70  0.831976\n",
      "15          75  0.812293\n",
      "16          80  0.800679\n",
      "17          85  0.788914\n",
      "18          90  0.788989\n",
      "19          95  0.796833\n",
      "20         100  0.788914\n"
     ]
    },
    {
     "data": {
      "image/png": "[encoded data removed]",
      "text/plain": [
       "<Figure size 1000x500 with 1 Axes>"
      ]
     },
     "metadata": {},
     "output_type": "display_data"
    }
   ],
   "source": [
    "from scipy.signal import find_peaks\n",
    "import numpy as np\n",
    "import pandas as pd\n",
    "from sklearn.preprocessing import StandardScaler\n",
    "from sklearn.tree import DecisionTreeClassifier\n",
    "from sklearn.metrics import accuracy_score, ConfusionMatrixDisplay, confusion_matrix\n",
    "from sklearn.model_selection import StratifiedKFold\n",
    "\n",
    "tqdm.pandas()\n",
    "\n",
    "def clip_features(amp, prominence):\n",
    "    high_peaks, _ = find_peaks(amp, prominence=prominence)\n",
    "    low_peaks, _ = find_peaks(-amp, prominence=prominence)\n",
    "    peaks = np.sort(np.concatenate([high_peaks, low_peaks]))\n",
    "    min_diff_peak = np.min(np.diff(peaks)) if len(peaks) > 1 else 0\n",
    "    return {\n",
    "        \"min_diff_peak\": min_diff_peak,\n",
    "        \"len_peak\": len(peaks)\n",
    "    }\n",
    "\n",
    "clip_good_df = clip_df[(clip_df[\"week\"].isin([6, 9, 10, 11]))\n",
    "                       & (~clip_df[\"label\"].isin([\"test\", \"no\"]))].reset_index()\n",
    "\n",
    "# Prepare the model\n",
    "kf = StratifiedKFold(n_splits=5, shuffle=True, random_state=42)\n",
    "model = DecisionTreeClassifier(max_depth=2, class_weight=\"balanced\")\n",
    "\n",
    "prominence_values = range(0, 101, 5)\n",
    "results = []\n",
    "\n",
    "for prominence in prominence_values:\n",
    "    clip_feat = pd.DataFrame([*clip_good_df[\"amp\"].progress_apply(clip_features, prominence=prominence)])\n",
    "    clip_feat_df = clip_good_df.drop(columns=[\"time\", \"amp\"]).join(clip_feat)\n",
    "\n",
    "    X = clip_feat_df.iloc[:, 5:].to_numpy()\n",
    "    y = (clip_feat_df[\"label\"] == \"blink\").to_numpy()\n",
    "\n",
    "    scores = []\n",
    "    for train_index, test_index in kf.split(X, y):\n",
    "        X_train, X_test = X[train_index], X[test_index]\n",
    "        y_train, y_test = y[train_index], y[test_index]\n",
    "        model.fit(X_train, y_train)\n",
    "        scores.append(accuracy_score(y_test, model.predict(X_test)))\n",
    "\n",
    "    mean_score = np.mean(scores)\n",
    "    results.append((prominence, mean_score))\n",
    "\n",
    "results_df = pd.DataFrame(results, columns=[\"Prominence\", \"Accuracy\"])\n",
    "print(results_df)\n",
    "\n",
    "import matplotlib.pyplot as plt\n",
    "plt.figure(figsize=(10, 5))\n",
    "plt.plot(results_df[\"Prominence\"], results_df[\"Accuracy\"], marker='o', linestyle='-', color='blue')\n",
    "plt.xlabel('Prominence')\n",
    "plt.ylabel('Accuracy')\n",
    "plt.title('Accuracy vs Prominence (Blink vs Not Blink)')\n",
    "plt.grid(True)\n",
    "plt.show()\n"
   ]
  },
  {
   "cell_type": "code",
   "execution_count": 1076,
   "id": "b7d071c4-00f2-4bcb-9522-aefd93b9bbcb",
   "metadata": {},
   "outputs": [
    {
     "name": "stdout",
     "output_type": "stream",
     "text": [
      "score: 85.1%\n"
     ]
    },
    {
     "data": {
      "image/png": "[encoded data removed]",
      "text/plain": [
       "<Figure size 1200x1200 with 1 Axes>"
      ]
     },
     "metadata": {},
     "output_type": "display_data"
    }
   ],
   "source": [
    "X = clip_feat_df.iloc[:, 5:].to_numpy()\n",
    "y = (clip_feat_df[\"label\"] == \"blink\").to_numpy()\n",
    "\n",
    "model = blink_dt = DecisionTreeClassifier(max_depth=2, class_weight=\"balanced\")\n",
    "model.fit(X, y)\n",
    "\n",
    "print(f\"score: {model.score(X, y):.1%}\")\n",
    "\n",
    "# print(f\"coef: {model.coef_}, intercept: {model.intercept_}\")\n",
    "# intercept = 10\n",
    "# slope = -0.0025\n",
    "# plt.scatter(*X.T, c=y)\n",
    "# plt.axline((0, intercept), slope=slope)\n",
    "# plt.show()\n",
    "\n",
    "plt.figure(figsize=(12, 12))\n",
    "plot_tree(model,\n",
    "          feature_names=clip_feat_df.columns[5:],\n",
    "          class_names=[\"not blink\", \"blink\"])\n",
    "plt.savefig(\"blink_classifier.png\")\n",
    "plt.show()"
   ]
  },
  {
   "cell_type": "code",
   "execution_count": 1004,
   "id": "7f6f0fbd-751e-409b-9156-6245d45637dc",
   "metadata": {},
   "outputs": [
    {
     "data": {
      "image/png": "[encoded data removed]",
      "text/plain": [
       "<Figure size 640x480 with 2 Axes>"
      ]
     },
     "metadata": {},
     "output_type": "display_data"
    }
   ],
   "source": [
    "cm = confusion_matrix(y, model.predict(X))\n",
    "ConfusionMatrixDisplay(cm, display_labels=[\"not blink\", \"blink\"]).plot()\n",
    "plt.show()"
   ]
  },
  {
   "cell_type": "markdown",
   "id": "a0d3d71e-2926-456c-a9b7-18a29d6eee06",
   "metadata": {},
   "source": [
    "### Left vs Right"
   ]
  },
  {
   "cell_type": "code",
   "execution_count": 617,
   "id": "411c603f-0f8d-4d15-a4dd-b86f4f3dc8b2",
   "metadata": {},
   "outputs": [
    {
     "name": "stdout",
     "output_type": "stream",
     "text": [
      "accuracy score: 90.5%\n"
     ]
    },
    {
     "data": {
      "image/png": "[encoded data removed]",
      "text/plain": [
       "<Figure size 640x480 with 2 Axes>"
      ]
     },
     "metadata": {},
     "output_type": "display_data"
    }
   ],
   "source": [
    "from sklearn.metrics import ConfusionMatrixDisplay, accuracy_score, confusion_matrix\n",
    "\n",
    "clip_lr_df = clip_df[(clip_df[\"week\"].isin([9, 10, 11]))\n",
    "    & (~clip_df[\"label\"].isin([\"test\", \"no\"]))\n",
    "    & (~clip_df[\"double\"])\n",
    "    & (clip_df[\"label\"].isin([\"left\", \"right\"]))].reset_index()\n",
    "\n",
    "# the nodes are swapped in some weeks\n",
    "clip_lr_df.loc[clip_lr_df[\"week\"].isin([6]), \"label\"] = \\\n",
    "    clip_lr_df.loc[clip_lr_df[\"week\"].isin([6]), \"label\"].map(\n",
    "        {\"left\": \"right\", \"right\": \"left\"}.get)\n",
    "\n",
    "amps = clip_lr_df[[\"amp\"]]\n",
    "label = clip_lr_df[\"label\"].astype(\"category\")\n",
    "\n",
    "def lr_classify(amp):\n",
    "    high_peaks, _ = find_peaks(amp, prominence=50)\n",
    "    low_peaks, _ = find_peaks(-amp, prominence=50)\n",
    "    if len(high_peaks) and len(low_peaks):\n",
    "        return [\"left\", \"right\"][int(np.mean(high_peaks) < np.mean(low_peaks))]\n",
    "    else:\n",
    "        return \"none\"\n",
    "\n",
    "prediction = amps.map(lr_classify).astype(\"category\")\n",
    "\n",
    "print(f\"accuracy score: {accuracy_score(label, prediction):.1%}\")\n",
    "cm = confusion_matrix(label, prediction, labels=[\"left\", \"right\", \"none\"])\n",
    "ConfusionMatrixDisplay(cm, display_labels=[\"left\", \"right\", \"none\"]).plot()\n",
    "plt.show()"
   ]
  },
  {
   "cell_type": "code",
   "execution_count": 38,
   "id": "83bb7903",
   "metadata": {},
   "outputs": [
    {
     "name": "stdout",
     "output_type": "stream",
     "text": [
      "    Prominence  Accuracy\n",
      "0            0  0.428571\n",
      "1            5  0.523810\n",
      "2           10  0.476190\n",
      "3           15  0.460317\n",
      "4           20  0.698413\n",
      "5           25  0.793651\n",
      "6           30  0.809524\n",
      "7           35  0.873016\n",
      "8           40  0.904762\n",
      "9           45  0.904762\n",
      "10          50  0.904762\n",
      "11          55  0.888889\n",
      "12          60  0.920635\n",
      "13          65  0.873016\n",
      "14          70  0.888889\n",
      "15          75  0.841270\n",
      "16          80  0.777778\n",
      "17          85  0.698413\n",
      "18          90  0.666667\n",
      "19          95  0.650794\n",
      "20         100  0.603175\n"
     ]
    },
    {
     "data": {
      "image/png": "[encoded data removed]",
      "text/plain": [
       "<Figure size 1000x500 with 1 Axes>"
      ]
     },
     "metadata": {},
     "output_type": "display_data"
    }
   ],
   "source": [
    "from scipy.signal import find_peaks\n",
    "import numpy as np\n",
    "import pandas as pd\n",
    "from sklearn.metrics import accuracy_score\n",
    "\n",
    "\n",
    "clip_lr_df = clip_df[(clip_df[\"week\"].isin([9, 10, 11]))\n",
    "                     & (~clip_df[\"label\"].isin([\"test\", \"no\"]))\n",
    "                     & (~clip_df[\"double\"])\n",
    "                     & (clip_df[\"label\"].isin([\"left\", \"right\"]))].reset_index()\n",
    "\n",
    "\n",
    "clip_lr_df.loc[clip_lr_df[\"week\"].isin([6]), \"label\"] = \\\n",
    "    clip_lr_df.loc[clip_lr_df[\"week\"].isin([6]), \"label\"].map(\n",
    "        {\"left\": \"right\", \"right\": \"left\"}.get)\n",
    "\n",
    "\n",
    "def lr_classify(amp, prominence):\n",
    "    high_peaks, _ = find_peaks(amp, prominence=prominence)\n",
    "    low_peaks, _ = find_peaks(-amp, prominence=prominence)\n",
    "    if len(high_peaks) > 0 and len(low_peaks) > 0:\n",
    "        return \"right\" if np.mean(high_peaks) < np.mean(low_peaks) else \"left\"\n",
    "    return \"none\"\n",
    "\n",
    "\n",
    "prominence_values = range(0, 101, 5)\n",
    "results = []\n",
    "\n",
    "for prominence in prominence_values:\n",
    "    prediction = clip_lr_df[\"amp\"].apply(lr_classify, prominence=prominence).astype(\"category\")\n",
    "    accuracy = accuracy_score(clip_lr_df[\"label\"], prediction)\n",
    "    results.append((prominence, accuracy))\n",
    "\n",
    "results_df = pd.DataFrame(results, columns=[\"Prominence\", \"Accuracy\"])\n",
    "print(results_df)\n",
    "\n",
    "import matplotlib.pyplot as plt\n",
    "\n",
    "plt.figure(figsize=(10, 5))\n",
    "plt.plot(results_df[\"Prominence\"], results_df[\"Accuracy\"], marker='o', linestyle='-', color='blue')\n",
    "plt.xlabel('Prominence')\n",
    "plt.ylabel('Accuracy (%)')\n",
    "plt.title('Accuracy vs Prominence (Left vs Right)')\n",
    "plt.grid(True)\n",
    "plt.show()\n"
   ]
  },
  {
   "cell_type": "markdown",
   "id": "1598c7f8-af4f-46b7-a998-a2334ff50350",
   "metadata": {},
   "source": [
    "### Single vs Double"
   ]
  },
  {
   "cell_type": "code",
   "execution_count": 39,
   "id": "c7be604e-fbbf-4ee1-89ca-baa50f8bcdf2",
   "metadata": {},
   "outputs": [
    {
     "data": {
      "application/vnd.jupyter.widget-view+json": {
       "model_id": "8d4f3f588d474ef09ec396f46bce1470",
       "version_major": 2,
       "version_minor": 0
      },
      "text/plain": [
       "  0%|          | 0/204 [00:00<?, ?it/s]"
      ]
     },
     "metadata": {},
     "output_type": "display_data"
    },
    {
     "data": {
      "text/html": [
       "<div>\n",
       "<style scoped>\n",
       "    .dataframe tbody tr th:only-of-type {\n",
       "        vertical-align: middle;\n",
       "    }\n",
       "\n",
       "    .dataframe tbody tr th {\n",
       "        vertical-align: top;\n",
       "    }\n",
       "\n",
       "    .dataframe thead th {\n",
       "        text-align: right;\n",
       "    }\n",
       "</style>\n",
       "<table border=\"1\" class=\"dataframe\">\n",
       "  <thead>\n",
       "    <tr style=\"text-align: right;\">\n",
       "      <th></th>\n",
       "      <th>index</th>\n",
       "      <th>week</th>\n",
       "      <th>path</th>\n",
       "      <th>label</th>\n",
       "      <th>double</th>\n",
       "      <th>len</th>\n",
       "      <th>n_peak</th>\n",
       "    </tr>\n",
       "  </thead>\n",
       "  <tbody>\n",
       "    <tr>\n",
       "      <th>0</th>\n",
       "      <td>0</td>\n",
       "      <td>10</td>\n",
       "      <td>data\\week10\\1005BLINKS1.csv</td>\n",
       "      <td>blink</td>\n",
       "      <td>False</td>\n",
       "      <td>13633</td>\n",
       "      <td>1</td>\n",
       "    </tr>\n",
       "    <tr>\n",
       "      <th>1</th>\n",
       "      <td>1</td>\n",
       "      <td>10</td>\n",
       "      <td>data\\week10\\1005BLINKS1.csv</td>\n",
       "      <td>blink</td>\n",
       "      <td>False</td>\n",
       "      <td>18306</td>\n",
       "      <td>2</td>\n",
       "    </tr>\n",
       "    <tr>\n",
       "      <th>2</th>\n",
       "      <td>2</td>\n",
       "      <td>10</td>\n",
       "      <td>data\\week10\\1005BLINKS1.csv</td>\n",
       "      <td>blink</td>\n",
       "      <td>False</td>\n",
       "      <td>19781</td>\n",
       "      <td>1</td>\n",
       "    </tr>\n",
       "    <tr>\n",
       "      <th>3</th>\n",
       "      <td>3</td>\n",
       "      <td>10</td>\n",
       "      <td>data\\week10\\1005BLINKS1.csv</td>\n",
       "      <td>blink</td>\n",
       "      <td>False</td>\n",
       "      <td>20012</td>\n",
       "      <td>1</td>\n",
       "    </tr>\n",
       "    <tr>\n",
       "      <th>4</th>\n",
       "      <td>4</td>\n",
       "      <td>10</td>\n",
       "      <td>data\\week10\\1005BLINKS1.csv</td>\n",
       "      <td>blink</td>\n",
       "      <td>False</td>\n",
       "      <td>20089</td>\n",
       "      <td>2</td>\n",
       "    </tr>\n",
       "    <tr>\n",
       "      <th>...</th>\n",
       "      <td>...</td>\n",
       "      <td>...</td>\n",
       "      <td>...</td>\n",
       "      <td>...</td>\n",
       "      <td>...</td>\n",
       "      <td>...</td>\n",
       "      <td>...</td>\n",
       "    </tr>\n",
       "    <tr>\n",
       "      <th>199</th>\n",
       "      <td>251</td>\n",
       "      <td>9</td>\n",
       "      <td>data\\week9\\double\\right\\2204doubleright.csv</td>\n",
       "      <td>right</td>\n",
       "      <td>True</td>\n",
       "      <td>39606</td>\n",
       "      <td>7</td>\n",
       "    </tr>\n",
       "    <tr>\n",
       "      <th>200</th>\n",
       "      <td>252</td>\n",
       "      <td>9</td>\n",
       "      <td>data\\week9\\double\\right\\2204doubleright.csv</td>\n",
       "      <td>right</td>\n",
       "      <td>True</td>\n",
       "      <td>38246</td>\n",
       "      <td>4</td>\n",
       "    </tr>\n",
       "    <tr>\n",
       "      <th>201</th>\n",
       "      <td>253</td>\n",
       "      <td>9</td>\n",
       "      <td>data\\week9\\double\\right\\2204doubleright.csv</td>\n",
       "      <td>right</td>\n",
       "      <td>True</td>\n",
       "      <td>38340</td>\n",
       "      <td>7</td>\n",
       "    </tr>\n",
       "    <tr>\n",
       "      <th>202</th>\n",
       "      <td>254</td>\n",
       "      <td>9</td>\n",
       "      <td>data\\week9\\double\\right\\2204doubleright1.csv</td>\n",
       "      <td>right</td>\n",
       "      <td>True</td>\n",
       "      <td>39440</td>\n",
       "      <td>8</td>\n",
       "    </tr>\n",
       "    <tr>\n",
       "      <th>203</th>\n",
       "      <td>255</td>\n",
       "      <td>9</td>\n",
       "      <td>data\\week9\\double\\right\\2204doubleright1.csv</td>\n",
       "      <td>right</td>\n",
       "      <td>True</td>\n",
       "      <td>34615</td>\n",
       "      <td>8</td>\n",
       "    </tr>\n",
       "  </tbody>\n",
       "</table>\n",
       "<p>204 rows × 7 columns</p>\n",
       "</div>"
      ],
      "text/plain": [
       "     index  week                                          path  label  double  \\\n",
       "0        0    10                   data\\week10\\1005BLINKS1.csv  blink   False   \n",
       "1        1    10                   data\\week10\\1005BLINKS1.csv  blink   False   \n",
       "2        2    10                   data\\week10\\1005BLINKS1.csv  blink   False   \n",
       "3        3    10                   data\\week10\\1005BLINKS1.csv  blink   False   \n",
       "4        4    10                   data\\week10\\1005BLINKS1.csv  blink   False   \n",
       "..     ...   ...                                           ...    ...     ...   \n",
       "199    251     9   data\\week9\\double\\right\\2204doubleright.csv  right    True   \n",
       "200    252     9   data\\week9\\double\\right\\2204doubleright.csv  right    True   \n",
       "201    253     9   data\\week9\\double\\right\\2204doubleright.csv  right    True   \n",
       "202    254     9  data\\week9\\double\\right\\2204doubleright1.csv  right    True   \n",
       "203    255     9  data\\week9\\double\\right\\2204doubleright1.csv  right    True   \n",
       "\n",
       "       len  n_peak  \n",
       "0    13633       1  \n",
       "1    18306       2  \n",
       "2    19781       1  \n",
       "3    20012       1  \n",
       "4    20089       2  \n",
       "..     ...     ...  \n",
       "199  39606       7  \n",
       "200  38246       4  \n",
       "201  38340       7  \n",
       "202  39440       8  \n",
       "203  34615       8  \n",
       "\n",
       "[204 rows x 7 columns]"
      ]
     },
     "execution_count": 39,
     "metadata": {},
     "output_type": "execute_result"
    }
   ],
   "source": [
    "from sklearn.metrics import ConfusionMatrixDisplay, accuracy_score, confusion_matrix\n",
    "\n",
    "clip_dbl_df = clip_df[(clip_df[\"week\"].isin([9, 10, 11]))\n",
    "    & (~clip_df[\"label\"].isin([\"test\", \"no\"]))].reset_index()\n",
    "\n",
    "def dbl_features(amp):\n",
    "    high_peaks, _ = find_peaks(amp, prominence=50)\n",
    "    low_peaks, _ = find_peaks(-amp, prominence=50)\n",
    "    peaks = np.sort(np.concatenate([high_peaks, low_peaks]))\n",
    "    return {\n",
    "        \"len\": len(amp),\n",
    "        \"n_peak\": len(peaks)\n",
    "    }\n",
    "\n",
    "clip_dbl_feat = pd.DataFrame([*clip_dbl_df[\"amp\"].progress_apply(dbl_features)])\n",
    "clip_dbl_feat_df = clip_dbl_df.drop(columns=[\"time\", \"amp\"]).join(clip_dbl_feat)\n",
    "clip_dbl_feat_df"
   ]
  },
  {
   "cell_type": "code",
   "execution_count": 566,
   "id": "34407b42-81d5-4a28-8c68-1799308dd716",
   "metadata": {},
   "outputs": [
    {
     "data": {
      "image/png": "[encoded data removed]",
      "text/plain": [
       "<Figure size 640x480 with 2 Axes>"
      ]
     },
     "metadata": {},
     "output_type": "display_data"
    }
   ],
   "source": [
    "clip_dbl_feat_df[[\"double\", \"len\"]].hist(by=\"double\", sharex=True, layout=[2, 1])\n",
    "plt.show()"
   ]
  },
  {
   "cell_type": "code",
   "execution_count": 570,
   "id": "6dfa142c-3a25-48ac-94b1-e3b62b01440d",
   "metadata": {},
   "outputs": [
    {
     "name": "stdout",
     "output_type": "stream",
     "text": [
      "k-fold score: 92.8%\n"
     ]
    }
   ],
   "source": [
    "X = clip_dbl_feat_df.iloc[:, 5:].to_numpy()\n",
    "y = clip_dbl_feat_df[\"double\"].to_numpy()\n",
    "\n",
    "kf = StratifiedKFold(n_splits=5, shuffle=True, random_state=42)\n",
    "scores = []\n",
    "for i, (train_index, test_index) in enumerate(kf.split(X, y)):\n",
    "    X_train = X[train_index]\n",
    "    y_train = y[train_index]\n",
    "    X_test = X[test_index]\n",
    "    y_test = y[test_index]\n",
    "\n",
    "    model = DecisionTreeClassifier(max_depth=1, class_weight=\"balanced\")\n",
    "    model.fit(X_train, y_train)\n",
    "    scores.append(accuracy_score(y_test, model.predict(X_test)))\n",
    "\n",
    "print(f\"k-fold score: {np.mean(scores):.1%}\")"
   ]
  },
  {
   "cell_type": "code",
   "execution_count": 575,
   "id": "5ae608d1-6054-4d99-b8c4-4fa5d9707a0f",
   "metadata": {},
   "outputs": [
    {
     "data": {
      "image/png": "[encoded data removed]",
      "text/plain": [
       "<Figure size 640x480 with 1 Axes>"
      ]
     },
     "metadata": {},
     "output_type": "display_data"
    }
   ],
   "source": [
    "plot_tree(model,\n",
    "          feature_names=clip_dbl_feat_df.columns[5:],\n",
    "          class_names=[\"single\", \"double\"])\n",
    "plt.show()"
   ]
  },
  {
   "cell_type": "code",
   "execution_count": 44,
   "id": "89a5e766",
   "metadata": {},
   "outputs": [
    {
     "data": {
      "application/vnd.jupyter.widget-view+json": {
       "model_id": "1b10665cba184b0bb1fbb9430910b16a",
       "version_major": 2,
       "version_minor": 0
      },
      "text/plain": [
       "  0%|          | 0/204 [00:00<?, ?it/s]"
      ]
     },
     "metadata": {},
     "output_type": "display_data"
    },
    {
     "data": {
      "application/vnd.jupyter.widget-view+json": {
       "model_id": "8c1406f35c2f448091deb1b0dd280b08",
       "version_major": 2,
       "version_minor": 0
      },
      "text/plain": [
       "  0%|          | 0/204 [00:00<?, ?it/s]"
      ]
     },
     "metadata": {},
     "output_type": "display_data"
    },
    {
     "data": {
      "application/vnd.jupyter.widget-view+json": {
       "model_id": "1287f6a11c384b13a033189c050ef20e",
       "version_major": 2,
       "version_minor": 0
      },
      "text/plain": [
       "  0%|          | 0/204 [00:00<?, ?it/s]"
      ]
     },
     "metadata": {},
     "output_type": "display_data"
    },
    {
     "data": {
      "application/vnd.jupyter.widget-view+json": {
       "model_id": "8bb234541e8b44fca7bc054780d9b34b",
       "version_major": 2,
       "version_minor": 0
      },
      "text/plain": [
       "  0%|          | 0/204 [00:00<?, ?it/s]"
      ]
     },
     "metadata": {},
     "output_type": "display_data"
    },
    {
     "data": {
      "application/vnd.jupyter.widget-view+json": {
       "model_id": "2371f9929885464e92a10ebe7f69a78f",
       "version_major": 2,
       "version_minor": 0
      },
      "text/plain": [
       "  0%|          | 0/204 [00:00<?, ?it/s]"
      ]
     },
     "metadata": {},
     "output_type": "display_data"
    },
    {
     "data": {
      "application/vnd.jupyter.widget-view+json": {
       "model_id": "2b5440e673d64c80a8793603b05feb98",
       "version_major": 2,
       "version_minor": 0
      },
      "text/plain": [
       "  0%|          | 0/204 [00:00<?, ?it/s]"
      ]
     },
     "metadata": {},
     "output_type": "display_data"
    },
    {
     "data": {
      "application/vnd.jupyter.widget-view+json": {
       "model_id": "cc00bfa84f76467ea0dde045d5f9e2b7",
       "version_major": 2,
       "version_minor": 0
      },
      "text/plain": [
       "  0%|          | 0/204 [00:00<?, ?it/s]"
      ]
     },
     "metadata": {},
     "output_type": "display_data"
    },
    {
     "data": {
      "application/vnd.jupyter.widget-view+json": {
       "model_id": "bfbb286d58484662a5c13bd88a5952a9",
       "version_major": 2,
       "version_minor": 0
      },
      "text/plain": [
       "  0%|          | 0/204 [00:00<?, ?it/s]"
      ]
     },
     "metadata": {},
     "output_type": "display_data"
    },
    {
     "data": {
      "application/vnd.jupyter.widget-view+json": {
       "model_id": "7c4d5ef3ec184f73ae6c112300ff3c04",
       "version_major": 2,
       "version_minor": 0
      },
      "text/plain": [
       "  0%|          | 0/204 [00:00<?, ?it/s]"
      ]
     },
     "metadata": {},
     "output_type": "display_data"
    },
    {
     "data": {
      "application/vnd.jupyter.widget-view+json": {
       "model_id": "31208e93cace46bfb780bac55faf1d49",
       "version_major": 2,
       "version_minor": 0
      },
      "text/plain": [
       "  0%|          | 0/204 [00:00<?, ?it/s]"
      ]
     },
     "metadata": {},
     "output_type": "display_data"
    },
    {
     "data": {
      "application/vnd.jupyter.widget-view+json": {
       "model_id": "0981d1aa06604a44a508ecf2d533eb85",
       "version_major": 2,
       "version_minor": 0
      },
      "text/plain": [
       "  0%|          | 0/204 [00:00<?, ?it/s]"
      ]
     },
     "metadata": {},
     "output_type": "display_data"
    },
    {
     "data": {
      "application/vnd.jupyter.widget-view+json": {
       "model_id": "8f52e69598d0484ca9a7588f92a62e3d",
       "version_major": 2,
       "version_minor": 0
      },
      "text/plain": [
       "  0%|          | 0/204 [00:00<?, ?it/s]"
      ]
     },
     "metadata": {},
     "output_type": "display_data"
    },
    {
     "data": {
      "application/vnd.jupyter.widget-view+json": {
       "model_id": "10f623eacda6487693f544c49a710adc",
       "version_major": 2,
       "version_minor": 0
      },
      "text/plain": [
       "  0%|          | 0/204 [00:00<?, ?it/s]"
      ]
     },
     "metadata": {},
     "output_type": "display_data"
    },
    {
     "data": {
      "application/vnd.jupyter.widget-view+json": {
       "model_id": "80ddbd4f6fb14a69803f4ae58ce8834e",
       "version_major": 2,
       "version_minor": 0
      },
      "text/plain": [
       "  0%|          | 0/204 [00:00<?, ?it/s]"
      ]
     },
     "metadata": {},
     "output_type": "display_data"
    },
    {
     "data": {
      "application/vnd.jupyter.widget-view+json": {
       "model_id": "42d88181058b4e3da36fad402b25bb50",
       "version_major": 2,
       "version_minor": 0
      },
      "text/plain": [
       "  0%|          | 0/204 [00:00<?, ?it/s]"
      ]
     },
     "metadata": {},
     "output_type": "display_data"
    },
    {
     "data": {
      "application/vnd.jupyter.widget-view+json": {
       "model_id": "37d38063383441f9b4b7dbb055585fe4",
       "version_major": 2,
       "version_minor": 0
      },
      "text/plain": [
       "  0%|          | 0/204 [00:00<?, ?it/s]"
      ]
     },
     "metadata": {},
     "output_type": "display_data"
    },
    {
     "data": {
      "application/vnd.jupyter.widget-view+json": {
       "model_id": "e4b67fab76824c92bf35660673ef6f71",
       "version_major": 2,
       "version_minor": 0
      },
      "text/plain": [
       "  0%|          | 0/204 [00:00<?, ?it/s]"
      ]
     },
     "metadata": {},
     "output_type": "display_data"
    },
    {
     "data": {
      "application/vnd.jupyter.widget-view+json": {
       "model_id": "9d93a62993404562bcea4274db0b8580",
       "version_major": 2,
       "version_minor": 0
      },
      "text/plain": [
       "  0%|          | 0/204 [00:00<?, ?it/s]"
      ]
     },
     "metadata": {},
     "output_type": "display_data"
    },
    {
     "data": {
      "application/vnd.jupyter.widget-view+json": {
       "model_id": "29fe91fbce46473dbaf3b3e44f5f6771",
       "version_major": 2,
       "version_minor": 0
      },
      "text/plain": [
       "  0%|          | 0/204 [00:00<?, ?it/s]"
      ]
     },
     "metadata": {},
     "output_type": "display_data"
    },
    {
     "data": {
      "application/vnd.jupyter.widget-view+json": {
       "model_id": "c557fa053d2a43b9ae9c2c2ffcd85c97",
       "version_major": 2,
       "version_minor": 0
      },
      "text/plain": [
       "  0%|          | 0/204 [00:00<?, ?it/s]"
      ]
     },
     "metadata": {},
     "output_type": "display_data"
    },
    {
     "data": {
      "application/vnd.jupyter.widget-view+json": {
       "model_id": "da8c02201d774d91ba8e91b30af90555",
       "version_major": 2,
       "version_minor": 0
      },
      "text/plain": [
       "  0%|          | 0/204 [00:00<?, ?it/s]"
      ]
     },
     "metadata": {},
     "output_type": "display_data"
    },
    {
     "name": "stdout",
     "output_type": "stream",
     "text": [
      "    Prominence  Accuracy\n",
      "0            0  0.896829\n",
      "1            5  0.901585\n",
      "2           10  0.906463\n",
      "3           15  0.925976\n",
      "4           20  0.911341\n",
      "5           25  0.911341\n",
      "6           30  0.911341\n",
      "7           35  0.911341\n",
      "8           40  0.911341\n",
      "9           45  0.911341\n",
      "10          50  0.911341\n",
      "11          55  0.911341\n",
      "12          60  0.911341\n",
      "13          65  0.862561\n",
      "14          70  0.892073\n",
      "15          75  0.896707\n",
      "16          80  0.877195\n",
      "17          85  0.877195\n",
      "18          90  0.896707\n",
      "19          95  0.882073\n",
      "20         100  0.891829\n"
     ]
    },
    {
     "data": {
      "image/png": "[encoded data removed]",
      "text/plain": [
       "<Figure size 1000x500 with 1 Axes>"
      ]
     },
     "metadata": {},
     "output_type": "display_data"
    }
   ],
   "source": [
    "from scipy.signal import find_peaks\n",
    "import numpy as np\n",
    "import pandas as pd\n",
    "from sklearn.tree import DecisionTreeClassifier\n",
    "from sklearn.metrics import accuracy_score\n",
    "from sklearn.model_selection import StratifiedKFold\n",
    "\n",
    "def dbl_features(amp, prominence):\n",
    "    high_peaks, _ = find_peaks(amp, prominence=prominence)\n",
    "    low_peaks, _ = find_peaks(-amp, prominence=prominence)\n",
    "    peaks = np.sort(np.concatenate([high_peaks, low_peaks]))\n",
    "    return {\n",
    "        \"len\": len(amp),\n",
    "        \"n_peak\": len(peaks)\n",
    "    }\n",
    "\n",
    "clip_good_df = clip_df[(clip_df[\"week\"].isin([6, 9, 10, 11]))\n",
    "                       & (~clip_df[\"label\"].isin([\"test\", \"no\"]))].reset_index()\n",
    "\n",
    "prominence_values = range(0, 101, 5)\n",
    "results = []\n",
    "\n",
    "for prominence in prominence_values:\n",
    "\n",
    "    clip_dbl_feat = pd.DataFrame([*clip_dbl_df[\"amp\"].progress_apply(dbl_features, prominence=prominence)])\n",
    "    clip_dbl_feat_df = clip_dbl_df.drop(columns=[\"time\", \"amp\"]).join(clip_dbl_feat)\n",
    "\n",
    "    X = clip_dbl_feat_df.iloc[:, 5:].to_numpy()\n",
    "    y = clip_dbl_feat_df[\"double\"].to_numpy()\n",
    "\n",
    "    kf = StratifiedKFold(n_splits=5, shuffle=True, random_state=42)\n",
    "    scores = []\n",
    "    for train_index, test_index in kf.split(X, y):\n",
    "        X_train = X[train_index]\n",
    "        y_train = y[train_index]\n",
    "        X_test = X[test_index]\n",
    "        y_test = y[test_index]\n",
    "\n",
    "        model = DecisionTreeClassifier(max_depth=1, class_weight=\"balanced\")\n",
    "        model.fit(X_train, y_train)\n",
    "        scores.append(accuracy_score(y_test, model.predict(X_test)))\n",
    "\n",
    "    mean_score = np.mean(scores)\n",
    "    results.append((prominence, mean_score))\n",
    "\n",
    "results_df = pd.DataFrame(results, columns=[\"Prominence\", \"Accuracy\"])\n",
    "print(results_df)\n",
    "\n",
    "import matplotlib.pyplot as plt\n",
    "plt.figure(figsize=(10, 5))\n",
    "plt.plot(results_df[\"Prominence\"], results_df[\"Accuracy\"], marker='o', linestyle='-', color='blue')\n",
    "plt.xlabel('Prominence')\n",
    "plt.ylabel('Accuracy')\n",
    "plt.title('Accuracy vs Prominence (Single vs Double)')\n",
    "plt.grid(True)\n",
    "plt.show()\n"
   ]
  },
  {
   "cell_type": "markdown",
   "id": "18cecd97-cfd6-47ad-b029-17013b1079b7",
   "metadata": {},
   "source": [
    "### Combined"
   ]
  },
  {
   "cell_type": "code",
   "execution_count": 1085,
   "id": "49008534-d1e6-484f-8ada-239b964ebe94",
   "metadata": {},
   "outputs": [
    {
     "name": "stdout",
     "output_type": "stream",
     "text": [
      "accuracy score: 61.8%\n"
     ]
    },
    {
     "data": {
      "image/png": "[encoded data removed]",
      "text/plain": [
       "<Figure size 640x480 with 2 Axes>"
      ]
     },
     "metadata": {},
     "output_type": "display_data"
    }
   ],
   "source": [
    "from sklearn.metrics import balanced_accuracy_score\n",
    "\n",
    "def classify(event):\n",
    "    high_peaks, _ = find_peaks(event, prominence=50)\n",
    "    low_peaks, _ = find_peaks(-event, prominence=50)\n",
    "    if len(high_peaks) == 0 or len(low_peaks) == 0:\n",
    "        return \"no\"\n",
    "    peaks = np.sort(np.concatenate((high_peaks, low_peaks)))\n",
    "    min_diff_peak = np.min(np.diff(peaks))\n",
    "    if blink_dt.predict([[min_diff_peak, len(peaks)]]):\n",
    "        movement = \"blink\"\n",
    "    else:\n",
    "        if np.mean(high_peaks) > np.mean(low_peaks):\n",
    "            movement = \"left\"\n",
    "        else:\n",
    "            movement = \"right\"\n",
    "    if len(event) > 34222.5:\n",
    "        movement = f\"double {movement}\"\n",
    "    return movement\n",
    "\n",
    "clip_comb_df = clip_df[(clip_df[\"week\"].isin([9, 11]))\n",
    "    & (~clip_df[\"label\"].isin([\"test\", \"no\"]))].reset_index()\n",
    "\n",
    "# the nodes are swapped in some weeks\n",
    "clip_comb_df.loc[clip_comb_df[\"week\"].isin([6]), \"label\"] = \\\n",
    "    clip_comb_df.loc[clip_comb_df[\"week\"].isin([6]), \"label\"].map(\n",
    "        {\"blink\": \"blink\", \"left\": \"right\", \"right\": \"left\"}.get)\n",
    "\n",
    "prediction = clip_comb_df[\"amp\"].map(classify)\n",
    "label = clip_comb_df.apply(\n",
    "    lambda row: (\"double \" if row[\"double\"] else \"\") + row[\"label\"],\n",
    "    axis=1\n",
    ")\n",
    "\n",
    "print(f\"accuracy score: {balanced_accuracy_score(label, prediction):.1%}\")\n",
    "\n",
    "cm = confusion_matrix(label, prediction, labels=label.unique())\n",
    "ConfusionMatrixDisplay(cm, display_labels=label.unique()).plot()\n",
    "plt.xticks(rotation=45)\n",
    "plt.savefig(\"confmat.png\", bbox_inches=\"tight\")\n",
    "plt.show()"
   ]
  }
 ],
 "metadata": {
  "kernelspec": {
   "display_name": "Python 3 (ipykernel)",
   "language": "python",
   "name": "python3"
  },
  "language_info": {
   "codemirror_mode": {
    "name": "ipython",
    "version": 3
   },
   "file_extension": ".py",
   "mimetype": "text/x-python",
   "name": "python",
   "nbconvert_exporter": "python",
   "pygments_lexer": "ipython3",
   "version": "3.10.9"
  }
 },
 "nbformat": 4,
 "nbformat_minor": 5
}
