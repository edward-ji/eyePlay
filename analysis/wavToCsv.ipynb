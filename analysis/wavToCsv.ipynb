{
 "cells": [
  {
   "cell_type": "code",
   "execution_count": 4,
   "id": "a5d50438",
   "metadata": {},
   "outputs": [
    {
     "name": "stdout",
     "output_type": "stream",
     "text": [
      "Input file number:40secondups_UDbox1.wav\n",
      "Load is Done! \n",
      "\n",
      "Mono .wav file\n",
      "\n",
      "Save is done in directory: ./data/week7\n"
     ]
    }
   ],
   "source": [
    "import sys\n",
    "from scipy.io import wavfile\n",
    "import pandas as pd\n",
    "import os\n",
    "\n",
    "input_filename = input(\"Input file number:\")\n",
    "if input_filename[-3:] != 'wav':\n",
    "    print('WARNING!! Input File format should be *.wav')\n",
    "    sys.exit()\n",
    "\n",
    "# Specify the base path for saving the output files\n",
    "save_directory = \"./data/week7\"\n",
    "if not os.path.exists(save_directory):\n",
    "    os.makedirs(save_directory)\n",
    "\n",
    "# Read WAV file data, specify the read directory here\n",
    "samrate, data = wavfile.read('./data/week7/' + input_filename)\n",
    "print('Load is Done! \\n')\n",
    "\n",
    "time_stamps = pd.Series((1/samrate) * i for i in range(len(data)))\n",
    "\n",
    "wavData = pd.DataFrame(data)\n",
    "\n",
    "wavData.insert(0, 'Time', time_stamps)\n",
    "\n",
    "if wavData.shape[1] == 3: \n",
    "    print('Stereo .wav file\\n')\n",
    "    wavData.columns = ['Time', 'R', 'L']\n",
    "    \n",
    "    stereo_R = wavData[['Time', 'R']]\n",
    "    stereo_L = wavData[['Time', 'L']]\n",
    "    \n",
    "    print('Saving...\\n')\n",
    "    stereo_R.to_csv(os.path.join(save_directory, input_filename[:-4] + \"_Output_stereo_R.csv\"), index=False, header=False)\n",
    "    stereo_L.to_csv(os.path.join(save_directory, input_filename[:-4] + \"_Output_stereo_L.csv\"), index=False, header=False)\n",
    "    \n",
    "    print('Save is done in directory: ' + save_directory)\n",
    "\n",
    "elif wavData.shape[1] == 2: \n",
    "    print('Mono .wav file\\n')\n",
    "    wavData.columns = ['Time', 'M']\n",
    "    \n",
    "    wavData.to_csv(os.path.join(save_directory, input_filename[:-4] + \".csv\"), index=False, header=False)\n",
    "    \n",
    "    print('Save is done in directory: ' + save_directory)\n",
    "\n",
    "else:\n",
    "    print('Multi channel .wav file\\n')\n",
    "    channel_names = ['Time'] + ['Channel_{}'.format(i) for i in range(1, wavData.shape[1])]\n",
    "    wavData.columns = channel_names\n",
    "    \n",
    "    wavData.to_csv(os.path.join(save_directory, input_filename[:-4] + \".csv\"), index=False, header=False)\n",
    "    \n",
    "    print('Save is done in directory: ' + save_directory)\n"
   ]
  },
  {
   "cell_type": "code",
   "execution_count": null,
   "id": "c3a227eb",
   "metadata": {},
   "outputs": [],
   "source": []
  }
 ],
 "metadata": {
  "kernelspec": {
   "display_name": "Python 3 (ipykernel)",
   "language": "python",
   "name": "python3"
  },
  "language_info": {
   "codemirror_mode": {
    "name": "ipython",
    "version": 3
   },
   "file_extension": ".py",
   "mimetype": "text/x-python",
   "name": "python",
   "nbconvert_exporter": "python",
   "pygments_lexer": "ipython3",
   "version": "3.10.9"
  }
 },
 "nbformat": 4,
 "nbformat_minor": 5
}
